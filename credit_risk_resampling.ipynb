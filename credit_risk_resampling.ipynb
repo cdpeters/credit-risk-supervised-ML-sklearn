{
 "cells": [
  {
   "cell_type": "markdown",
   "metadata": {
    "cell_id": "b15afca2-f0eb-43aa-ab42-3fa0e27dec5b",
    "deepnote_cell_height": 81.953125,
    "deepnote_cell_type": "markdown"
   },
   "source": [
    "# Credit Risk Resampling Techniques"
   ]
  },
  {
   "cell_type": "code",
   "execution_count": 1,
   "metadata": {
    "cell_id": "00001-e210691d-3c68-41c2-9021-32d42db1f141",
    "deepnote_cell_height": 98.9375,
    "deepnote_cell_type": "code",
    "deepnote_to_be_reexecuted": false,
    "execution_millis": 44,
    "execution_start": 1651997779309,
    "source_hash": "17e3dbca"
   },
   "outputs": [],
   "source": [
    "import warnings\n",
    "warnings.filterwarnings('ignore')"
   ]
  },
  {
   "cell_type": "code",
   "execution_count": 2,
   "metadata": {
    "cell_id": "00002-d7d0bbc0-5c6f-45df-9148-a1c7ec3756df",
    "deepnote_cell_height": 278.9375,
    "deepnote_cell_type": "code",
    "deepnote_to_be_reexecuted": false,
    "execution_millis": 1140,
    "execution_start": 1651997779353,
    "source_hash": "78f5a276"
   },
   "outputs": [],
   "source": [
    "from collections import Counter\n",
    "from pathlib import Path\n",
    "\n",
    "from imblearn.combine import SMOTEENN\n",
    "from imblearn.metrics import classification_report_imbalanced\n",
    "from imblearn.over_sampling import RandomOverSampler, SMOTE\n",
    "from imblearn.under_sampling import ClusterCentroids\n",
    "import numpy as np\n",
    "import pandas as pd\n",
    "from sklearn.linear_model import LogisticRegression\n",
    "from sklearn.model_selection import train_test_split\n",
    "from sklearn.metrics import balanced_accuracy_score, confusion_matrix"
   ]
  },
  {
   "cell_type": "markdown",
   "metadata": {
    "cell_id": "00003-c234622c-4e31-4517-85b9-8be3a9789c72",
    "deepnote_cell_height": 133.953125,
    "deepnote_cell_type": "markdown"
   },
   "source": [
    "# Read the CSV and Perform Basic Data Cleaning"
   ]
  },
  {
   "cell_type": "code",
   "execution_count": 3,
   "metadata": {
    "cell_id": "00004-1ead12d2-58c0-4f00-ae23-3a4c01de521c",
    "deepnote_cell_height": 530.9375,
    "deepnote_cell_type": "code",
    "deepnote_to_be_reexecuted": false,
    "execution_millis": 7,
    "execution_start": 1651997780507,
    "source_hash": "19f03097"
   },
   "outputs": [],
   "source": [
    "columns = [\n",
    "    \"loan_amnt\", \"int_rate\", \"installment\", \"home_ownership\",\n",
    "    \"annual_inc\", \"verification_status\", \"issue_d\", \"loan_status\",\n",
    "    \"pymnt_plan\", \"dti\", \"delinq_2yrs\", \"inq_last_6mths\",\n",
    "    \"open_acc\", \"pub_rec\", \"revol_bal\", \"total_acc\",\n",
    "    \"initial_list_status\", \"out_prncp\", \"out_prncp_inv\", \"total_pymnt\",\n",
    "    \"total_pymnt_inv\", \"total_rec_prncp\", \"total_rec_int\", \"total_rec_late_fee\",\n",
    "    \"recoveries\", \"collection_recovery_fee\", \"last_pymnt_amnt\", \"next_pymnt_d\",\n",
    "    \"collections_12_mths_ex_med\", \"policy_code\", \"application_type\", \"acc_now_delinq\",\n",
    "    \"tot_coll_amt\", \"tot_cur_bal\", \"open_acc_6m\", \"open_act_il\",\n",
    "    \"open_il_12m\", \"open_il_24m\", \"mths_since_rcnt_il\", \"total_bal_il\",\n",
    "    \"il_util\", \"open_rv_12m\", \"open_rv_24m\", \"max_bal_bc\",\n",
    "    \"all_util\", \"total_rev_hi_lim\", \"inq_fi\", \"total_cu_tl\",\n",
    "    \"inq_last_12m\", \"acc_open_past_24mths\", \"avg_cur_bal\", \"bc_open_to_buy\",\n",
    "    \"bc_util\", \"chargeoff_within_12_mths\", \"delinq_amnt\", \"mo_sin_old_il_acct\",\n",
    "    \"mo_sin_old_rev_tl_op\", \"mo_sin_rcnt_rev_tl_op\", \"mo_sin_rcnt_tl\", \"mort_acc\",\n",
    "    \"mths_since_recent_bc\", \"mths_since_recent_inq\", \"num_accts_ever_120_pd\", \"num_actv_bc_tl\",\n",
    "    \"num_actv_rev_tl\", \"num_bc_sats\", \"num_bc_tl\", \"num_il_tl\",\n",
    "    \"num_op_rev_tl\", \"num_rev_accts\", \"num_rev_tl_bal_gt_0\",\n",
    "    \"num_sats\", \"num_tl_120dpd_2m\", \"num_tl_30dpd\", \"num_tl_90g_dpd_24m\",\n",
    "    \"num_tl_op_past_12m\", \"pct_tl_nvr_dlq\", \"percent_bc_gt_75\", \"pub_rec_bankruptcies\",\n",
    "    \"tax_liens\", \"tot_hi_cred_lim\", \"total_bal_ex_mort\", \"total_bc_limit\",\n",
    "    \"total_il_high_credit_limit\", \"hardship_flag\", \"debt_settlement_flag\"\n",
    "]\n",
    "\n",
    "target = [\"loan_status\"]"
   ]
  },
  {
   "cell_type": "code",
   "execution_count": 4,
   "metadata": {
    "cell_id": "00005-dd0b72df-9be9-4c97-9fdc-4ec2e55599db",
    "deepnote_cell_height": 971.140625,
    "deepnote_cell_type": "code",
    "deepnote_to_be_reexecuted": false,
    "execution_millis": 3474,
    "execution_start": 1651997780517,
    "source_hash": "eb658163"
   },
   "outputs": [
    {
     "data": {
      "application/vnd.deepnote.dataframe.v3+json": {
       "column_count": 86,
       "columns": [
        {
         "dtype": "float64",
         "name": "loan_amnt",
         "stats": {
          "histogram": [
           {
            "bin_end": 11500,
            "bin_start": 10000,
            "count": 2
           },
           {
            "bin_end": 13000,
            "bin_start": 11500,
            "count": 0
           },
           {
            "bin_end": 14500,
            "bin_start": 13000,
            "count": 0
           },
           {
            "bin_end": 16000,
            "bin_start": 14500,
            "count": 0
           },
           {
            "bin_end": 17500,
            "bin_start": 16000,
            "count": 0
           },
           {
            "bin_end": 19000,
            "bin_start": 17500,
            "count": 0
           },
           {
            "bin_end": 20500,
            "bin_start": 19000,
            "count": 1
           },
           {
            "bin_end": 22000,
            "bin_start": 20500,
            "count": 0
           },
           {
            "bin_end": 23500,
            "bin_start": 22000,
            "count": 1
           },
           {
            "bin_end": 25000,
            "bin_start": 23500,
            "count": 1
           }
          ],
          "max": "25000.0",
          "min": "10000.0",
          "nan_count": 0,
          "unique_count": 5
         }
        },
        {
         "dtype": "float64",
         "name": "int_rate",
         "stats": {
          "histogram": [
           {
            "bin_end": 0.15266000000000002,
            "bin_start": 0.1474,
            "count": 1
           },
           {
            "bin_end": 0.15792,
            "bin_start": 0.15266000000000002,
            "count": 0
           },
           {
            "bin_end": 0.16318,
            "bin_start": 0.15792,
            "count": 0
           },
           {
            "bin_end": 0.16844,
            "bin_start": 0.16318,
            "count": 1
           },
           {
            "bin_end": 0.17370000000000002,
            "bin_start": 0.16844,
            "count": 1
           },
           {
            "bin_end": 0.17896,
            "bin_start": 0.17370000000000002,
            "count": 0
           },
           {
            "bin_end": 0.18422,
            "bin_start": 0.17896,
            "count": 0
           },
           {
            "bin_end": 0.18948,
            "bin_start": 0.18422,
            "count": 0
           },
           {
            "bin_end": 0.19474000000000002,
            "bin_start": 0.18948,
            "count": 0
           },
           {
            "bin_end": 0.2,
            "bin_start": 0.19474000000000002,
            "count": 2
           }
          ],
          "max": "0.2",
          "min": "0.1474",
          "nan_count": 0,
          "unique_count": 4
         }
        },
        {
         "dtype": "float64",
         "name": "installment",
         "stats": {
          "histogram": [
           {
            "bin_end": 411.104,
            "bin_start": 353.55,
            "count": 2
           },
           {
            "bin_end": 468.658,
            "bin_start": 411.104,
            "count": 0
           },
           {
            "bin_end": 526.212,
            "bin_start": 468.658,
            "count": 1
           },
           {
            "bin_end": 583.766,
            "bin_start": 526.212,
            "count": 1
           },
           {
            "bin_end": 641.3199999999999,
            "bin_start": 583.766,
            "count": 0
           },
           {
            "bin_end": 698.874,
            "bin_start": 641.3199999999999,
            "count": 0
           },
           {
            "bin_end": 756.428,
            "bin_start": 698.874,
            "count": 0
           },
           {
            "bin_end": 813.982,
            "bin_start": 756.428,
            "count": 0
           },
           {
            "bin_end": 871.5360000000001,
            "bin_start": 813.982,
            "count": 0
           },
           {
            "bin_end": 929.09,
            "bin_start": 871.5360000000001,
            "count": 1
           }
          ],
          "max": "929.09",
          "min": "353.55",
          "nan_count": 0,
          "unique_count": 5
         }
        },
        {
         "dtype": "object",
         "name": "home_ownership",
         "stats": {
          "categories": [
           {
            "count": 3,
            "name": "MORTGAGE"
           },
           {
            "count": 2,
            "name": "RENT"
           }
          ],
          "nan_count": 0,
          "unique_count": 2
         }
        },
        {
         "dtype": "float64",
         "name": "annual_inc",
         "stats": {
          "histogram": [
           {
            "bin_end": 57300,
            "bin_start": 52000,
            "count": 2
           },
           {
            "bin_end": 62600,
            "bin_start": 57300,
            "count": 0
           },
           {
            "bin_end": 67900,
            "bin_start": 62600,
            "count": 1
           },
           {
            "bin_end": 73200,
            "bin_start": 67900,
            "count": 0
           },
           {
            "bin_end": 78500,
            "bin_start": 73200,
            "count": 0
           },
           {
            "bin_end": 83800,
            "bin_start": 78500,
            "count": 0
           },
           {
            "bin_end": 89100,
            "bin_start": 83800,
            "count": 0
           },
           {
            "bin_end": 94400,
            "bin_start": 89100,
            "count": 1
           },
           {
            "bin_end": 99700,
            "bin_start": 94400,
            "count": 0
           },
           {
            "bin_end": 105000,
            "bin_start": 99700,
            "count": 1
           }
          ],
          "max": "105000.0",
          "min": "52000.0",
          "nan_count": 0,
          "unique_count": 5
         }
        },
        {
         "dtype": "object",
         "name": "verification_status",
         "stats": {
          "categories": [
           {
            "count": 3,
            "name": "Verified"
           },
           {
            "count": 1,
            "name": "Source Verified"
           },
           {
            "count": 1,
            "name": "Not Verified"
           }
          ],
          "nan_count": 0,
          "unique_count": 3
         }
        },
        {
         "dtype": "object",
         "name": "issue_d",
         "stats": {
          "categories": [
           {
            "count": 5,
            "name": "Mar-2019"
           }
          ],
          "nan_count": 0,
          "unique_count": 1
         }
        },
        {
         "dtype": "object",
         "name": "loan_status",
         "stats": {
          "categories": [
           {
            "count": 5,
            "name": "low_risk"
           }
          ],
          "nan_count": 0,
          "unique_count": 1
         }
        },
        {
         "dtype": "object",
         "name": "pymnt_plan",
         "stats": {
          "categories": [
           {
            "count": 5,
            "name": "n"
           }
          ],
          "nan_count": 0,
          "unique_count": 1
         }
        },
        {
         "dtype": "float64",
         "name": "dti",
         "stats": {
          "histogram": [
           {
            "bin_end": 20.028000000000002,
            "bin_start": 18.76,
            "count": 1
           },
           {
            "bin_end": 21.296000000000003,
            "bin_start": 20.028000000000002,
            "count": 1
           },
           {
            "bin_end": 22.564,
            "bin_start": 21.296000000000003,
            "count": 0
           },
           {
            "bin_end": 23.832,
            "bin_start": 22.564,
            "count": 0
           },
           {
            "bin_end": 25.1,
            "bin_start": 23.832,
            "count": 1
           },
           {
            "bin_end": 26.368000000000002,
            "bin_start": 25.1,
            "count": 0
           },
           {
            "bin_end": 27.636000000000003,
            "bin_start": 26.368000000000002,
            "count": 1
           },
           {
            "bin_end": 28.904000000000003,
            "bin_start": 27.636000000000003,
            "count": 0
           },
           {
            "bin_end": 30.172000000000004,
            "bin_start": 28.904000000000003,
            "count": 0
           },
           {
            "bin_end": 31.44,
            "bin_start": 30.172000000000004,
            "count": 1
           }
          ],
          "max": "31.44",
          "min": "18.76",
          "nan_count": 0,
          "unique_count": 5
         }
        },
        {
         "dtype": "float64",
         "name": "delinq_2yrs",
         "stats": {
          "histogram": [
           {
            "bin_end": -0.4,
            "bin_start": -0.5,
            "count": 0
           },
           {
            "bin_end": -0.3,
            "bin_start": -0.4,
            "count": 0
           },
           {
            "bin_end": -0.19999999999999996,
            "bin_start": -0.3,
            "count": 0
           },
           {
            "bin_end": -0.09999999999999998,
            "bin_start": -0.19999999999999996,
            "count": 0
           },
           {
            "bin_end": 0,
            "bin_start": -0.09999999999999998,
            "count": 0
           },
           {
            "bin_end": 0.10000000000000009,
            "bin_start": 0,
            "count": 5
           },
           {
            "bin_end": 0.20000000000000007,
            "bin_start": 0.10000000000000009,
            "count": 0
           },
           {
            "bin_end": 0.30000000000000004,
            "bin_start": 0.20000000000000007,
            "count": 0
           },
           {
            "bin_end": 0.4,
            "bin_start": 0.30000000000000004,
            "count": 0
           },
           {
            "bin_end": 0.5,
            "bin_start": 0.4,
            "count": 0
           }
          ],
          "max": "0.0",
          "min": "0.0",
          "nan_count": 0,
          "unique_count": 1
         }
        },
        {
         "dtype": "float64",
         "name": "inq_last_6mths",
         "stats": {
          "histogram": [
           {
            "bin_end": 0.1,
            "bin_start": 0,
            "count": 3
           },
           {
            "bin_end": 0.2,
            "bin_start": 0.1,
            "count": 0
           },
           {
            "bin_end": 0.30000000000000004,
            "bin_start": 0.2,
            "count": 0
           },
           {
            "bin_end": 0.4,
            "bin_start": 0.30000000000000004,
            "count": 0
           },
           {
            "bin_end": 0.5,
            "bin_start": 0.4,
            "count": 0
           },
           {
            "bin_end": 0.6000000000000001,
            "bin_start": 0.5,
            "count": 0
           },
           {
            "bin_end": 0.7000000000000001,
            "bin_start": 0.6000000000000001,
            "count": 0
           },
           {
            "bin_end": 0.8,
            "bin_start": 0.7000000000000001,
            "count": 0
           },
           {
            "bin_end": 0.9,
            "bin_start": 0.8,
            "count": 0
           },
           {
            "bin_end": 1,
            "bin_start": 0.9,
            "count": 2
           }
          ],
          "max": "1.0",
          "min": "0.0",
          "nan_count": 0,
          "unique_count": 2
         }
        },
        {
         "dtype": "float64",
         "name": "open_acc",
         "stats": {
          "histogram": [
           {
            "bin_end": 8.9,
            "bin_start": 8,
            "count": 2
           },
           {
            "bin_end": 9.8,
            "bin_start": 8.9,
            "count": 0
           },
           {
            "bin_end": 10.7,
            "bin_start": 9.8,
            "count": 1
           },
           {
            "bin_end": 11.6,
            "bin_start": 10.7,
            "count": 0
           },
           {
            "bin_end": 12.5,
            "bin_start": 11.6,
            "count": 0
           },
           {
            "bin_end": 13.4,
            "bin_start": 12.5,
            "count": 0
           },
           {
            "bin_end": 14.3,
            "bin_start": 13.4,
            "count": 1
           },
           {
            "bin_end": 15.2,
            "bin_start": 14.3,
            "count": 0
           },
           {
            "bin_end": 16.1,
            "bin_start": 15.2,
            "count": 0
           },
           {
            "bin_end": 17,
            "bin_start": 16.1,
            "count": 1
           }
          ],
          "max": "17.0",
          "min": "8.0",
          "nan_count": 0,
          "unique_count": 4
         }
        },
        {
         "dtype": "float64",
         "name": "pub_rec",
         "stats": {
          "histogram": [
           {
            "bin_end": 0.1,
            "bin_start": 0,
            "count": 3
           },
           {
            "bin_end": 0.2,
            "bin_start": 0.1,
            "count": 0
           },
           {
            "bin_end": 0.30000000000000004,
            "bin_start": 0.2,
            "count": 0
           },
           {
            "bin_end": 0.4,
            "bin_start": 0.30000000000000004,
            "count": 0
           },
           {
            "bin_end": 0.5,
            "bin_start": 0.4,
            "count": 0
           },
           {
            "bin_end": 0.6000000000000001,
            "bin_start": 0.5,
            "count": 0
           },
           {
            "bin_end": 0.7000000000000001,
            "bin_start": 0.6000000000000001,
            "count": 0
           },
           {
            "bin_end": 0.8,
            "bin_start": 0.7000000000000001,
            "count": 0
           },
           {
            "bin_end": 0.9,
            "bin_start": 0.8,
            "count": 0
           },
           {
            "bin_end": 1,
            "bin_start": 0.9,
            "count": 2
           }
          ],
          "max": "1.0",
          "min": "0.0",
          "nan_count": 0,
          "unique_count": 2
         }
        },
        {
         "dtype": "float64",
         "name": "revol_bal",
         "stats": {
          "histogram": [
           {
            "bin_end": 3284.9,
            "bin_start": 1609,
            "count": 1
           },
           {
            "bin_end": 4960.8,
            "bin_start": 3284.9,
            "count": 0
           },
           {
            "bin_end": 6636.700000000001,
            "bin_start": 4960.8,
            "count": 0
           },
           {
            "bin_end": 8312.6,
            "bin_start": 6636.700000000001,
            "count": 0
           },
           {
            "bin_end": 9988.5,
            "bin_start": 8312.6,
            "count": 1
           },
           {
            "bin_end": 11664.400000000001,
            "bin_start": 9988.5,
            "count": 0
           },
           {
            "bin_end": 13340.300000000001,
            "bin_start": 11664.400000000001,
            "count": 1
           },
           {
            "bin_end": 15016.2,
            "bin_start": 13340.300000000001,
            "count": 0
           },
           {
            "bin_end": 16692.1,
            "bin_start": 15016.2,
            "count": 0
           },
           {
            "bin_end": 18368,
            "bin_start": 16692.1,
            "count": 2
           }
          ],
          "max": "18368.0",
          "min": "1609.0",
          "nan_count": 0,
          "unique_count": 5
         }
        },
        {
         "dtype": "float64",
         "name": "total_acc",
         "stats": {
          "histogram": [
           {
            "bin_end": 16,
            "bin_start": 14,
            "count": 1
           },
           {
            "bin_end": 18,
            "bin_start": 16,
            "count": 0
           },
           {
            "bin_end": 20,
            "bin_start": 18,
            "count": 0
           },
           {
            "bin_end": 22,
            "bin_start": 20,
            "count": 1
           },
           {
            "bin_end": 24,
            "bin_start": 22,
            "count": 1
           },
           {
            "bin_end": 26,
            "bin_start": 24,
            "count": 0
           },
           {
            "bin_end": 28,
            "bin_start": 26,
            "count": 0
           },
           {
            "bin_end": 30,
            "bin_start": 28,
            "count": 1
           },
           {
            "bin_end": 32,
            "bin_start": 30,
            "count": 0
           },
           {
            "bin_end": 34,
            "bin_start": 32,
            "count": 1
           }
          ],
          "max": "34.0",
          "min": "14.0",
          "nan_count": 0,
          "unique_count": 5
         }
        },
        {
         "dtype": "object",
         "name": "initial_list_status",
         "stats": {
          "categories": [
           {
            "count": 5,
            "name": "w"
           }
          ],
          "nan_count": 0,
          "unique_count": 1
         }
        },
        {
         "dtype": "float64",
         "name": "out_prncp",
         "stats": {
          "histogram": [
           {
            "bin_end": 11176.719000000001,
            "bin_start": 9719.34,
            "count": 2
           },
           {
            "bin_end": 12634.098,
            "bin_start": 11176.719000000001,
            "count": 0
           },
           {
            "bin_end": 14091.477,
            "bin_start": 12634.098,
            "count": 0
           },
           {
            "bin_end": 15548.856,
            "bin_start": 14091.477,
            "count": 0
           },
           {
            "bin_end": 17006.235,
            "bin_start": 15548.856,
            "count": 0
           },
           {
            "bin_end": 18463.614,
            "bin_start": 17006.235,
            "count": 0
           },
           {
            "bin_end": 19920.993000000002,
            "bin_start": 18463.614,
            "count": 1
           },
           {
            "bin_end": 21378.372000000003,
            "bin_start": 19920.993000000002,
            "count": 0
           },
           {
            "bin_end": 22835.751000000004,
            "bin_start": 21378.372000000003,
            "count": 1
           },
           {
            "bin_end": 24293.13,
            "bin_start": 22835.751000000004,
            "count": 1
           }
          ],
          "max": "24293.13",
          "min": "9719.34",
          "nan_count": 0,
          "unique_count": 5
         }
        },
        {
         "dtype": "float64",
         "name": "out_prncp_inv",
         "stats": {
          "histogram": [
           {
            "bin_end": 11176.719000000001,
            "bin_start": 9719.34,
            "count": 2
           },
           {
            "bin_end": 12634.098,
            "bin_start": 11176.719000000001,
            "count": 0
           },
           {
            "bin_end": 14091.477,
            "bin_start": 12634.098,
            "count": 0
           },
           {
            "bin_end": 15548.856,
            "bin_start": 14091.477,
            "count": 0
           },
           {
            "bin_end": 17006.235,
            "bin_start": 15548.856,
            "count": 0
           },
           {
            "bin_end": 18463.614,
            "bin_start": 17006.235,
            "count": 0
           },
           {
            "bin_end": 19920.993000000002,
            "bin_start": 18463.614,
            "count": 1
           },
           {
            "bin_end": 21378.372000000003,
            "bin_start": 19920.993000000002,
            "count": 0
           },
           {
            "bin_end": 22835.751000000004,
            "bin_start": 21378.372000000003,
            "count": 1
           },
           {
            "bin_end": 24293.13,
            "bin_start": 22835.751000000004,
            "count": 1
           }
          ],
          "max": "24293.13",
          "min": "9719.34",
          "nan_count": 0,
          "unique_count": 5
         }
        },
        {
         "dtype": "float64",
         "name": "total_pymnt",
         "stats": {
          "histogram": [
           {
            "bin_end": 389.15,
            "bin_start": 335.33,
            "count": 2
           },
           {
            "bin_end": 442.97,
            "bin_start": 389.15,
            "count": 0
           },
           {
            "bin_end": 496.79,
            "bin_start": 442.97,
            "count": 2
           },
           {
            "bin_end": 550.61,
            "bin_start": 496.79,
            "count": 0
           },
           {
            "bin_end": 604.4300000000001,
            "bin_start": 550.61,
            "count": 0
           },
           {
            "bin_end": 658.25,
            "bin_start": 604.4300000000001,
            "count": 0
           },
           {
            "bin_end": 712.07,
            "bin_start": 658.25,
            "count": 0
           },
           {
            "bin_end": 765.8900000000001,
            "bin_start": 712.07,
            "count": 0
           },
           {
            "bin_end": 819.71,
            "bin_start": 765.8900000000001,
            "count": 0
           },
           {
            "bin_end": 873.53,
            "bin_start": 819.71,
            "count": 1
           }
          ],
          "max": "873.53",
          "min": "335.33",
          "nan_count": 0,
          "unique_count": 5
         }
        },
        {
         "dtype": "float64",
         "name": "total_pymnt_inv",
         "stats": {
          "histogram": [
           {
            "bin_end": 389.15,
            "bin_start": 335.33,
            "count": 2
           },
           {
            "bin_end": 442.97,
            "bin_start": 389.15,
            "count": 0
           },
           {
            "bin_end": 496.79,
            "bin_start": 442.97,
            "count": 2
           },
           {
            "bin_end": 550.61,
            "bin_start": 496.79,
            "count": 0
           },
           {
            "bin_end": 604.4300000000001,
            "bin_start": 550.61,
            "count": 0
           },
           {
            "bin_end": 658.25,
            "bin_start": 604.4300000000001,
            "count": 0
           },
           {
            "bin_end": 712.07,
            "bin_start": 658.25,
            "count": 0
           },
           {
            "bin_end": 765.8900000000001,
            "bin_start": 712.07,
            "count": 0
           },
           {
            "bin_end": 819.71,
            "bin_start": 765.8900000000001,
            "count": 0
           },
           {
            "bin_end": 873.53,
            "bin_start": 819.71,
            "count": 1
           }
          ],
          "max": "873.53",
          "min": "335.33",
          "nan_count": 0,
          "unique_count": 5
         }
        },
        {
         "dtype": "float64",
         "name": "total_rec_prncp",
         "stats": {
          "histogram": [
           {
            "bin_end": 323.281,
            "bin_start": 280.66,
            "count": 2
           },
           {
            "bin_end": 365.90200000000004,
            "bin_start": 323.281,
            "count": 1
           },
           {
            "bin_end": 408.523,
            "bin_start": 365.90200000000004,
            "count": 1
           },
           {
            "bin_end": 451.144,
            "bin_start": 408.523,
            "count": 0
           },
           {
            "bin_end": 493.765,
            "bin_start": 451.144,
            "count": 0
           },
           {
            "bin_end": 536.386,
            "bin_start": 493.765,
            "count": 0
           },
           {
            "bin_end": 579.0070000000001,
            "bin_start": 536.386,
            "count": 0
           },
           {
            "bin_end": 621.6279999999999,
            "bin_start": 579.0070000000001,
            "count": 0
           },
           {
            "bin_end": 664.249,
            "bin_start": 621.6279999999999,
            "count": 0
           },
           {
            "bin_end": 706.87,
            "bin_start": 664.249,
            "count": 1
           }
          ],
          "max": "706.87",
          "min": "280.66",
          "nan_count": 0,
          "unique_count": 5
         }
        },
        {
         "dtype": "float64",
         "name": "total_rec_int",
         "stats": {
          "histogram": [
           {
            "bin_end": 65.869,
            "bin_start": 54.67,
            "count": 2
           },
           {
            "bin_end": 77.068,
            "bin_start": 65.869,
            "count": 0
           },
           {
            "bin_end": 88.267,
            "bin_start": 77.068,
            "count": 0
           },
           {
            "bin_end": 99.46600000000001,
            "bin_start": 88.267,
            "count": 1
           },
           {
            "bin_end": 110.66499999999999,
            "bin_start": 99.46600000000001,
            "count": 0
           },
           {
            "bin_end": 121.864,
            "bin_start": 110.66499999999999,
            "count": 0
           },
           {
            "bin_end": 133.063,
            "bin_start": 121.864,
            "count": 1
           },
           {
            "bin_end": 144.262,
            "bin_start": 133.063,
            "count": 0
           },
           {
            "bin_end": 155.461,
            "bin_start": 144.262,
            "count": 0
           },
           {
            "bin_end": 166.66,
            "bin_start": 155.461,
            "count": 1
           }
          ],
          "max": "166.66",
          "min": "54.67",
          "nan_count": 0,
          "unique_count": 5
         }
        },
        {
         "dtype": "float64",
         "name": "total_rec_late_fee",
         "stats": {
          "histogram": [
           {
            "bin_end": -0.4,
            "bin_start": -0.5,
            "count": 0
           },
           {
            "bin_end": -0.3,
            "bin_start": -0.4,
            "count": 0
           },
           {
            "bin_end": -0.19999999999999996,
            "bin_start": -0.3,
            "count": 0
           },
           {
            "bin_end": -0.09999999999999998,
            "bin_start": -0.19999999999999996,
            "count": 0
           },
           {
            "bin_end": 0,
            "bin_start": -0.09999999999999998,
            "count": 0
           },
           {
            "bin_end": 0.10000000000000009,
            "bin_start": 0,
            "count": 5
           },
           {
            "bin_end": 0.20000000000000007,
            "bin_start": 0.10000000000000009,
            "count": 0
           },
           {
            "bin_end": 0.30000000000000004,
            "bin_start": 0.20000000000000007,
            "count": 0
           },
           {
            "bin_end": 0.4,
            "bin_start": 0.30000000000000004,
            "count": 0
           },
           {
            "bin_end": 0.5,
            "bin_start": 0.4,
            "count": 0
           }
          ],
          "max": "0.0",
          "min": "0.0",
          "nan_count": 0,
          "unique_count": 1
         }
        },
        {
         "dtype": "float64",
         "name": "recoveries",
         "stats": {
          "histogram": [
           {
            "bin_end": -0.4,
            "bin_start": -0.5,
            "count": 0
           },
           {
            "bin_end": -0.3,
            "bin_start": -0.4,
            "count": 0
           },
           {
            "bin_end": -0.19999999999999996,
            "bin_start": -0.3,
            "count": 0
           },
           {
            "bin_end": -0.09999999999999998,
            "bin_start": -0.19999999999999996,
            "count": 0
           },
           {
            "bin_end": 0,
            "bin_start": -0.09999999999999998,
            "count": 0
           },
           {
            "bin_end": 0.10000000000000009,
            "bin_start": 0,
            "count": 5
           },
           {
            "bin_end": 0.20000000000000007,
            "bin_start": 0.10000000000000009,
            "count": 0
           },
           {
            "bin_end": 0.30000000000000004,
            "bin_start": 0.20000000000000007,
            "count": 0
           },
           {
            "bin_end": 0.4,
            "bin_start": 0.30000000000000004,
            "count": 0
           },
           {
            "bin_end": 0.5,
            "bin_start": 0.4,
            "count": 0
           }
          ],
          "max": "0.0",
          "min": "0.0",
          "nan_count": 0,
          "unique_count": 1
         }
        },
        {
         "dtype": "float64",
         "name": "collection_recovery_fee",
         "stats": {
          "histogram": [
           {
            "bin_end": -0.4,
            "bin_start": -0.5,
            "count": 0
           },
           {
            "bin_end": -0.3,
            "bin_start": -0.4,
            "count": 0
           },
           {
            "bin_end": -0.19999999999999996,
            "bin_start": -0.3,
            "count": 0
           },
           {
            "bin_end": -0.09999999999999998,
            "bin_start": -0.19999999999999996,
            "count": 0
           },
           {
            "bin_end": 0,
            "bin_start": -0.09999999999999998,
            "count": 0
           },
           {
            "bin_end": 0.10000000000000009,
            "bin_start": 0,
            "count": 5
           },
           {
            "bin_end": 0.20000000000000007,
            "bin_start": 0.10000000000000009,
            "count": 0
           },
           {
            "bin_end": 0.30000000000000004,
            "bin_start": 0.20000000000000007,
            "count": 0
           },
           {
            "bin_end": 0.4,
            "bin_start": 0.30000000000000004,
            "count": 0
           },
           {
            "bin_end": 0.5,
            "bin_start": 0.4,
            "count": 0
           }
          ],
          "max": "0.0",
          "min": "0.0",
          "nan_count": 0,
          "unique_count": 1
         }
        },
        {
         "dtype": "float64",
         "name": "last_pymnt_amnt",
         "stats": {
          "histogram": [
           {
            "bin_end": 411.104,
            "bin_start": 353.55,
            "count": 2
           },
           {
            "bin_end": 468.658,
            "bin_start": 411.104,
            "count": 0
           },
           {
            "bin_end": 526.212,
            "bin_start": 468.658,
            "count": 1
           },
           {
            "bin_end": 583.766,
            "bin_start": 526.212,
            "count": 1
           },
           {
            "bin_end": 641.3199999999999,
            "bin_start": 583.766,
            "count": 0
           },
           {
            "bin_end": 698.874,
            "bin_start": 641.3199999999999,
            "count": 0
           },
           {
            "bin_end": 756.428,
            "bin_start": 698.874,
            "count": 0
           },
           {
            "bin_end": 813.982,
            "bin_start": 756.428,
            "count": 0
           },
           {
            "bin_end": 871.5360000000001,
            "bin_start": 813.982,
            "count": 0
           },
           {
            "bin_end": 929.09,
            "bin_start": 871.5360000000001,
            "count": 1
           }
          ],
          "max": "929.09",
          "min": "353.55",
          "nan_count": 0,
          "unique_count": 5
         }
        },
        {
         "dtype": "object",
         "name": "next_pymnt_d",
         "stats": {
          "categories": [
           {
            "count": 5,
            "name": "May-2019"
           }
          ],
          "nan_count": 0,
          "unique_count": 1
         }
        },
        {
         "dtype": "float64",
         "name": "collections_12_mths_ex_med",
         "stats": {
          "histogram": [
           {
            "bin_end": -0.4,
            "bin_start": -0.5,
            "count": 0
           },
           {
            "bin_end": -0.3,
            "bin_start": -0.4,
            "count": 0
           },
           {
            "bin_end": -0.19999999999999996,
            "bin_start": -0.3,
            "count": 0
           },
           {
            "bin_end": -0.09999999999999998,
            "bin_start": -0.19999999999999996,
            "count": 0
           },
           {
            "bin_end": 0,
            "bin_start": -0.09999999999999998,
            "count": 0
           },
           {
            "bin_end": 0.10000000000000009,
            "bin_start": 0,
            "count": 5
           },
           {
            "bin_end": 0.20000000000000007,
            "bin_start": 0.10000000000000009,
            "count": 0
           },
           {
            "bin_end": 0.30000000000000004,
            "bin_start": 0.20000000000000007,
            "count": 0
           },
           {
            "bin_end": 0.4,
            "bin_start": 0.30000000000000004,
            "count": 0
           },
           {
            "bin_end": 0.5,
            "bin_start": 0.4,
            "count": 0
           }
          ],
          "max": "0.0",
          "min": "0.0",
          "nan_count": 0,
          "unique_count": 1
         }
        },
        {
         "dtype": "float64",
         "name": "policy_code",
         "stats": {
          "histogram": [
           {
            "bin_end": 0.6,
            "bin_start": 0.5,
            "count": 0
           },
           {
            "bin_end": 0.7,
            "bin_start": 0.6,
            "count": 0
           },
           {
            "bin_end": 0.8,
            "bin_start": 0.7,
            "count": 0
           },
           {
            "bin_end": 0.9,
            "bin_start": 0.8,
            "count": 0
           },
           {
            "bin_end": 1,
            "bin_start": 0.9,
            "count": 0
           },
           {
            "bin_end": 1.1,
            "bin_start": 1,
            "count": 5
           },
           {
            "bin_end": 1.2000000000000002,
            "bin_start": 1.1,
            "count": 0
           },
           {
            "bin_end": 1.3,
            "bin_start": 1.2000000000000002,
            "count": 0
           },
           {
            "bin_end": 1.4,
            "bin_start": 1.3,
            "count": 0
           },
           {
            "bin_end": 1.5,
            "bin_start": 1.4,
            "count": 0
           }
          ],
          "max": "1.0",
          "min": "1.0",
          "nan_count": 0,
          "unique_count": 1
         }
        },
        {
         "dtype": "object",
         "name": "application_type",
         "stats": {
          "categories": [
           {
            "count": 5,
            "name": "Individual"
           }
          ],
          "nan_count": 0,
          "unique_count": 1
         }
        },
        {
         "dtype": "float64",
         "name": "acc_now_delinq",
         "stats": {
          "histogram": [
           {
            "bin_end": -0.4,
            "bin_start": -0.5,
            "count": 0
           },
           {
            "bin_end": -0.3,
            "bin_start": -0.4,
            "count": 0
           },
           {
            "bin_end": -0.19999999999999996,
            "bin_start": -0.3,
            "count": 0
           },
           {
            "bin_end": -0.09999999999999998,
            "bin_start": -0.19999999999999996,
            "count": 0
           },
           {
            "bin_end": 0,
            "bin_start": -0.09999999999999998,
            "count": 0
           },
           {
            "bin_end": 0.10000000000000009,
            "bin_start": 0,
            "count": 5
           },
           {
            "bin_end": 0.20000000000000007,
            "bin_start": 0.10000000000000009,
            "count": 0
           },
           {
            "bin_end": 0.30000000000000004,
            "bin_start": 0.20000000000000007,
            "count": 0
           },
           {
            "bin_end": 0.4,
            "bin_start": 0.30000000000000004,
            "count": 0
           },
           {
            "bin_end": 0.5,
            "bin_start": 0.4,
            "count": 0
           }
          ],
          "max": "0.0",
          "min": "0.0",
          "nan_count": 0,
          "unique_count": 1
         }
        },
        {
         "dtype": "float64",
         "name": "tot_coll_amt",
         "stats": {
          "histogram": [
           {
            "bin_end": 17.8,
            "bin_start": 0,
            "count": 3
           },
           {
            "bin_end": 35.6,
            "bin_start": 17.8,
            "count": 0
           },
           {
            "bin_end": 53.400000000000006,
            "bin_start": 35.6,
            "count": 0
           },
           {
            "bin_end": 71.2,
            "bin_start": 53.400000000000006,
            "count": 0
           },
           {
            "bin_end": 89,
            "bin_start": 71.2,
            "count": 0
           },
           {
            "bin_end": 106.80000000000001,
            "bin_start": 89,
            "count": 0
           },
           {
            "bin_end": 124.60000000000001,
            "bin_start": 106.80000000000001,
            "count": 0
           },
           {
            "bin_end": 142.4,
            "bin_start": 124.60000000000001,
            "count": 0
           },
           {
            "bin_end": 160.20000000000002,
            "bin_start": 142.4,
            "count": 0
           },
           {
            "bin_end": 178,
            "bin_start": 160.20000000000002,
            "count": 2
           }
          ],
          "max": "178.0",
          "min": "0.0",
          "nan_count": 0,
          "unique_count": 3
         }
        },
        {
         "dtype": "float64",
         "name": "tot_cur_bal",
         "stats": {
          "histogram": [
           {
            "bin_end": 57191,
            "bin_start": 38199,
            "count": 2
           },
           {
            "bin_end": 76183,
            "bin_start": 57191,
            "count": 1
           },
           {
            "bin_end": 95175,
            "bin_start": 76183,
            "count": 0
           },
           {
            "bin_end": 114167,
            "bin_start": 95175,
            "count": 0
           },
           {
            "bin_end": 133159,
            "bin_start": 114167,
            "count": 0
           },
           {
            "bin_end": 152151,
            "bin_start": 133159,
            "count": 0
           },
           {
            "bin_end": 171143,
            "bin_start": 152151,
            "count": 0
           },
           {
            "bin_end": 190135,
            "bin_start": 171143,
            "count": 1
           },
           {
            "bin_end": 209127,
            "bin_start": 190135,
            "count": 0
           },
           {
            "bin_end": 228119,
            "bin_start": 209127,
            "count": 1
           }
          ],
          "max": "228119.0",
          "min": "38199.0",
          "nan_count": 0,
          "unique_count": 5
         }
        },
        {
         "dtype": "float64",
         "name": "open_acc_6m",
         "stats": {
          "histogram": [
           {
            "bin_end": 0.3,
            "bin_start": 0,
            "count": 2
           },
           {
            "bin_end": 0.6,
            "bin_start": 0.3,
            "count": 0
           },
           {
            "bin_end": 0.8999999999999999,
            "bin_start": 0.6,
            "count": 0
           },
           {
            "bin_end": 1.2,
            "bin_start": 0.8999999999999999,
            "count": 0
           },
           {
            "bin_end": 1.5,
            "bin_start": 1.2,
            "count": 0
           },
           {
            "bin_end": 1.7999999999999998,
            "bin_start": 1.5,
            "count": 0
           },
           {
            "bin_end": 2.1,
            "bin_start": 1.7999999999999998,
            "count": 1
           },
           {
            "bin_end": 2.4,
            "bin_start": 2.1,
            "count": 0
           },
           {
            "bin_end": 2.6999999999999997,
            "bin_start": 2.4,
            "count": 0
           },
           {
            "bin_end": 3,
            "bin_start": 2.6999999999999997,
            "count": 2
           }
          ],
          "max": "3.0",
          "min": "0.0",
          "nan_count": 0,
          "unique_count": 3
         }
        },
        {
         "dtype": "float64",
         "name": "open_act_il",
         "stats": {
          "histogram": [
           {
            "bin_end": 1.3,
            "bin_start": 1,
            "count": 1
           },
           {
            "bin_end": 1.6,
            "bin_start": 1.3,
            "count": 0
           },
           {
            "bin_end": 1.9,
            "bin_start": 1.6,
            "count": 0
           },
           {
            "bin_end": 2.2,
            "bin_start": 1.9,
            "count": 0
           },
           {
            "bin_end": 2.5,
            "bin_start": 2.2,
            "count": 0
           },
           {
            "bin_end": 2.8,
            "bin_start": 2.5,
            "count": 0
           },
           {
            "bin_end": 3.1,
            "bin_start": 2.8,
            "count": 2
           },
           {
            "bin_end": 3.4,
            "bin_start": 3.1,
            "count": 0
           },
           {
            "bin_end": 3.6999999999999997,
            "bin_start": 3.4,
            "count": 0
           },
           {
            "bin_end": 4,
            "bin_start": 3.6999999999999997,
            "count": 2
           }
          ],
          "max": "4.0",
          "min": "1.0",
          "nan_count": 0,
          "unique_count": 3
         }
        },
        {
         "dtype": "float64",
         "name": "open_il_12m",
         "stats": {
          "histogram": [
           {
            "bin_end": 0.2,
            "bin_start": 0,
            "count": 1
           },
           {
            "bin_end": 0.4,
            "bin_start": 0.2,
            "count": 0
           },
           {
            "bin_end": 0.6000000000000001,
            "bin_start": 0.4,
            "count": 0
           },
           {
            "bin_end": 0.8,
            "bin_start": 0.6000000000000001,
            "count": 0
           },
           {
            "bin_end": 1,
            "bin_start": 0.8,
            "count": 0
           },
           {
            "bin_end": 1.2000000000000002,
            "bin_start": 1,
            "count": 1
           },
           {
            "bin_end": 1.4000000000000001,
            "bin_start": 1.2000000000000002,
            "count": 0
           },
           {
            "bin_end": 1.6,
            "bin_start": 1.4000000000000001,
            "count": 0
           },
           {
            "bin_end": 1.8,
            "bin_start": 1.6,
            "count": 0
           },
           {
            "bin_end": 2,
            "bin_start": 1.8,
            "count": 3
           }
          ],
          "max": "2.0",
          "min": "0.0",
          "nan_count": 0,
          "unique_count": 3
         }
        },
        {
         "dtype": "float64",
         "name": "open_il_24m",
         "stats": {
          "histogram": [
           {
            "bin_end": 2.2,
            "bin_start": 2,
            "count": 1
           },
           {
            "bin_end": 2.4,
            "bin_start": 2.2,
            "count": 0
           },
           {
            "bin_end": 2.6,
            "bin_start": 2.4,
            "count": 0
           },
           {
            "bin_end": 2.8,
            "bin_start": 2.6,
            "count": 0
           },
           {
            "bin_end": 3,
            "bin_start": 2.8,
            "count": 0
           },
           {
            "bin_end": 3.2,
            "bin_start": 3,
            "count": 3
           },
           {
            "bin_end": 3.4000000000000004,
            "bin_start": 3.2,
            "count": 0
           },
           {
            "bin_end": 3.6,
            "bin_start": 3.4000000000000004,
            "count": 0
           },
           {
            "bin_end": 3.8,
            "bin_start": 3.6,
            "count": 0
           },
           {
            "bin_end": 4,
            "bin_start": 3.8,
            "count": 1
           }
          ],
          "max": "4.0",
          "min": "2.0",
          "nan_count": 0,
          "unique_count": 3
         }
        },
        {
         "dtype": "float64",
         "name": "mths_since_rcnt_il",
         "stats": {
          "histogram": [
           {
            "bin_end": 4.1,
            "bin_start": 3,
            "count": 3
           },
           {
            "bin_end": 5.2,
            "bin_start": 4.1,
            "count": 0
           },
           {
            "bin_end": 6.300000000000001,
            "bin_start": 5.2,
            "count": 0
           },
           {
            "bin_end": 7.4,
            "bin_start": 6.300000000000001,
            "count": 0
           },
           {
            "bin_end": 8.5,
            "bin_start": 7.4,
            "count": 0
           },
           {
            "bin_end": 9.600000000000001,
            "bin_start": 8.5,
            "count": 1
           },
           {
            "bin_end": 10.700000000000001,
            "bin_start": 9.600000000000001,
            "count": 0
           },
           {
            "bin_end": 11.8,
            "bin_start": 10.700000000000001,
            "count": 0
           },
           {
            "bin_end": 12.9,
            "bin_start": 11.8,
            "count": 0
           },
           {
            "bin_end": 14,
            "bin_start": 12.9,
            "count": 1
           }
          ],
          "max": "14.0",
          "min": "3.0",
          "nan_count": 0,
          "unique_count": 4
         }
        },
        {
         "dtype": "float64",
         "name": "total_bal_il",
         "stats": {
          "histogram": [
           {
            "bin_end": 20224,
            "bin_start": 16828,
            "count": 1
           },
           {
            "bin_end": 23620,
            "bin_start": 20224,
            "count": 0
           },
           {
            "bin_end": 27016,
            "bin_start": 23620,
            "count": 0
           },
           {
            "bin_end": 30412,
            "bin_start": 27016,
            "count": 0
           },
           {
            "bin_end": 33808,
            "bin_start": 30412,
            "count": 1
           },
           {
            "bin_end": 37204,
            "bin_start": 33808,
            "count": 1
           },
           {
            "bin_end": 40600,
            "bin_start": 37204,
            "count": 0
           },
           {
            "bin_end": 43996,
            "bin_start": 40600,
            "count": 1
           },
           {
            "bin_end": 47392,
            "bin_start": 43996,
            "count": 0
           },
           {
            "bin_end": 50788,
            "bin_start": 47392,
            "count": 1
           }
          ],
          "max": "50788.0",
          "min": "16828.0",
          "nan_count": 0,
          "unique_count": 5
         }
        },
        {
         "dtype": "float64",
         "name": "il_util",
         "stats": {
          "histogram": [
           {
            "bin_end": 61.7,
            "bin_start": 59,
            "count": 1
           },
           {
            "bin_end": 64.4,
            "bin_start": 61.7,
            "count": 0
           },
           {
            "bin_end": 67.1,
            "bin_start": 64.4,
            "count": 1
           },
           {
            "bin_end": 69.8,
            "bin_start": 67.1,
            "count": 0
           },
           {
            "bin_end": 72.5,
            "bin_start": 69.8,
            "count": 0
           },
           {
            "bin_end": 75.2,
            "bin_start": 72.5,
            "count": 1
           },
           {
            "bin_end": 77.9,
            "bin_start": 75.2,
            "count": 0
           },
           {
            "bin_end": 80.6,
            "bin_start": 77.9,
            "count": 0
           },
           {
            "bin_end": 83.3,
            "bin_start": 80.6,
            "count": 0
           },
           {
            "bin_end": 86,
            "bin_start": 83.3,
            "count": 2
           }
          ],
          "max": "86.0",
          "min": "59.0",
          "nan_count": 0,
          "unique_count": 5
         }
        },
        {
         "dtype": "float64",
         "name": "open_rv_12m",
         "stats": {
          "histogram": [
           {
            "bin_end": 0.4,
            "bin_start": 0,
            "count": 1
           },
           {
            "bin_end": 0.8,
            "bin_start": 0.4,
            "count": 0
           },
           {
            "bin_end": 1.2000000000000002,
            "bin_start": 0.8,
            "count": 2
           },
           {
            "bin_end": 1.6,
            "bin_start": 1.2000000000000002,
            "count": 0
           },
           {
            "bin_end": 2,
            "bin_start": 1.6,
            "count": 0
           },
           {
            "bin_end": 2.4000000000000004,
            "bin_start": 2,
            "count": 1
           },
           {
            "bin_end": 2.8000000000000003,
            "bin_start": 2.4000000000000004,
            "count": 0
           },
           {
            "bin_end": 3.2,
            "bin_start": 2.8000000000000003,
            "count": 0
           },
           {
            "bin_end": 3.6,
            "bin_start": 3.2,
            "count": 0
           },
           {
            "bin_end": 4,
            "bin_start": 3.6,
            "count": 1
           }
          ],
          "max": "4.0",
          "min": "0.0",
          "nan_count": 0,
          "unique_count": 4
         }
        },
        {
         "dtype": "float64",
         "name": "open_rv_24m",
         "stats": {
          "histogram": [
           {
            "bin_end": 1.7,
            "bin_start": 1,
            "count": 2
           },
           {
            "bin_end": 2.4,
            "bin_start": 1.7,
            "count": 1
           },
           {
            "bin_end": 3.0999999999999996,
            "bin_start": 2.4,
            "count": 1
           },
           {
            "bin_end": 3.8,
            "bin_start": 3.0999999999999996,
            "count": 0
           },
           {
            "bin_end": 4.5,
            "bin_start": 3.8,
            "count": 0
           },
           {
            "bin_end": 5.199999999999999,
            "bin_start": 4.5,
            "count": 0
           },
           {
            "bin_end": 5.8999999999999995,
            "bin_start": 5.199999999999999,
            "count": 0
           },
           {
            "bin_end": 6.6,
            "bin_start": 5.8999999999999995,
            "count": 0
           },
           {
            "bin_end": 7.3,
            "bin_start": 6.6,
            "count": 0
           },
           {
            "bin_end": 8,
            "bin_start": 7.3,
            "count": 1
           }
          ],
          "max": "8.0",
          "min": "1.0",
          "nan_count": 0,
          "unique_count": 4
         }
        },
        {
         "dtype": "float64",
         "name": "max_bal_bc",
         "stats": {
          "histogram": [
           {
            "bin_end": 2033.7,
            "bin_start": 1553,
            "count": 1
           },
           {
            "bin_end": 2514.4,
            "bin_start": 2033.7,
            "count": 0
           },
           {
            "bin_end": 2995.1,
            "bin_start": 2514.4,
            "count": 1
           },
           {
            "bin_end": 3475.8,
            "bin_start": 2995.1,
            "count": 0
           },
           {
            "bin_end": 3956.5,
            "bin_start": 3475.8,
            "count": 1
           },
           {
            "bin_end": 4437.2,
            "bin_start": 3956.5,
            "count": 0
           },
           {
            "bin_end": 4917.9,
            "bin_start": 4437.2,
            "count": 0
           },
           {
            "bin_end": 5398.6,
            "bin_start": 4917.9,
            "count": 1
           },
           {
            "bin_end": 5879.3,
            "bin_start": 5398.6,
            "count": 0
           },
           {
            "bin_end": 6360,
            "bin_start": 5879.3,
            "count": 1
           }
          ],
          "max": "6360.0",
          "min": "1553.0",
          "nan_count": 0,
          "unique_count": 5
         }
        },
        {
         "dtype": "float64",
         "name": "all_util",
         "stats": {
          "histogram": [
           {
            "bin_end": 44.4,
            "bin_start": 41,
            "count": 1
           },
           {
            "bin_end": 47.8,
            "bin_start": 44.4,
            "count": 0
           },
           {
            "bin_end": 51.2,
            "bin_start": 47.8,
            "count": 0
           },
           {
            "bin_end": 54.6,
            "bin_start": 51.2,
            "count": 0
           },
           {
            "bin_end": 58,
            "bin_start": 54.6,
            "count": 0
           },
           {
            "bin_end": 61.4,
            "bin_start": 58,
            "count": 2
           },
           {
            "bin_end": 64.8,
            "bin_start": 61.4,
            "count": 0
           },
           {
            "bin_end": 68.2,
            "bin_start": 64.8,
            "count": 0
           },
           {
            "bin_end": 71.6,
            "bin_start": 68.2,
            "count": 1
           },
           {
            "bin_end": 75,
            "bin_start": 71.6,
            "count": 1
           }
          ],
          "max": "75.0",
          "min": "41.0",
          "nan_count": 0,
          "unique_count": 5
         }
        },
        {
         "dtype": "float64",
         "name": "total_rev_hi_lim",
         "stats": {
          "histogram": [
           {
            "bin_end": 8370,
            "bin_start": 3700,
            "count": 1
           },
           {
            "bin_end": 13040,
            "bin_start": 8370,
            "count": 0
           },
           {
            "bin_end": 17710,
            "bin_start": 13040,
            "count": 1
           },
           {
            "bin_end": 22380,
            "bin_start": 17710,
            "count": 0
           },
           {
            "bin_end": 27050,
            "bin_start": 22380,
            "count": 1
           },
           {
            "bin_end": 31720,
            "bin_start": 27050,
            "count": 0
           },
           {
            "bin_end": 36390,
            "bin_start": 31720,
            "count": 0
           },
           {
            "bin_end": 41060,
            "bin_start": 36390,
            "count": 0
           },
           {
            "bin_end": 45730,
            "bin_start": 41060,
            "count": 1
           },
           {
            "bin_end": 50400,
            "bin_start": 45730,
            "count": 1
           }
          ],
          "max": "50400.0",
          "min": "3700.0",
          "nan_count": 0,
          "unique_count": 5
         }
        },
        {
         "dtype": "float64",
         "name": "inq_fi",
         "stats": {
          "histogram": [
           {
            "bin_end": 0.4,
            "bin_start": 0,
            "count": 1
           },
           {
            "bin_end": 0.8,
            "bin_start": 0.4,
            "count": 0
           },
           {
            "bin_end": 1.2000000000000002,
            "bin_start": 0.8,
            "count": 1
           },
           {
            "bin_end": 1.6,
            "bin_start": 1.2000000000000002,
            "count": 0
           },
           {
            "bin_end": 2,
            "bin_start": 1.6,
            "count": 0
           },
           {
            "bin_end": 2.4000000000000004,
            "bin_start": 2,
            "count": 1
           },
           {
            "bin_end": 2.8000000000000003,
            "bin_start": 2.4000000000000004,
            "count": 0
           },
           {
            "bin_end": 3.2,
            "bin_start": 2.8000000000000003,
            "count": 1
           },
           {
            "bin_end": 3.6,
            "bin_start": 3.2,
            "count": 0
           },
           {
            "bin_end": 4,
            "bin_start": 3.6,
            "count": 1
           }
          ],
          "max": "4.0",
          "min": "0.0",
          "nan_count": 0,
          "unique_count": 5
         }
        },
        {
         "dtype": "float64",
         "name": "total_cu_tl",
         "stats": {
          "histogram": [
           {
            "bin_end": 0.9,
            "bin_start": 0,
            "count": 2
           },
           {
            "bin_end": 1.8,
            "bin_start": 0.9,
            "count": 0
           },
           {
            "bin_end": 2.7,
            "bin_start": 1.8,
            "count": 0
           },
           {
            "bin_end": 3.6,
            "bin_start": 2.7,
            "count": 0
           },
           {
            "bin_end": 4.5,
            "bin_start": 3.6,
            "count": 1
           },
           {
            "bin_end": 5.4,
            "bin_start": 4.5,
            "count": 1
           },
           {
            "bin_end": 6.3,
            "bin_start": 5.4,
            "count": 0
           },
           {
            "bin_end": 7.2,
            "bin_start": 6.3,
            "count": 0
           },
           {
            "bin_end": 8.1,
            "bin_start": 7.2,
            "count": 0
           },
           {
            "bin_end": 9,
            "bin_start": 8.1,
            "count": 1
           }
          ],
          "max": "9.0",
          "min": "0.0",
          "nan_count": 0,
          "unique_count": 4
         }
        },
        {
         "dtype": "float64",
         "name": "inq_last_12m",
         "stats": {
          "histogram": [
           {
            "bin_end": 1.3,
            "bin_start": 1,
            "count": 1
           },
           {
            "bin_end": 1.6,
            "bin_start": 1.3,
            "count": 0
           },
           {
            "bin_end": 1.9,
            "bin_start": 1.6,
            "count": 0
           },
           {
            "bin_end": 2.2,
            "bin_start": 1.9,
            "count": 1
           },
           {
            "bin_end": 2.5,
            "bin_start": 2.2,
            "count": 0
           },
           {
            "bin_end": 2.8,
            "bin_start": 2.5,
            "count": 0
           },
           {
            "bin_end": 3.1,
            "bin_start": 2.8,
            "count": 1
           },
           {
            "bin_end": 3.4,
            "bin_start": 3.1,
            "count": 0
           },
           {
            "bin_end": 3.6999999999999997,
            "bin_start": 3.4,
            "count": 0
           },
           {
            "bin_end": 4,
            "bin_start": 3.6999999999999997,
            "count": 2
           }
          ],
          "max": "4.0",
          "min": "1.0",
          "nan_count": 0,
          "unique_count": 4
         }
        },
        {
         "dtype": "float64",
         "name": "acc_open_past_24mths",
         "stats": {
          "histogram": [
           {
            "bin_end": 4.9,
            "bin_start": 4,
            "count": 2
           },
           {
            "bin_end": 5.8,
            "bin_start": 4.9,
            "count": 0
           },
           {
            "bin_end": 6.7,
            "bin_start": 5.8,
            "count": 2
           },
           {
            "bin_end": 7.6,
            "bin_start": 6.7,
            "count": 0
           },
           {
            "bin_end": 8.5,
            "bin_start": 7.6,
            "count": 0
           },
           {
            "bin_end": 9.4,
            "bin_start": 8.5,
            "count": 0
           },
           {
            "bin_end": 10.3,
            "bin_start": 9.4,
            "count": 0
           },
           {
            "bin_end": 11.2,
            "bin_start": 10.3,
            "count": 0
           },
           {
            "bin_end": 12.1,
            "bin_start": 11.2,
            "count": 0
           },
           {
            "bin_end": 13,
            "bin_start": 12.1,
            "count": 1
           }
          ],
          "max": "13.0",
          "min": "4.0",
          "nan_count": 0,
          "unique_count": 3
         }
        },
        {
         "dtype": "float64",
         "name": "avg_cur_bal",
         "stats": {
          "histogram": [
           {
            "bin_end": 5664.8,
            "bin_start": 4775,
            "count": 1
           },
           {
            "bin_end": 6554.6,
            "bin_start": 5664.8,
            "count": 1
           },
           {
            "bin_end": 7444.4,
            "bin_start": 6554.6,
            "count": 1
           },
           {
            "bin_end": 8334.2,
            "bin_start": 7444.4,
            "count": 0
           },
           {
            "bin_end": 9224,
            "bin_start": 8334.2,
            "count": 0
           },
           {
            "bin_end": 10113.8,
            "bin_start": 9224,
            "count": 0
           },
           {
            "bin_end": 11003.599999999999,
            "bin_start": 10113.8,
            "count": 0
           },
           {
            "bin_end": 11893.4,
            "bin_start": 11003.599999999999,
            "count": 0
           },
           {
            "bin_end": 12783.2,
            "bin_start": 11893.4,
            "count": 0
           },
           {
            "bin_end": 13673,
            "bin_start": 12783.2,
            "count": 2
           }
          ],
          "max": "13673.0",
          "min": "4775.0",
          "nan_count": 0,
          "unique_count": 5
         }
        },
        {
         "dtype": "float64",
         "name": "bc_open_to_buy",
         "stats": {
          "histogram": [
           {
            "bin_end": 3352.5,
            "bin_start": 447,
            "count": 2
           },
           {
            "bin_end": 6258,
            "bin_start": 3352.5,
            "count": 1
           },
           {
            "bin_end": 9163.5,
            "bin_start": 6258,
            "count": 0
           },
           {
            "bin_end": 12069,
            "bin_start": 9163.5,
            "count": 0
           },
           {
            "bin_end": 14974.5,
            "bin_start": 12069,
            "count": 0
           },
           {
            "bin_end": 17880,
            "bin_start": 14974.5,
            "count": 0
           },
           {
            "bin_end": 20785.5,
            "bin_start": 17880,
            "count": 1
           },
           {
            "bin_end": 23691,
            "bin_start": 20785.5,
            "count": 0
           },
           {
            "bin_end": 26596.5,
            "bin_start": 23691,
            "count": 0
           },
           {
            "bin_end": 29502,
            "bin_start": 26596.5,
            "count": 1
           }
          ],
          "max": "29502.0",
          "min": "447.0",
          "nan_count": 0,
          "unique_count": 5
         }
        },
        {
         "dtype": "float64",
         "name": "bc_util",
         "stats": {
          "histogram": [
           {
            "bin_end": 33.33,
            "bin_start": 28.4,
            "count": 2
           },
           {
            "bin_end": 38.26,
            "bin_start": 33.33,
            "count": 0
           },
           {
            "bin_end": 43.19,
            "bin_start": 38.26,
            "count": 0
           },
           {
            "bin_end": 48.120000000000005,
            "bin_start": 43.19,
            "count": 0
           },
           {
            "bin_end": 53.05,
            "bin_start": 48.120000000000005,
            "count": 0
           },
           {
            "bin_end": 57.980000000000004,
            "bin_start": 53.05,
            "count": 0
           },
           {
            "bin_end": 62.910000000000004,
            "bin_start": 57.980000000000004,
            "count": 1
           },
           {
            "bin_end": 67.84,
            "bin_start": 62.910000000000004,
            "count": 0
           },
           {
            "bin_end": 72.77000000000001,
            "bin_start": 67.84,
            "count": 0
           },
           {
            "bin_end": 77.7,
            "bin_start": 72.77000000000001,
            "count": 2
           }
          ],
          "max": "77.7",
          "min": "28.4",
          "nan_count": 0,
          "unique_count": 5
         }
        },
        {
         "dtype": "float64",
         "name": "chargeoff_within_12_mths",
         "stats": {
          "histogram": [
           {
            "bin_end": -0.4,
            "bin_start": -0.5,
            "count": 0
           },
           {
            "bin_end": -0.3,
            "bin_start": -0.4,
            "count": 0
           },
           {
            "bin_end": -0.19999999999999996,
            "bin_start": -0.3,
            "count": 0
           },
           {
            "bin_end": -0.09999999999999998,
            "bin_start": -0.19999999999999996,
            "count": 0
           },
           {
            "bin_end": 0,
            "bin_start": -0.09999999999999998,
            "count": 0
           },
           {
            "bin_end": 0.10000000000000009,
            "bin_start": 0,
            "count": 5
           },
           {
            "bin_end": 0.20000000000000007,
            "bin_start": 0.10000000000000009,
            "count": 0
           },
           {
            "bin_end": 0.30000000000000004,
            "bin_start": 0.20000000000000007,
            "count": 0
           },
           {
            "bin_end": 0.4,
            "bin_start": 0.30000000000000004,
            "count": 0
           },
           {
            "bin_end": 0.5,
            "bin_start": 0.4,
            "count": 0
           }
          ],
          "max": "0.0",
          "min": "0.0",
          "nan_count": 0,
          "unique_count": 1
         }
        },
        {
         "dtype": "float64",
         "name": "delinq_amnt",
         "stats": {
          "histogram": [
           {
            "bin_end": -0.4,
            "bin_start": -0.5,
            "count": 0
           },
           {
            "bin_end": -0.3,
            "bin_start": -0.4,
            "count": 0
           },
           {
            "bin_end": -0.19999999999999996,
            "bin_start": -0.3,
            "count": 0
           },
           {
            "bin_end": -0.09999999999999998,
            "bin_start": -0.19999999999999996,
            "count": 0
           },
           {
            "bin_end": 0,
            "bin_start": -0.09999999999999998,
            "count": 0
           },
           {
            "bin_end": 0.10000000000000009,
            "bin_start": 0,
            "count": 5
           },
           {
            "bin_end": 0.20000000000000007,
            "bin_start": 0.10000000000000009,
            "count": 0
           },
           {
            "bin_end": 0.30000000000000004,
            "bin_start": 0.20000000000000007,
            "count": 0
           },
           {
            "bin_end": 0.4,
            "bin_start": 0.30000000000000004,
            "count": 0
           },
           {
            "bin_end": 0.5,
            "bin_start": 0.4,
            "count": 0
           }
          ],
          "max": "0.0",
          "min": "0.0",
          "nan_count": 0,
          "unique_count": 1
         }
        },
        {
         "dtype": "float64",
         "name": "mo_sin_old_il_acct",
         "stats": {
          "histogram": [
           {
            "bin_end": 76.2,
            "bin_start": 67,
            "count": 1
           },
           {
            "bin_end": 85.4,
            "bin_start": 76.2,
            "count": 0
           },
           {
            "bin_end": 94.6,
            "bin_start": 85.4,
            "count": 2
           },
           {
            "bin_end": 103.8,
            "bin_start": 94.6,
            "count": 1
           },
           {
            "bin_end": 113,
            "bin_start": 103.8,
            "count": 0
           },
           {
            "bin_end": 122.19999999999999,
            "bin_start": 113,
            "count": 0
           },
           {
            "bin_end": 131.39999999999998,
            "bin_start": 122.19999999999999,
            "count": 0
           },
           {
            "bin_end": 140.6,
            "bin_start": 131.39999999999998,
            "count": 0
           },
           {
            "bin_end": 149.8,
            "bin_start": 140.6,
            "count": 0
           },
           {
            "bin_end": 159,
            "bin_start": 149.8,
            "count": 1
           }
          ],
          "max": "159.0",
          "min": "67.0",
          "nan_count": 0,
          "unique_count": 5
         }
        },
        {
         "dtype": "float64",
         "name": "mo_sin_old_rev_tl_op",
         "stats": {
          "histogram": [
           {
            "bin_end": 108.7,
            "bin_start": 89,
            "count": 2
           },
           {
            "bin_end": 128.4,
            "bin_start": 108.7,
            "count": 0
           },
           {
            "bin_end": 148.1,
            "bin_start": 128.4,
            "count": 1
           },
           {
            "bin_end": 167.8,
            "bin_start": 148.1,
            "count": 1
           },
           {
            "bin_end": 187.5,
            "bin_start": 167.8,
            "count": 0
           },
           {
            "bin_end": 207.2,
            "bin_start": 187.5,
            "count": 0
           },
           {
            "bin_end": 226.9,
            "bin_start": 207.2,
            "count": 0
           },
           {
            "bin_end": 246.6,
            "bin_start": 226.9,
            "count": 0
           },
           {
            "bin_end": 266.29999999999995,
            "bin_start": 246.6,
            "count": 0
           },
           {
            "bin_end": 286,
            "bin_start": 266.29999999999995,
            "count": 1
           }
          ],
          "max": "286.0",
          "min": "89.0",
          "nan_count": 0,
          "unique_count": 5
         }
        },
        {
         "dtype": "float64",
         "name": "mo_sin_rcnt_rev_tl_op",
         "stats": {
          "histogram": [
           {
            "bin_end": 3.3,
            "bin_start": 1,
            "count": 2
           },
           {
            "bin_end": 5.6,
            "bin_start": 3.3,
            "count": 0
           },
           {
            "bin_end": 7.8999999999999995,
            "bin_start": 5.6,
            "count": 1
           },
           {
            "bin_end": 10.2,
            "bin_start": 7.8999999999999995,
            "count": 0
           },
           {
            "bin_end": 12.5,
            "bin_start": 10.2,
            "count": 1
           },
           {
            "bin_end": 14.799999999999999,
            "bin_start": 12.5,
            "count": 0
           },
           {
            "bin_end": 17.099999999999998,
            "bin_start": 14.799999999999999,
            "count": 0
           },
           {
            "bin_end": 19.4,
            "bin_start": 17.099999999999998,
            "count": 0
           },
           {
            "bin_end": 21.7,
            "bin_start": 19.4,
            "count": 0
           },
           {
            "bin_end": 24,
            "bin_start": 21.7,
            "count": 1
           }
          ],
          "max": "24.0",
          "min": "1.0",
          "nan_count": 0,
          "unique_count": 5
         }
        },
        {
         "dtype": "float64",
         "name": "mo_sin_rcnt_tl",
         "stats": {
          "histogram": [
           {
            "bin_end": 2,
            "bin_start": 1,
            "count": 1
           },
           {
            "bin_end": 3,
            "bin_start": 2,
            "count": 0
           },
           {
            "bin_end": 4,
            "bin_start": 3,
            "count": 1
           },
           {
            "bin_end": 5,
            "bin_start": 4,
            "count": 1
           },
           {
            "bin_end": 6,
            "bin_start": 5,
            "count": 0
           },
           {
            "bin_end": 7,
            "bin_start": 6,
            "count": 0
           },
           {
            "bin_end": 8,
            "bin_start": 7,
            "count": 0
           },
           {
            "bin_end": 9,
            "bin_start": 8,
            "count": 0
           },
           {
            "bin_end": 10,
            "bin_start": 9,
            "count": 1
           },
           {
            "bin_end": 11,
            "bin_start": 10,
            "count": 1
           }
          ],
          "max": "11.0",
          "min": "1.0",
          "nan_count": 0,
          "unique_count": 5
         }
        },
        {
         "dtype": "float64",
         "name": "mort_acc",
         "stats": {
          "histogram": [
           {
            "bin_end": 0.4,
            "bin_start": 0,
            "count": 3
           },
           {
            "bin_end": 0.8,
            "bin_start": 0.4,
            "count": 0
           },
           {
            "bin_end": 1.2000000000000002,
            "bin_start": 0.8,
            "count": 0
           },
           {
            "bin_end": 1.6,
            "bin_start": 1.2000000000000002,
            "count": 0
           },
           {
            "bin_end": 2,
            "bin_start": 1.6,
            "count": 0
           },
           {
            "bin_end": 2.4000000000000004,
            "bin_start": 2,
            "count": 1
           },
           {
            "bin_end": 2.8000000000000003,
            "bin_start": 2.4000000000000004,
            "count": 0
           },
           {
            "bin_end": 3.2,
            "bin_start": 2.8000000000000003,
            "count": 0
           },
           {
            "bin_end": 3.6,
            "bin_start": 3.2,
            "count": 0
           },
           {
            "bin_end": 4,
            "bin_start": 3.6,
            "count": 1
           }
          ],
          "max": "4.0",
          "min": "0.0",
          "nan_count": 0,
          "unique_count": 3
         }
        },
        {
         "dtype": "float64",
         "name": "mths_since_recent_bc",
         "stats": {
          "histogram": [
           {
            "bin_end": 4.3,
            "bin_start": 1,
            "count": 1
           },
           {
            "bin_end": 7.6,
            "bin_start": 4.3,
            "count": 1
           },
           {
            "bin_end": 10.899999999999999,
            "bin_start": 7.6,
            "count": 0
           },
           {
            "bin_end": 14.2,
            "bin_start": 10.899999999999999,
            "count": 1
           },
           {
            "bin_end": 17.5,
            "bin_start": 14.2,
            "count": 0
           },
           {
            "bin_end": 20.799999999999997,
            "bin_start": 17.5,
            "count": 1
           },
           {
            "bin_end": 24.099999999999998,
            "bin_start": 20.799999999999997,
            "count": 0
           },
           {
            "bin_end": 27.4,
            "bin_start": 24.099999999999998,
            "count": 0
           },
           {
            "bin_end": 30.7,
            "bin_start": 27.4,
            "count": 0
           },
           {
            "bin_end": 34,
            "bin_start": 30.7,
            "count": 1
           }
          ],
          "max": "34.0",
          "min": "1.0",
          "nan_count": 0,
          "unique_count": 5
         }
        },
        {
         "dtype": "float64",
         "name": "mths_since_recent_inq",
         "stats": {
          "histogram": [
           {
            "bin_end": 1.1,
            "bin_start": 0,
            "count": 3
           },
           {
            "bin_end": 2.2,
            "bin_start": 1.1,
            "count": 0
           },
           {
            "bin_end": 3.3000000000000003,
            "bin_start": 2.2,
            "count": 0
           },
           {
            "bin_end": 4.4,
            "bin_start": 3.3000000000000003,
            "count": 0
           },
           {
            "bin_end": 5.5,
            "bin_start": 4.4,
            "count": 0
           },
           {
            "bin_end": 6.6000000000000005,
            "bin_start": 5.5,
            "count": 0
           },
           {
            "bin_end": 7.700000000000001,
            "bin_start": 6.6000000000000005,
            "count": 1
           },
           {
            "bin_end": 8.8,
            "bin_start": 7.700000000000001,
            "count": 0
           },
           {
            "bin_end": 9.9,
            "bin_start": 8.8,
            "count": 0
           },
           {
            "bin_end": 11,
            "bin_start": 9.9,
            "count": 1
           }
          ],
          "max": "11.0",
          "min": "0.0",
          "nan_count": 0,
          "unique_count": 4
         }
        },
        {
         "dtype": "float64",
         "name": "num_accts_ever_120_pd",
         "stats": {
          "histogram": [
           {
            "bin_end": 0.6,
            "bin_start": 0,
            "count": 3
           },
           {
            "bin_end": 1.2,
            "bin_start": 0.6,
            "count": 0
           },
           {
            "bin_end": 1.7999999999999998,
            "bin_start": 1.2,
            "count": 0
           },
           {
            "bin_end": 2.4,
            "bin_start": 1.7999999999999998,
            "count": 0
           },
           {
            "bin_end": 3,
            "bin_start": 2.4,
            "count": 0
           },
           {
            "bin_end": 3.5999999999999996,
            "bin_start": 3,
            "count": 1
           },
           {
            "bin_end": 4.2,
            "bin_start": 3.5999999999999996,
            "count": 0
           },
           {
            "bin_end": 4.8,
            "bin_start": 4.2,
            "count": 0
           },
           {
            "bin_end": 5.3999999999999995,
            "bin_start": 4.8,
            "count": 0
           },
           {
            "bin_end": 6,
            "bin_start": 5.3999999999999995,
            "count": 1
           }
          ],
          "max": "6.0",
          "min": "0.0",
          "nan_count": 0,
          "unique_count": 3
         }
        },
        {
         "dtype": "float64",
         "name": "num_actv_bc_tl",
         "stats": {
          "histogram": [
           {
            "bin_end": 1.6,
            "bin_start": 1,
            "count": 1
           },
           {
            "bin_end": 2.2,
            "bin_start": 1.6,
            "count": 1
           },
           {
            "bin_end": 2.8,
            "bin_start": 2.2,
            "count": 0
           },
           {
            "bin_end": 3.4,
            "bin_start": 2.8,
            "count": 0
           },
           {
            "bin_end": 4,
            "bin_start": 3.4,
            "count": 0
           },
           {
            "bin_end": 4.6,
            "bin_start": 4,
            "count": 2
           },
           {
            "bin_end": 5.2,
            "bin_start": 4.6,
            "count": 0
           },
           {
            "bin_end": 5.8,
            "bin_start": 5.2,
            "count": 0
           },
           {
            "bin_end": 6.3999999999999995,
            "bin_start": 5.8,
            "count": 0
           },
           {
            "bin_end": 7,
            "bin_start": 6.3999999999999995,
            "count": 1
           }
          ],
          "max": "7.0",
          "min": "1.0",
          "nan_count": 0,
          "unique_count": 4
         }
        },
        {
         "dtype": "float64",
         "name": "num_actv_rev_tl",
         "stats": {
          "histogram": [
           {
            "bin_end": 2.9,
            "bin_start": 2,
            "count": 1
           },
           {
            "bin_end": 3.8,
            "bin_start": 2.9,
            "count": 0
           },
           {
            "bin_end": 4.7,
            "bin_start": 3.8,
            "count": 0
           },
           {
            "bin_end": 5.6,
            "bin_start": 4.7,
            "count": 1
           },
           {
            "bin_end": 6.5,
            "bin_start": 5.6,
            "count": 2
           },
           {
            "bin_end": 7.4,
            "bin_start": 6.5,
            "count": 0
           },
           {
            "bin_end": 8.3,
            "bin_start": 7.4,
            "count": 0
           },
           {
            "bin_end": 9.2,
            "bin_start": 8.3,
            "count": 0
           },
           {
            "bin_end": 10.1,
            "bin_start": 9.2,
            "count": 0
           },
           {
            "bin_end": 11,
            "bin_start": 10.1,
            "count": 1
           }
          ],
          "max": "11.0",
          "min": "2.0",
          "nan_count": 0,
          "unique_count": 4
         }
        },
        {
         "dtype": "float64",
         "name": "num_bc_sats",
         "stats": {
          "histogram": [
           {
            "bin_end": 1.7,
            "bin_start": 1,
            "count": 1
           },
           {
            "bin_end": 2.4,
            "bin_start": 1.7,
            "count": 1
           },
           {
            "bin_end": 3.0999999999999996,
            "bin_start": 2.4,
            "count": 0
           },
           {
            "bin_end": 3.8,
            "bin_start": 3.0999999999999996,
            "count": 0
           },
           {
            "bin_end": 4.5,
            "bin_start": 3.8,
            "count": 1
           },
           {
            "bin_end": 5.199999999999999,
            "bin_start": 4.5,
            "count": 0
           },
           {
            "bin_end": 5.8999999999999995,
            "bin_start": 5.199999999999999,
            "count": 0
           },
           {
            "bin_end": 6.6,
            "bin_start": 5.8999999999999995,
            "count": 0
           },
           {
            "bin_end": 7.3,
            "bin_start": 6.6,
            "count": 1
           },
           {
            "bin_end": 8,
            "bin_start": 7.3,
            "count": 1
           }
          ],
          "max": "8.0",
          "min": "1.0",
          "nan_count": 0,
          "unique_count": 5
         }
        },
        {
         "dtype": "float64",
         "name": "num_bc_tl",
         "stats": {
          "histogram": [
           {
            "bin_end": 2.2,
            "bin_start": 1,
            "count": 1
           },
           {
            "bin_end": 3.4,
            "bin_start": 2.2,
            "count": 0
           },
           {
            "bin_end": 4.6,
            "bin_start": 3.4,
            "count": 1
           },
           {
            "bin_end": 5.8,
            "bin_start": 4.6,
            "count": 0
           },
           {
            "bin_end": 7,
            "bin_start": 5.8,
            "count": 0
           },
           {
            "bin_end": 8.2,
            "bin_start": 7,
            "count": 1
           },
           {
            "bin_end": 9.4,
            "bin_start": 8.2,
            "count": 0
           },
           {
            "bin_end": 10.6,
            "bin_start": 9.4,
            "count": 0
           },
           {
            "bin_end": 11.799999999999999,
            "bin_start": 10.6,
            "count": 1
           },
           {
            "bin_end": 13,
            "bin_start": 11.799999999999999,
            "count": 1
           }
          ],
          "max": "13.0",
          "min": "1.0",
          "nan_count": 0,
          "unique_count": 5
         }
        },
        {
         "dtype": "float64",
         "name": "num_il_tl",
         "stats": {
          "histogram": [
           {
            "bin_end": 7.1,
            "bin_start": 6,
            "count": 1
           },
           {
            "bin_end": 8.2,
            "bin_start": 7.1,
            "count": 1
           },
           {
            "bin_end": 9.3,
            "bin_start": 8.2,
            "count": 0
           },
           {
            "bin_end": 10.4,
            "bin_start": 9.3,
            "count": 1
           },
           {
            "bin_end": 11.5,
            "bin_start": 10.4,
            "count": 0
           },
           {
            "bin_end": 12.600000000000001,
            "bin_start": 11.5,
            "count": 0
           },
           {
            "bin_end": 13.700000000000001,
            "bin_start": 12.600000000000001,
            "count": 0
           },
           {
            "bin_end": 14.8,
            "bin_start": 13.700000000000001,
            "count": 1
           },
           {
            "bin_end": 15.9,
            "bin_start": 14.8,
            "count": 0
           },
           {
            "bin_end": 17,
            "bin_start": 15.9,
            "count": 1
           }
          ],
          "max": "17.0",
          "min": "6.0",
          "nan_count": 0,
          "unique_count": 5
         }
        },
        {
         "dtype": "float64",
         "name": "num_op_rev_tl",
         "stats": {
          "histogram": [
           {
            "bin_end": 4,
            "bin_start": 3,
            "count": 1
           },
           {
            "bin_end": 5,
            "bin_start": 4,
            "count": 0
           },
           {
            "bin_end": 6,
            "bin_start": 5,
            "count": 1
           },
           {
            "bin_end": 7,
            "bin_start": 6,
            "count": 1
           },
           {
            "bin_end": 8,
            "bin_start": 7,
            "count": 0
           },
           {
            "bin_end": 9,
            "bin_start": 8,
            "count": 0
           },
           {
            "bin_end": 10,
            "bin_start": 9,
            "count": 0
           },
           {
            "bin_end": 11,
            "bin_start": 10,
            "count": 0
           },
           {
            "bin_end": 12,
            "bin_start": 11,
            "count": 0
           },
           {
            "bin_end": 13,
            "bin_start": 12,
            "count": 2
           }
          ],
          "max": "13.0",
          "min": "3.0",
          "nan_count": 0,
          "unique_count": 5
         }
        },
        {
         "dtype": "float64",
         "name": "num_rev_accts",
         "stats": {
          "histogram": [
           {
            "bin_end": 4.5,
            "bin_start": 3,
            "count": 1
           },
           {
            "bin_end": 6,
            "bin_start": 4.5,
            "count": 0
           },
           {
            "bin_end": 7.5,
            "bin_start": 6,
            "count": 1
           },
           {
            "bin_end": 9,
            "bin_start": 7.5,
            "count": 0
           },
           {
            "bin_end": 10.5,
            "bin_start": 9,
            "count": 0
           },
           {
            "bin_end": 12,
            "bin_start": 10.5,
            "count": 0
           },
           {
            "bin_end": 13.5,
            "bin_start": 12,
            "count": 1
           },
           {
            "bin_end": 15,
            "bin_start": 13.5,
            "count": 0
           },
           {
            "bin_end": 16.5,
            "bin_start": 15,
            "count": 0
           },
           {
            "bin_end": 18,
            "bin_start": 16.5,
            "count": 2
           }
          ],
          "max": "18.0",
          "min": "3.0",
          "nan_count": 0,
          "unique_count": 4
         }
        },
        {
         "dtype": "float64",
         "name": "num_rev_tl_bal_gt_0",
         "stats": {
          "histogram": [
           {
            "bin_end": 2.9,
            "bin_start": 2,
            "count": 1
           },
           {
            "bin_end": 3.8,
            "bin_start": 2.9,
            "count": 0
           },
           {
            "bin_end": 4.7,
            "bin_start": 3.8,
            "count": 0
           },
           {
            "bin_end": 5.6,
            "bin_start": 4.7,
            "count": 1
           },
           {
            "bin_end": 6.5,
            "bin_start": 5.6,
            "count": 2
           },
           {
            "bin_end": 7.4,
            "bin_start": 6.5,
            "count": 0
           },
           {
            "bin_end": 8.3,
            "bin_start": 7.4,
            "count": 0
           },
           {
            "bin_end": 9.2,
            "bin_start": 8.3,
            "count": 0
           },
           {
            "bin_end": 10.1,
            "bin_start": 9.2,
            "count": 0
           },
           {
            "bin_end": 11,
            "bin_start": 10.1,
            "count": 1
           }
          ],
          "max": "11.0",
          "min": "2.0",
          "nan_count": 0,
          "unique_count": 4
         }
        },
        {
         "dtype": "float64",
         "name": "num_sats",
         "stats": {
          "histogram": [
           {
            "bin_end": 8.9,
            "bin_start": 8,
            "count": 2
           },
           {
            "bin_end": 9.8,
            "bin_start": 8.9,
            "count": 0
           },
           {
            "bin_end": 10.7,
            "bin_start": 9.8,
            "count": 1
           },
           {
            "bin_end": 11.6,
            "bin_start": 10.7,
            "count": 0
           },
           {
            "bin_end": 12.5,
            "bin_start": 11.6,
            "count": 0
           },
           {
            "bin_end": 13.4,
            "bin_start": 12.5,
            "count": 0
           },
           {
            "bin_end": 14.3,
            "bin_start": 13.4,
            "count": 1
           },
           {
            "bin_end": 15.2,
            "bin_start": 14.3,
            "count": 0
           },
           {
            "bin_end": 16.1,
            "bin_start": 15.2,
            "count": 0
           },
           {
            "bin_end": 17,
            "bin_start": 16.1,
            "count": 1
           }
          ],
          "max": "17.0",
          "min": "8.0",
          "nan_count": 0,
          "unique_count": 4
         }
        },
        {
         "dtype": "float64",
         "name": "num_tl_120dpd_2m",
         "stats": {
          "histogram": [
           {
            "bin_end": -0.4,
            "bin_start": -0.5,
            "count": 0
           },
           {
            "bin_end": -0.3,
            "bin_start": -0.4,
            "count": 0
           },
           {
            "bin_end": -0.19999999999999996,
            "bin_start": -0.3,
            "count": 0
           },
           {
            "bin_end": -0.09999999999999998,
            "bin_start": -0.19999999999999996,
            "count": 0
           },
           {
            "bin_end": 0,
            "bin_start": -0.09999999999999998,
            "count": 0
           },
           {
            "bin_end": 0.10000000000000009,
            "bin_start": 0,
            "count": 5
           },
           {
            "bin_end": 0.20000000000000007,
            "bin_start": 0.10000000000000009,
            "count": 0
           },
           {
            "bin_end": 0.30000000000000004,
            "bin_start": 0.20000000000000007,
            "count": 0
           },
           {
            "bin_end": 0.4,
            "bin_start": 0.30000000000000004,
            "count": 0
           },
           {
            "bin_end": 0.5,
            "bin_start": 0.4,
            "count": 0
           }
          ],
          "max": "0.0",
          "min": "0.0",
          "nan_count": 0,
          "unique_count": 1
         }
        },
        {
         "dtype": "float64",
         "name": "num_tl_30dpd",
         "stats": {
          "histogram": [
           {
            "bin_end": -0.4,
            "bin_start": -0.5,
            "count": 0
           },
           {
            "bin_end": -0.3,
            "bin_start": -0.4,
            "count": 0
           },
           {
            "bin_end": -0.19999999999999996,
            "bin_start": -0.3,
            "count": 0
           },
           {
            "bin_end": -0.09999999999999998,
            "bin_start": -0.19999999999999996,
            "count": 0
           },
           {
            "bin_end": 0,
            "bin_start": -0.09999999999999998,
            "count": 0
           },
           {
            "bin_end": 0.10000000000000009,
            "bin_start": 0,
            "count": 5
           },
           {
            "bin_end": 0.20000000000000007,
            "bin_start": 0.10000000000000009,
            "count": 0
           },
           {
            "bin_end": 0.30000000000000004,
            "bin_start": 0.20000000000000007,
            "count": 0
           },
           {
            "bin_end": 0.4,
            "bin_start": 0.30000000000000004,
            "count": 0
           },
           {
            "bin_end": 0.5,
            "bin_start": 0.4,
            "count": 0
           }
          ],
          "max": "0.0",
          "min": "0.0",
          "nan_count": 0,
          "unique_count": 1
         }
        },
        {
         "dtype": "float64",
         "name": "num_tl_90g_dpd_24m",
         "stats": {
          "histogram": [
           {
            "bin_end": -0.4,
            "bin_start": -0.5,
            "count": 0
           },
           {
            "bin_end": -0.3,
            "bin_start": -0.4,
            "count": 0
           },
           {
            "bin_end": -0.19999999999999996,
            "bin_start": -0.3,
            "count": 0
           },
           {
            "bin_end": -0.09999999999999998,
            "bin_start": -0.19999999999999996,
            "count": 0
           },
           {
            "bin_end": 0,
            "bin_start": -0.09999999999999998,
            "count": 0
           },
           {
            "bin_end": 0.10000000000000009,
            "bin_start": 0,
            "count": 5
           },
           {
            "bin_end": 0.20000000000000007,
            "bin_start": 0.10000000000000009,
            "count": 0
           },
           {
            "bin_end": 0.30000000000000004,
            "bin_start": 0.20000000000000007,
            "count": 0
           },
           {
            "bin_end": 0.4,
            "bin_start": 0.30000000000000004,
            "count": 0
           },
           {
            "bin_end": 0.5,
            "bin_start": 0.4,
            "count": 0
           }
          ],
          "max": "0.0",
          "min": "0.0",
          "nan_count": 0,
          "unique_count": 1
         }
        },
        {
         "dtype": "float64",
         "name": "num_tl_op_past_12m",
         "stats": {
          "histogram": [
           {
            "bin_end": 1.5,
            "bin_start": 1,
            "count": 2
           },
           {
            "bin_end": 2,
            "bin_start": 1.5,
            "count": 0
           },
           {
            "bin_end": 2.5,
            "bin_start": 2,
            "count": 0
           },
           {
            "bin_end": 3,
            "bin_start": 2.5,
            "count": 0
           },
           {
            "bin_end": 3.5,
            "bin_start": 3,
            "count": 1
           },
           {
            "bin_end": 4,
            "bin_start": 3.5,
            "count": 0
           },
           {
            "bin_end": 4.5,
            "bin_start": 4,
            "count": 1
           },
           {
            "bin_end": 5,
            "bin_start": 4.5,
            "count": 0
           },
           {
            "bin_end": 5.5,
            "bin_start": 5,
            "count": 0
           },
           {
            "bin_end": 6,
            "bin_start": 5.5,
            "count": 1
           }
          ],
          "max": "6.0",
          "min": "1.0",
          "nan_count": 0,
          "unique_count": 4
         }
        },
        {
         "dtype": "float64",
         "name": "pct_tl_nvr_dlq",
         "stats": {
          "histogram": [
           {
            "bin_end": 70.03,
            "bin_start": 66.7,
            "count": 1
           },
           {
            "bin_end": 73.36,
            "bin_start": 70.03,
            "count": 0
           },
           {
            "bin_end": 76.69,
            "bin_start": 73.36,
            "count": 0
           },
           {
            "bin_end": 80.02,
            "bin_start": 76.69,
            "count": 0
           },
           {
            "bin_end": 83.35,
            "bin_start": 80.02,
            "count": 0
           },
           {
            "bin_end": 86.68,
            "bin_start": 83.35,
            "count": 1
           },
           {
            "bin_end": 90.01,
            "bin_start": 86.68,
            "count": 0
           },
           {
            "bin_end": 93.34,
            "bin_start": 90.01,
            "count": 1
           },
           {
            "bin_end": 96.67,
            "bin_start": 93.34,
            "count": 0
           },
           {
            "bin_end": 100,
            "bin_start": 96.67,
            "count": 2
           }
          ],
          "max": "100.0",
          "min": "66.7",
          "nan_count": 0,
          "unique_count": 4
         }
        },
        {
         "dtype": "float64",
         "name": "percent_bc_gt_75",
         "stats": {
          "histogram": [
           {
            "bin_end": 10,
            "bin_start": 0,
            "count": 1
           },
           {
            "bin_end": 20,
            "bin_start": 10,
            "count": 0
           },
           {
            "bin_end": 30,
            "bin_start": 20,
            "count": 0
           },
           {
            "bin_end": 40,
            "bin_start": 30,
            "count": 0
           },
           {
            "bin_end": 50,
            "bin_start": 40,
            "count": 0
           },
           {
            "bin_end": 60,
            "bin_start": 50,
            "count": 3
           },
           {
            "bin_end": 70,
            "bin_start": 60,
            "count": 0
           },
           {
            "bin_end": 80,
            "bin_start": 70,
            "count": 0
           },
           {
            "bin_end": 90,
            "bin_start": 80,
            "count": 0
           },
           {
            "bin_end": 100,
            "bin_start": 90,
            "count": 1
           }
          ],
          "max": "100.0",
          "min": "0.0",
          "nan_count": 0,
          "unique_count": 3
         }
        },
        {
         "dtype": "float64",
         "name": "pub_rec_bankruptcies",
         "stats": {
          "histogram": [
           {
            "bin_end": 0.1,
            "bin_start": 0,
            "count": 3
           },
           {
            "bin_end": 0.2,
            "bin_start": 0.1,
            "count": 0
           },
           {
            "bin_end": 0.30000000000000004,
            "bin_start": 0.2,
            "count": 0
           },
           {
            "bin_end": 0.4,
            "bin_start": 0.30000000000000004,
            "count": 0
           },
           {
            "bin_end": 0.5,
            "bin_start": 0.4,
            "count": 0
           },
           {
            "bin_end": 0.6000000000000001,
            "bin_start": 0.5,
            "count": 0
           },
           {
            "bin_end": 0.7000000000000001,
            "bin_start": 0.6000000000000001,
            "count": 0
           },
           {
            "bin_end": 0.8,
            "bin_start": 0.7000000000000001,
            "count": 0
           },
           {
            "bin_end": 0.9,
            "bin_start": 0.8,
            "count": 0
           },
           {
            "bin_end": 1,
            "bin_start": 0.9,
            "count": 2
           }
          ],
          "max": "1.0",
          "min": "0.0",
          "nan_count": 0,
          "unique_count": 2
         }
        },
        {
         "dtype": "float64",
         "name": "tax_liens",
         "stats": {
          "histogram": [
           {
            "bin_end": -0.4,
            "bin_start": -0.5,
            "count": 0
           },
           {
            "bin_end": -0.3,
            "bin_start": -0.4,
            "count": 0
           },
           {
            "bin_end": -0.19999999999999996,
            "bin_start": -0.3,
            "count": 0
           },
           {
            "bin_end": -0.09999999999999998,
            "bin_start": -0.19999999999999996,
            "count": 0
           },
           {
            "bin_end": 0,
            "bin_start": -0.09999999999999998,
            "count": 0
           },
           {
            "bin_end": 0.10000000000000009,
            "bin_start": 0,
            "count": 5
           },
           {
            "bin_end": 0.20000000000000007,
            "bin_start": 0.10000000000000009,
            "count": 0
           },
           {
            "bin_end": 0.30000000000000004,
            "bin_start": 0.20000000000000007,
            "count": 0
           },
           {
            "bin_end": 0.4,
            "bin_start": 0.30000000000000004,
            "count": 0
           },
           {
            "bin_end": 0.5,
            "bin_start": 0.4,
            "count": 0
           }
          ],
          "max": "0.0",
          "min": "0.0",
          "nan_count": 0,
          "unique_count": 1
         }
        },
        {
         "dtype": "float64",
         "name": "tot_hi_cred_lim",
         "stats": {
          "histogram": [
           {
            "bin_end": 81722.3,
            "bin_start": 60644,
            "count": 2
           },
           {
            "bin_end": 102800.6,
            "bin_start": 81722.3,
            "count": 1
           },
           {
            "bin_end": 123878.9,
            "bin_start": 102800.6,
            "count": 0
           },
           {
            "bin_end": 144957.2,
            "bin_start": 123878.9,
            "count": 0
           },
           {
            "bin_end": 166035.5,
            "bin_start": 144957.2,
            "count": 0
           },
           {
            "bin_end": 187113.8,
            "bin_start": 166035.5,
            "count": 0
           },
           {
            "bin_end": 208192.1,
            "bin_start": 187113.8,
            "count": 0
           },
           {
            "bin_end": 229270.4,
            "bin_start": 208192.1,
            "count": 1
           },
           {
            "bin_end": 250348.69999999998,
            "bin_start": 229270.4,
            "count": 0
           },
           {
            "bin_end": 271427,
            "bin_start": 250348.69999999998,
            "count": 1
           }
          ],
          "max": "271427.0",
          "min": "60644.0",
          "nan_count": 0,
          "unique_count": 5
         }
        },
        {
         "dtype": "float64",
         "name": "total_bal_ex_mort",
         "stats": {
          "histogram": [
           {
            "bin_end": 30205.5,
            "bin_start": 25919,
            "count": 1
           },
           {
            "bin_end": 34492,
            "bin_start": 30205.5,
            "count": 0
           },
           {
            "bin_end": 38778.5,
            "bin_start": 34492,
            "count": 1
           },
           {
            "bin_end": 43065,
            "bin_start": 38778.5,
            "count": 0
           },
           {
            "bin_end": 47351.5,
            "bin_start": 43065,
            "count": 1
           },
           {
            "bin_end": 51638,
            "bin_start": 47351.5,
            "count": 0
           },
           {
            "bin_end": 55924.5,
            "bin_start": 51638,
            "count": 0
           },
           {
            "bin_end": 60211,
            "bin_start": 55924.5,
            "count": 0
           },
           {
            "bin_end": 64497.5,
            "bin_start": 60211,
            "count": 1
           },
           {
            "bin_end": 68784,
            "bin_start": 64497.5,
            "count": 1
           }
          ],
          "max": "68784.0",
          "min": "25919.0",
          "nan_count": 0,
          "unique_count": 5
         }
        },
        {
         "dtype": "float64",
         "name": "total_bc_limit",
         "stats": {
          "histogram": [
           {
            "bin_end": 5920,
            "bin_start": 2000,
            "count": 1
           },
           {
            "bin_end": 9840,
            "bin_start": 5920,
            "count": 1
           },
           {
            "bin_end": 13760,
            "bin_start": 9840,
            "count": 0
           },
           {
            "bin_end": 17680,
            "bin_start": 13760,
            "count": 0
           },
           {
            "bin_end": 21600,
            "bin_start": 17680,
            "count": 1
           },
           {
            "bin_end": 25520,
            "bin_start": 21600,
            "count": 0
           },
           {
            "bin_end": 29440,
            "bin_start": 25520,
            "count": 1
           },
           {
            "bin_end": 33360,
            "bin_start": 29440,
            "count": 0
           },
           {
            "bin_end": 37280,
            "bin_start": 33360,
            "count": 0
           },
           {
            "bin_end": 41200,
            "bin_start": 37280,
            "count": 1
           }
          ],
          "max": "41200.0",
          "min": "2000.0",
          "nan_count": 0,
          "unique_count": 5
         }
        },
        {
         "dtype": "float64",
         "name": "total_il_high_credit_limit",
         "stats": {
          "histogram": [
           {
            "bin_end": 25650.6,
            "bin_start": 20000,
            "count": 1
           },
           {
            "bin_end": 31301.2,
            "bin_start": 25650.6,
            "count": 0
           },
           {
            "bin_end": 36951.8,
            "bin_start": 31301.2,
            "count": 0
           },
           {
            "bin_end": 42602.4,
            "bin_start": 36951.8,
            "count": 0
           },
           {
            "bin_end": 48253,
            "bin_start": 42602.4,
            "count": 1
           },
           {
            "bin_end": 53903.600000000006,
            "bin_start": 48253,
            "count": 1
           },
           {
            "bin_end": 59554.200000000004,
            "bin_start": 53903.600000000006,
            "count": 0
           },
           {
            "bin_end": 65204.8,
            "bin_start": 59554.200000000004,
            "count": 1
           },
           {
            "bin_end": 70855.4,
            "bin_start": 65204.8,
            "count": 0
           },
           {
            "bin_end": 76506,
            "bin_start": 70855.4,
            "count": 1
           }
          ],
          "max": "76506.0",
          "min": "20000.0",
          "nan_count": 0,
          "unique_count": 5
         }
        },
        {
         "dtype": "object",
         "name": "hardship_flag",
         "stats": {
          "categories": [
           {
            "count": 5,
            "name": "N"
           }
          ],
          "nan_count": 0,
          "unique_count": 1
         }
        },
        {
         "dtype": "object",
         "name": "debt_settlement_flag",
         "stats": {
          "categories": [
           {
            "count": 5,
            "name": "N"
           }
          ],
          "nan_count": 0,
          "unique_count": 1
         }
        },
        {
         "dtype": "int64",
         "name": "_deepnote_index_column"
        }
       ],
       "row_count": 5,
       "rows": [
        {
         "_deepnote_index_column": 0,
         "acc_now_delinq": 0,
         "acc_open_past_24mths": 6,
         "all_util": 58,
         "annual_inc": 66000,
         "application_type": "Individual",
         "avg_cur_bal": 4775,
         "bc_open_to_buy": 447,
         "bc_util": 77.7,
         "chargeoff_within_12_mths": 0,
         "collection_recovery_fee": 0,
         "collections_12_mths_ex_med": 0,
         "debt_settlement_flag": "N",
         "delinq_2yrs": 0,
         "delinq_amnt": 0,
         "dti": 27.24,
         "hardship_flag": "N",
         "home_ownership": "RENT",
         "il_util": 59,
         "initial_list_status": "w",
         "inq_fi": 1,
         "inq_last_12m": 4,
         "inq_last_6mths": 0,
         "installment": 375.35,
         "int_rate": 0.17190000000000003,
         "issue_d": "Mar-2019",
         "last_pymnt_amnt": 375.35,
         "loan_amnt": 10500,
         "loan_status": "low_risk",
         "max_bal_bc": 1553,
         "mo_sin_old_il_acct": 93,
         "mo_sin_old_rev_tl_op": 96,
         "mo_sin_rcnt_rev_tl_op": 3,
         "mo_sin_rcnt_tl": 3,
         "mort_acc": 0,
         "mths_since_rcnt_il": 3,
         "mths_since_recent_bc": 20,
         "mths_since_recent_inq": 1,
         "next_pymnt_d": "May-2019",
         "num_accts_ever_120_pd": 0,
         "num_actv_bc_tl": 1,
         "num_actv_rev_tl": 2,
         "num_bc_sats": 1,
         "num_bc_tl": 1,
         "num_il_tl": 10,
         "num_op_rev_tl": 3,
         "num_rev_accts": 3,
         "num_rev_tl_bal_gt_0": 2,
         "num_sats": 8,
         "num_tl_120dpd_2m": 0,
         "num_tl_30dpd": 0,
         "num_tl_90g_dpd_24m": 0,
         "num_tl_op_past_12m": 3,
         "open_acc": 8,
         "open_acc_6m": 3,
         "open_act_il": 4,
         "open_il_12m": 2,
         "open_il_24m": 4,
         "open_rv_12m": 1,
         "open_rv_24m": 2,
         "out_prncp": 10204.87,
         "out_prncp_inv": 10204.87,
         "pct_tl_nvr_dlq": 85.7,
         "percent_bc_gt_75": 100,
         "policy_code": 1,
         "pub_rec": 0,
         "pub_rec_bankruptcies": 0,
         "pymnt_plan": "n",
         "recoveries": 0,
         "revol_bal": 1609,
         "tax_liens": 0,
         "tot_coll_amt": 178,
         "tot_cur_bal": 38199,
         "tot_hi_cred_lim": 65687,
         "total_acc": 14,
         "total_bal_ex_mort": 38199,
         "total_bal_il": 36590,
         "total_bc_limit": 2000,
         "total_cu_tl": 0,
         "total_il_high_credit_limit": 61987,
         "total_pymnt": 355.29,
         "total_pymnt_inv": 355.29,
         "total_rec_int": 60.16,
         "total_rec_late_fee": 0,
         "total_rec_prncp": 295.13,
         "total_rev_hi_lim": 3700,
         "verification_status": "Source Verified"
        },
        {
         "_deepnote_index_column": 1,
         "acc_now_delinq": 0,
         "acc_open_past_24mths": 13,
         "all_util": 61,
         "annual_inc": 105000,
         "application_type": "Individual",
         "avg_cur_bal": 13419,
         "bc_open_to_buy": 29502,
         "bc_util": 28.4,
         "chargeoff_within_12_mths": 0,
         "collection_recovery_fee": 0,
         "collections_12_mths_ex_med": 0,
         "debt_settlement_flag": "N",
         "delinq_2yrs": 0,
         "delinq_amnt": 0,
         "dti": 20.23,
         "hardship_flag": "N",
         "home_ownership": "MORTGAGE",
         "il_util": 86,
         "initial_list_status": "w",
         "inq_fi": 4,
         "inq_last_12m": 3,
         "inq_last_6mths": 0,
         "installment": 929.09,
         "int_rate": 0.2,
         "issue_d": "Mar-2019",
         "last_pymnt_amnt": 929.09,
         "loan_amnt": 25000,
         "loan_status": "low_risk",
         "max_bal_bc": 5197,
         "mo_sin_old_il_acct": 87,
         "mo_sin_old_rev_tl_op": 286,
         "mo_sin_rcnt_rev_tl_op": 1,
         "mo_sin_rcnt_tl": 1,
         "mort_acc": 2,
         "mths_since_rcnt_il": 4,
         "mths_since_recent_bc": 1,
         "mths_since_recent_inq": 11,
         "next_pymnt_d": "May-2019",
         "num_accts_ever_120_pd": 3,
         "num_actv_bc_tl": 7,
         "num_actv_rev_tl": 11,
         "num_bc_sats": 8,
         "num_bc_tl": 13,
         "num_il_tl": 14,
         "num_op_rev_tl": 13,
         "num_rev_accts": 18,
         "num_rev_tl_bal_gt_0": 11,
         "num_sats": 17,
         "num_tl_120dpd_2m": 0,
         "num_tl_30dpd": 0,
         "num_tl_90g_dpd_24m": 0,
         "num_tl_op_past_12m": 6,
         "open_acc": 17,
         "open_acc_6m": 3,
         "open_act_il": 3,
         "open_il_12m": 2,
         "open_il_24m": 3,
         "open_rv_12m": 4,
         "open_rv_24m": 8,
         "out_prncp": 24293.13,
         "out_prncp_inv": 24293.13,
         "pct_tl_nvr_dlq": 91.2,
         "percent_bc_gt_75": 50,
         "policy_code": 1,
         "pub_rec": 1,
         "pub_rec_bankruptcies": 1,
         "pymnt_plan": "n",
         "recoveries": 0,
         "revol_bal": 18368,
         "tax_liens": 0,
         "tot_coll_amt": 165,
         "tot_cur_bal": 228119,
         "tot_hi_cred_lim": 271427,
         "total_acc": 34,
         "total_bal_ex_mort": 60641,
         "total_bal_il": 42273,
         "total_bc_limit": 41200,
         "total_cu_tl": 9,
         "total_il_high_credit_limit": 49197,
         "total_pymnt": 873.53,
         "total_pymnt_inv": 873.53,
         "total_rec_int": 166.66,
         "total_rec_late_fee": 0,
         "total_rec_prncp": 706.87,
         "total_rev_hi_lim": 50400,
         "verification_status": "Verified"
        },
        {
         "_deepnote_index_column": 2,
         "acc_now_delinq": 0,
         "acc_open_past_24mths": 6,
         "all_util": 75,
         "annual_inc": 56000,
         "application_type": "Individual",
         "avg_cur_bal": 5711,
         "bc_open_to_buy": 2839,
         "bc_util": 62.1,
         "chargeoff_within_12_mths": 0,
         "collection_recovery_fee": 0,
         "collections_12_mths_ex_med": 0,
         "debt_settlement_flag": "N",
         "delinq_2yrs": 0,
         "delinq_amnt": 0,
         "dti": 24.26,
         "hardship_flag": "N",
         "home_ownership": "MORTGAGE",
         "il_util": 75,
         "initial_list_status": "w",
         "inq_fi": 0,
         "inq_last_12m": 1,
         "inq_last_6mths": 0,
         "installment": 529.88,
         "int_rate": 0.2,
         "issue_d": "Mar-2019",
         "last_pymnt_amnt": 529.88,
         "loan_amnt": 20000,
         "loan_status": "low_risk",
         "max_bal_bc": 2810,
         "mo_sin_old_il_acct": 159,
         "mo_sin_old_rev_tl_op": 156,
         "mo_sin_rcnt_rev_tl_op": 7,
         "mo_sin_rcnt_tl": 4,
         "mort_acc": 0,
         "mths_since_rcnt_il": 4,
         "mths_since_recent_bc": 7,
         "mths_since_recent_inq": 7,
         "next_pymnt_d": "May-2019",
         "num_accts_ever_120_pd": 6,
         "num_actv_bc_tl": 2,
         "num_actv_rev_tl": 5,
         "num_bc_sats": 2,
         "num_bc_tl": 7,
         "num_il_tl": 8,
         "num_op_rev_tl": 5,
         "num_rev_accts": 13,
         "num_rev_tl_bal_gt_0": 5,
         "num_sats": 8,
         "num_tl_120dpd_2m": 0,
         "num_tl_30dpd": 0,
         "num_tl_90g_dpd_24m": 0,
         "num_tl_op_past_12m": 4,
         "open_acc": 8,
         "open_acc_6m": 2,
         "open_act_il": 3,
         "open_il_12m": 2,
         "open_il_24m": 3,
         "open_rv_12m": 2,
         "open_rv_24m": 3,
         "out_prncp": 19636.79,
         "out_prncp_inv": 19636.79,
         "pct_tl_nvr_dlq": 66.7,
         "percent_bc_gt_75": 50,
         "policy_code": 1,
         "pub_rec": 0,
         "pub_rec_bankruptcies": 0,
         "pymnt_plan": "n",
         "recoveries": 0,
         "revol_bal": 13247,
         "tax_liens": 0,
         "tot_coll_amt": 0,
         "tot_cur_bal": 45684,
         "tot_hi_cred_lim": 60644,
         "total_acc": 21,
         "total_bal_ex_mort": 45684,
         "total_bal_il": 32437,
         "total_bc_limit": 7500,
         "total_cu_tl": 4,
         "total_il_high_credit_limit": 43144,
         "total_pymnt": 485.44,
         "total_pymnt_inv": 485.44,
         "total_rec_int": 122.23,
         "total_rec_late_fee": 0,
         "total_rec_prncp": 363.21,
         "total_rev_hi_lim": 17500,
         "verification_status": "Verified"
        },
        {
         "_deepnote_index_column": 3,
         "acc_now_delinq": 0,
         "acc_open_past_24mths": 4,
         "all_util": 69,
         "annual_inc": 92000,
         "application_type": "Individual",
         "avg_cur_bal": 6878,
         "bc_open_to_buy": 4899,
         "bc_util": 75.1,
         "chargeoff_within_12_mths": 0,
         "collection_recovery_fee": 0,
         "collections_12_mths_ex_med": 0,
         "debt_settlement_flag": "N",
         "delinq_2yrs": 0,
         "delinq_amnt": 0,
         "dti": 31.44,
         "hardship_flag": "N",
         "home_ownership": "RENT",
         "il_util": 66,
         "initial_list_status": "w",
         "inq_fi": 3,
         "inq_last_12m": 4,
         "inq_last_6mths": 1,
         "installment": 353.55,
         "int_rate": 0.16399999999999998,
         "issue_d": "Mar-2019",
         "last_pymnt_amnt": 353.55,
         "loan_amnt": 10000,
         "loan_status": "low_risk",
         "max_bal_bc": 6360,
         "mo_sin_old_il_acct": 100,
         "mo_sin_old_rev_tl_op": 89,
         "mo_sin_rcnt_rev_tl_op": 24,
         "mo_sin_rcnt_tl": 9,
         "mort_acc": 0,
         "mths_since_rcnt_il": 9,
         "mths_since_recent_bc": 34,
         "mths_since_recent_inq": 0,
         "next_pymnt_d": "May-2019",
         "num_accts_ever_120_pd": 0,
         "num_actv_bc_tl": 4,
         "num_actv_rev_tl": 6,
         "num_bc_sats": 4,
         "num_bc_tl": 4,
         "num_il_tl": 17,
         "num_op_rev_tl": 6,
         "num_rev_accts": 6,
         "num_rev_tl_bal_gt_0": 6,
         "num_sats": 10,
         "num_tl_120dpd_2m": 0,
         "num_tl_30dpd": 0,
         "num_tl_90g_dpd_24m": 0,
         "num_tl_op_past_12m": 1,
         "open_acc": 10,
         "open_acc_6m": 0,
         "open_act_il": 4,
         "open_il_12m": 1,
         "open_il_24m": 3,
         "open_rv_12m": 0,
         "open_rv_24m": 1,
         "out_prncp": 9719.34,
         "out_prncp_inv": 9719.34,
         "pct_tl_nvr_dlq": 100,
         "percent_bc_gt_75": 50,
         "policy_code": 1,
         "pub_rec": 1,
         "pub_rec_bankruptcies": 1,
         "pymnt_plan": "n",
         "recoveries": 0,
         "revol_bal": 17996,
         "tax_liens": 0,
         "tot_coll_amt": 0,
         "tot_cur_bal": 68784,
         "tot_hi_cred_lim": 99506,
         "total_acc": 23,
         "total_bal_ex_mort": 68784,
         "total_bal_il": 50788,
         "total_bc_limit": 19700,
         "total_cu_tl": 5,
         "total_il_high_credit_limit": 76506,
         "total_pymnt": 335.33,
         "total_pymnt_inv": 335.33,
         "total_rec_int": 54.67,
         "total_rec_late_fee": 0,
         "total_rec_prncp": 280.66,
         "total_rev_hi_lim": 23000,
         "verification_status": "Verified"
        },
        {
         "_deepnote_index_column": 4,
         "acc_now_delinq": 0,
         "acc_open_past_24mths": 4,
         "all_util": 41,
         "annual_inc": 52000,
         "application_type": "Individual",
         "avg_cur_bal": 13673,
         "bc_open_to_buy": 19699,
         "bc_util": 28.6,
         "chargeoff_within_12_mths": 0,
         "collection_recovery_fee": 0,
         "collections_12_mths_ex_med": 0,
         "debt_settlement_flag": "N",
         "delinq_2yrs": 0,
         "delinq_amnt": 0,
         "dti": 18.76,
         "hardship_flag": "N",
         "home_ownership": "MORTGAGE",
         "il_util": 84,
         "initial_list_status": "w",
         "inq_fi": 2,
         "inq_last_12m": 2,
         "inq_last_6mths": 1,
         "installment": 520.39,
         "int_rate": 0.1474,
         "issue_d": "Mar-2019",
         "last_pymnt_amnt": 520.39,
         "loan_amnt": 22000,
         "loan_status": "low_risk",
         "max_bal_bc": 3600,
         "mo_sin_old_il_acct": 67,
         "mo_sin_old_rev_tl_op": 138,
         "mo_sin_rcnt_rev_tl_op": 11,
         "mo_sin_rcnt_tl": 11,
         "mort_acc": 4,
         "mths_since_rcnt_il": 14,
         "mths_since_recent_bc": 11,
         "mths_since_recent_inq": 0,
         "next_pymnt_d": "May-2019",
         "num_accts_ever_120_pd": 0,
         "num_actv_bc_tl": 4,
         "num_actv_rev_tl": 6,
         "num_bc_sats": 7,
         "num_bc_tl": 11,
         "num_il_tl": 6,
         "num_op_rev_tl": 12,
         "num_rev_accts": 18,
         "num_rev_tl_bal_gt_0": 6,
         "num_sats": 14,
         "num_tl_120dpd_2m": 0,
         "num_tl_30dpd": 0,
         "num_tl_90g_dpd_24m": 0,
         "num_tl_op_past_12m": 1,
         "open_acc": 14,
         "open_acc_6m": 0,
         "open_act_il": 1,
         "open_il_12m": 0,
         "open_il_24m": 2,
         "open_rv_12m": 1,
         "open_rv_24m": 1,
         "out_prncp": 21614.73,
         "out_prncp_inv": 21614.73,
         "pct_tl_nvr_dlq": 100,
         "percent_bc_gt_75": 0,
         "policy_code": 1,
         "pub_rec": 0,
         "pub_rec_bankruptcies": 0,
         "pymnt_plan": "n",
         "recoveries": 0,
         "revol_bal": 9091,
         "tax_liens": 0,
         "tot_coll_amt": 0,
         "tot_cur_bal": 177745,
         "tot_hi_cred_lim": 219750,
         "total_acc": 28,
         "total_bal_ex_mort": 25919,
         "total_bal_il": 16828,
         "total_bc_limit": 27600,
         "total_cu_tl": 0,
         "total_il_high_credit_limit": 20000,
         "total_pymnt": 484.36,
         "total_pymnt_inv": 484.36,
         "total_rec_int": 99.09,
         "total_rec_late_fee": 0,
         "total_rec_prncp": 385.27,
         "total_rev_hi_lim": 43100,
         "verification_status": "Not Verified"
        }
       ]
      },
      "text/html": [
       "<div>\n",
       "<style scoped>\n",
       "    .dataframe tbody tr th:only-of-type {\n",
       "        vertical-align: middle;\n",
       "    }\n",
       "\n",
       "    .dataframe tbody tr th {\n",
       "        vertical-align: top;\n",
       "    }\n",
       "\n",
       "    .dataframe thead th {\n",
       "        text-align: right;\n",
       "    }\n",
       "</style>\n",
       "<table border=\"1\" class=\"dataframe\">\n",
       "  <thead>\n",
       "    <tr style=\"text-align: right;\">\n",
       "      <th></th>\n",
       "      <th>loan_amnt</th>\n",
       "      <th>int_rate</th>\n",
       "      <th>installment</th>\n",
       "      <th>home_ownership</th>\n",
       "      <th>annual_inc</th>\n",
       "      <th>verification_status</th>\n",
       "      <th>issue_d</th>\n",
       "      <th>loan_status</th>\n",
       "      <th>pymnt_plan</th>\n",
       "      <th>dti</th>\n",
       "      <th>...</th>\n",
       "      <th>pct_tl_nvr_dlq</th>\n",
       "      <th>percent_bc_gt_75</th>\n",
       "      <th>pub_rec_bankruptcies</th>\n",
       "      <th>tax_liens</th>\n",
       "      <th>tot_hi_cred_lim</th>\n",
       "      <th>total_bal_ex_mort</th>\n",
       "      <th>total_bc_limit</th>\n",
       "      <th>total_il_high_credit_limit</th>\n",
       "      <th>hardship_flag</th>\n",
       "      <th>debt_settlement_flag</th>\n",
       "    </tr>\n",
       "  </thead>\n",
       "  <tbody>\n",
       "    <tr>\n",
       "      <th>0</th>\n",
       "      <td>10500.0</td>\n",
       "      <td>0.1719</td>\n",
       "      <td>375.35</td>\n",
       "      <td>RENT</td>\n",
       "      <td>66000.0</td>\n",
       "      <td>Source Verified</td>\n",
       "      <td>Mar-2019</td>\n",
       "      <td>low_risk</td>\n",
       "      <td>n</td>\n",
       "      <td>27.24</td>\n",
       "      <td>...</td>\n",
       "      <td>85.7</td>\n",
       "      <td>100.0</td>\n",
       "      <td>0.0</td>\n",
       "      <td>0.0</td>\n",
       "      <td>65687.0</td>\n",
       "      <td>38199.0</td>\n",
       "      <td>2000.0</td>\n",
       "      <td>61987.0</td>\n",
       "      <td>N</td>\n",
       "      <td>N</td>\n",
       "    </tr>\n",
       "    <tr>\n",
       "      <th>1</th>\n",
       "      <td>25000.0</td>\n",
       "      <td>0.2000</td>\n",
       "      <td>929.09</td>\n",
       "      <td>MORTGAGE</td>\n",
       "      <td>105000.0</td>\n",
       "      <td>Verified</td>\n",
       "      <td>Mar-2019</td>\n",
       "      <td>low_risk</td>\n",
       "      <td>n</td>\n",
       "      <td>20.23</td>\n",
       "      <td>...</td>\n",
       "      <td>91.2</td>\n",
       "      <td>50.0</td>\n",
       "      <td>1.0</td>\n",
       "      <td>0.0</td>\n",
       "      <td>271427.0</td>\n",
       "      <td>60641.0</td>\n",
       "      <td>41200.0</td>\n",
       "      <td>49197.0</td>\n",
       "      <td>N</td>\n",
       "      <td>N</td>\n",
       "    </tr>\n",
       "    <tr>\n",
       "      <th>2</th>\n",
       "      <td>20000.0</td>\n",
       "      <td>0.2000</td>\n",
       "      <td>529.88</td>\n",
       "      <td>MORTGAGE</td>\n",
       "      <td>56000.0</td>\n",
       "      <td>Verified</td>\n",
       "      <td>Mar-2019</td>\n",
       "      <td>low_risk</td>\n",
       "      <td>n</td>\n",
       "      <td>24.26</td>\n",
       "      <td>...</td>\n",
       "      <td>66.7</td>\n",
       "      <td>50.0</td>\n",
       "      <td>0.0</td>\n",
       "      <td>0.0</td>\n",
       "      <td>60644.0</td>\n",
       "      <td>45684.0</td>\n",
       "      <td>7500.0</td>\n",
       "      <td>43144.0</td>\n",
       "      <td>N</td>\n",
       "      <td>N</td>\n",
       "    </tr>\n",
       "    <tr>\n",
       "      <th>3</th>\n",
       "      <td>10000.0</td>\n",
       "      <td>0.1640</td>\n",
       "      <td>353.55</td>\n",
       "      <td>RENT</td>\n",
       "      <td>92000.0</td>\n",
       "      <td>Verified</td>\n",
       "      <td>Mar-2019</td>\n",
       "      <td>low_risk</td>\n",
       "      <td>n</td>\n",
       "      <td>31.44</td>\n",
       "      <td>...</td>\n",
       "      <td>100.0</td>\n",
       "      <td>50.0</td>\n",
       "      <td>1.0</td>\n",
       "      <td>0.0</td>\n",
       "      <td>99506.0</td>\n",
       "      <td>68784.0</td>\n",
       "      <td>19700.0</td>\n",
       "      <td>76506.0</td>\n",
       "      <td>N</td>\n",
       "      <td>N</td>\n",
       "    </tr>\n",
       "    <tr>\n",
       "      <th>4</th>\n",
       "      <td>22000.0</td>\n",
       "      <td>0.1474</td>\n",
       "      <td>520.39</td>\n",
       "      <td>MORTGAGE</td>\n",
       "      <td>52000.0</td>\n",
       "      <td>Not Verified</td>\n",
       "      <td>Mar-2019</td>\n",
       "      <td>low_risk</td>\n",
       "      <td>n</td>\n",
       "      <td>18.76</td>\n",
       "      <td>...</td>\n",
       "      <td>100.0</td>\n",
       "      <td>0.0</td>\n",
       "      <td>0.0</td>\n",
       "      <td>0.0</td>\n",
       "      <td>219750.0</td>\n",
       "      <td>25919.0</td>\n",
       "      <td>27600.0</td>\n",
       "      <td>20000.0</td>\n",
       "      <td>N</td>\n",
       "      <td>N</td>\n",
       "    </tr>\n",
       "  </tbody>\n",
       "</table>\n",
       "<p>5 rows × 86 columns</p>\n",
       "</div>"
      ],
      "text/plain": [
       "   loan_amnt  int_rate  installment home_ownership  annual_inc  \\\n",
       "0    10500.0    0.1719       375.35           RENT     66000.0   \n",
       "1    25000.0    0.2000       929.09       MORTGAGE    105000.0   \n",
       "2    20000.0    0.2000       529.88       MORTGAGE     56000.0   \n",
       "3    10000.0    0.1640       353.55           RENT     92000.0   \n",
       "4    22000.0    0.1474       520.39       MORTGAGE     52000.0   \n",
       "\n",
       "  verification_status   issue_d loan_status pymnt_plan    dti  ...  \\\n",
       "0     Source Verified  Mar-2019    low_risk          n  27.24  ...   \n",
       "1            Verified  Mar-2019    low_risk          n  20.23  ...   \n",
       "2            Verified  Mar-2019    low_risk          n  24.26  ...   \n",
       "3            Verified  Mar-2019    low_risk          n  31.44  ...   \n",
       "4        Not Verified  Mar-2019    low_risk          n  18.76  ...   \n",
       "\n",
       "   pct_tl_nvr_dlq  percent_bc_gt_75  pub_rec_bankruptcies  tax_liens  \\\n",
       "0            85.7             100.0                   0.0        0.0   \n",
       "1            91.2              50.0                   1.0        0.0   \n",
       "2            66.7              50.0                   0.0        0.0   \n",
       "3           100.0              50.0                   1.0        0.0   \n",
       "4           100.0               0.0                   0.0        0.0   \n",
       "\n",
       "   tot_hi_cred_lim  total_bal_ex_mort total_bc_limit  \\\n",
       "0          65687.0            38199.0         2000.0   \n",
       "1         271427.0            60641.0        41200.0   \n",
       "2          60644.0            45684.0         7500.0   \n",
       "3          99506.0            68784.0        19700.0   \n",
       "4         219750.0            25919.0        27600.0   \n",
       "\n",
       "   total_il_high_credit_limit  hardship_flag  debt_settlement_flag  \n",
       "0                     61987.0              N                     N  \n",
       "1                     49197.0              N                     N  \n",
       "2                     43144.0              N                     N  \n",
       "3                     76506.0              N                     N  \n",
       "4                     20000.0              N                     N  \n",
       "\n",
       "[5 rows x 86 columns]"
      ]
     },
     "execution_count": 4,
     "metadata": {},
     "output_type": "execute_result"
    }
   ],
   "source": [
    "# Load the data\n",
    "file_path = Path('LoanStats_2019Q1.csv')\n",
    "# path for running this notebook on deepnote.com\n",
    "# file_path = Path('/work/LoanStats_2019Q1.csv')\n",
    "\n",
    "df = pd.read_csv(file_path, skiprows=1)[:-2]\n",
    "df = df.loc[:, columns].copy()\n",
    "\n",
    "# Drop the null columns where all values are null\n",
    "df = df.dropna(axis='columns', how='all')\n",
    "\n",
    "# Drop the null rows\n",
    "df = df.dropna()\n",
    "\n",
    "# Remove the `Issued` loan status\n",
    "issued_mask = df['loan_status'] != 'Issued'\n",
    "df = df.loc[issued_mask]\n",
    "\n",
    "# convert interest rate to numerical\n",
    "df['int_rate'] = df['int_rate'].str.replace('%', '')\n",
    "df['int_rate'] = df['int_rate'].astype('float') / 100\n",
    "\n",
    "\n",
    "# Convert the target column values to low_risk and high_risk based on their values\n",
    "x = {'Current': 'low_risk'}   \n",
    "df = df.replace(x)\n",
    "\n",
    "x = dict.fromkeys(['Late (31-120 days)', 'Late (16-30 days)', 'Default', 'In Grace Period'], 'high_risk')    \n",
    "df = df.replace(x)\n",
    "\n",
    "df.reset_index(inplace=True, drop=True)\n",
    "\n",
    "df.head()"
   ]
  },
  {
   "cell_type": "markdown",
   "metadata": {
    "cell_id": "00006-0fac39c3-600d-4047-9930-d6fb7da47842",
    "deepnote_cell_height": 81.953125,
    "deepnote_cell_type": "markdown"
   },
   "source": [
    "# Split the Data into Training and Testing"
   ]
  },
  {
   "cell_type": "code",
   "execution_count": 5,
   "metadata": {
    "cell_id": "8a4de9e75c61442dae3f105e261bd212",
    "deepnote_cell_height": 134.9375,
    "deepnote_cell_type": "code",
    "deepnote_to_be_reexecuted": false,
    "execution_millis": 99,
    "execution_start": 1651997784036,
    "source_hash": "a09d9919",
    "tags": []
   },
   "outputs": [],
   "source": [
    "# Create our features - get_dummies will ignore numerical columns so can apply to entire df\n",
    "X = pd.get_dummies(df)\n",
    "# drop the columns that are actually the targets\n",
    "X = X.drop(columns=['loan_status_high_risk', 'loan_status_low_risk'])"
   ]
  },
  {
   "cell_type": "code",
   "execution_count": 6,
   "metadata": {
    "cell_id": "00007-9f754bdc-a148-4064-97b1-619cb9c1fbd4",
    "deepnote_cell_height": 98.9375,
    "deepnote_cell_type": "code",
    "deepnote_to_be_reexecuted": false,
    "execution_millis": 5,
    "execution_start": 1651997784145,
    "source_hash": "eca87598"
   },
   "outputs": [],
   "source": [
    "# Create our target\n",
    "y = df[target]"
   ]
  },
  {
   "cell_type": "code",
   "execution_count": 7,
   "metadata": {
    "cell_id": "00008-fd656451-bf58-456d-96cc-9c5f40be09c1",
    "deepnote_cell_height": 536.140625,
    "deepnote_cell_type": "code",
    "deepnote_to_be_reexecuted": false,
    "execution_millis": 1455,
    "execution_start": 1651997784159,
    "source_hash": "e6b984ff"
   },
   "outputs": [
    {
     "data": {
      "application/vnd.deepnote.dataframe.v3+json": {
       "column_count": 95,
       "columns": [
        {
         "dtype": "float64",
         "name": "loan_amnt",
         "stats": {
          "histogram": [
           {
            "bin_end": 7781.7,
            "bin_start": 1000,
            "count": 1
           },
           {
            "bin_end": 14563.4,
            "bin_start": 7781.7,
            "count": 2
           },
           {
            "bin_end": 21345.1,
            "bin_start": 14563.4,
            "count": 2
           },
           {
            "bin_end": 28126.8,
            "bin_start": 21345.1,
            "count": 1
           },
           {
            "bin_end": 34908.5,
            "bin_start": 28126.8,
            "count": 0
           },
           {
            "bin_end": 41690.2,
            "bin_start": 34908.5,
            "count": 1
           },
           {
            "bin_end": 48471.9,
            "bin_start": 41690.2,
            "count": 0
           },
           {
            "bin_end": 55253.6,
            "bin_start": 48471.9,
            "count": 0
           },
           {
            "bin_end": 62035.299999999996,
            "bin_start": 55253.6,
            "count": 0
           },
           {
            "bin_end": 68817,
            "bin_start": 62035.299999999996,
            "count": 1
           }
          ],
          "max": "68817.0",
          "min": "1000.0",
          "nan_count": 0,
          "unique_count": 8
         }
        },
        {
         "dtype": "float64",
         "name": "int_rate",
         "stats": {
          "histogram": [
           {
            "bin_end": 6881.743316609238,
            "bin_start": 0.04812956581980619,
            "count": 7
           },
           {
            "bin_end": 13763.438503652655,
            "bin_start": 6881.743316609238,
            "count": 0
           },
           {
            "bin_end": 20645.133690696075,
            "bin_start": 13763.438503652655,
            "count": 0
           },
           {
            "bin_end": 27526.828877739492,
            "bin_start": 20645.133690696075,
            "count": 0
           },
           {
            "bin_end": 34408.524064782905,
            "bin_start": 27526.828877739492,
            "count": 0
           },
           {
            "bin_end": 41290.219251826325,
            "bin_start": 34408.524064782905,
            "count": 0
           },
           {
            "bin_end": 48171.91443886974,
            "bin_start": 41290.219251826325,
            "count": 0
           },
           {
            "bin_end": 55053.60962591316,
            "bin_start": 48171.91443886974,
            "count": 0
           },
           {
            "bin_end": 61935.30481295658,
            "bin_start": 55053.60962591316,
            "count": 0
           },
           {
            "bin_end": 68817,
            "bin_start": 61935.30481295658,
            "count": 1
           }
          ],
          "max": "68817.0",
          "min": "0.04812956581980619",
          "nan_count": 0,
          "unique_count": 8
         }
        },
        {
         "dtype": "float64",
         "name": "installment",
         "stats": {
          "histogram": [
           {
            "bin_end": 6909.501,
            "bin_start": 30.89,
            "count": 7
           },
           {
            "bin_end": 13788.112,
            "bin_start": 6909.501,
            "count": 0
           },
           {
            "bin_end": 20666.722999999998,
            "bin_start": 13788.112,
            "count": 0
           },
           {
            "bin_end": 27545.334,
            "bin_start": 20666.722999999998,
            "count": 0
           },
           {
            "bin_end": 34423.945,
            "bin_start": 27545.334,
            "count": 0
           },
           {
            "bin_end": 41302.556,
            "bin_start": 34423.945,
            "count": 0
           },
           {
            "bin_end": 48181.167,
            "bin_start": 41302.556,
            "count": 0
           },
           {
            "bin_end": 55059.778,
            "bin_start": 48181.167,
            "count": 0
           },
           {
            "bin_end": 61938.388999999996,
            "bin_start": 55059.778,
            "count": 0
           },
           {
            "bin_end": 68817,
            "bin_start": 61938.388999999996,
            "count": 1
           }
          ],
          "max": "68817.0",
          "min": "30.89",
          "nan_count": 0,
          "unique_count": 8
         }
        },
        {
         "dtype": "float64",
         "name": "annual_inc",
         "stats": {
          "histogram": [
           {
            "bin_end": 879786,
            "bin_start": 40,
            "count": 7
           },
           {
            "bin_end": 1759532,
            "bin_start": 879786,
            "count": 0
           },
           {
            "bin_end": 2639278,
            "bin_start": 1759532,
            "count": 0
           },
           {
            "bin_end": 3519024,
            "bin_start": 2639278,
            "count": 0
           },
           {
            "bin_end": 4398770,
            "bin_start": 3519024,
            "count": 0
           },
           {
            "bin_end": 5278516,
            "bin_start": 4398770,
            "count": 0
           },
           {
            "bin_end": 6158262,
            "bin_start": 5278516,
            "count": 0
           },
           {
            "bin_end": 7038008,
            "bin_start": 6158262,
            "count": 0
           },
           {
            "bin_end": 7917754,
            "bin_start": 7038008,
            "count": 0
           },
           {
            "bin_end": 8797500,
            "bin_start": 7917754,
            "count": 1
           }
          ],
          "max": "8797500.0",
          "min": "40.0",
          "nan_count": 0,
          "unique_count": 8
         }
        },
        {
         "dtype": "float64",
         "name": "dti",
         "stats": {
          "histogram": [
           {
            "bin_end": 6881.7,
            "bin_start": 0,
            "count": 7
           },
           {
            "bin_end": 13763.4,
            "bin_start": 6881.7,
            "count": 0
           },
           {
            "bin_end": 20645.1,
            "bin_start": 13763.4,
            "count": 0
           },
           {
            "bin_end": 27526.8,
            "bin_start": 20645.1,
            "count": 0
           },
           {
            "bin_end": 34408.5,
            "bin_start": 27526.8,
            "count": 0
           },
           {
            "bin_end": 41290.2,
            "bin_start": 34408.5,
            "count": 0
           },
           {
            "bin_end": 48171.9,
            "bin_start": 41290.2,
            "count": 0
           },
           {
            "bin_end": 55053.6,
            "bin_start": 48171.9,
            "count": 0
           },
           {
            "bin_end": 61935.299999999996,
            "bin_start": 55053.6,
            "count": 0
           },
           {
            "bin_end": 68817,
            "bin_start": 61935.299999999996,
            "count": 1
           }
          ],
          "max": "68817.0",
          "min": "0.0",
          "nan_count": 0,
          "unique_count": 8
         }
        },
        {
         "dtype": "float64",
         "name": "delinq_2yrs",
         "stats": {
          "histogram": [
           {
            "bin_end": 6881.7,
            "bin_start": 0,
            "count": 7
           },
           {
            "bin_end": 13763.4,
            "bin_start": 6881.7,
            "count": 0
           },
           {
            "bin_end": 20645.1,
            "bin_start": 13763.4,
            "count": 0
           },
           {
            "bin_end": 27526.8,
            "bin_start": 20645.1,
            "count": 0
           },
           {
            "bin_end": 34408.5,
            "bin_start": 27526.8,
            "count": 0
           },
           {
            "bin_end": 41290.2,
            "bin_start": 34408.5,
            "count": 0
           },
           {
            "bin_end": 48171.9,
            "bin_start": 41290.2,
            "count": 0
           },
           {
            "bin_end": 55053.6,
            "bin_start": 48171.9,
            "count": 0
           },
           {
            "bin_end": 61935.299999999996,
            "bin_start": 55053.6,
            "count": 0
           },
           {
            "bin_end": 68817,
            "bin_start": 61935.299999999996,
            "count": 1
           }
          ],
          "max": "68817.0",
          "min": "0.0",
          "nan_count": 0,
          "unique_count": 5
         }
        },
        {
         "dtype": "float64",
         "name": "inq_last_6mths",
         "stats": {
          "histogram": [
           {
            "bin_end": 6881.7,
            "bin_start": 0,
            "count": 7
           },
           {
            "bin_end": 13763.4,
            "bin_start": 6881.7,
            "count": 0
           },
           {
            "bin_end": 20645.1,
            "bin_start": 13763.4,
            "count": 0
           },
           {
            "bin_end": 27526.8,
            "bin_start": 20645.1,
            "count": 0
           },
           {
            "bin_end": 34408.5,
            "bin_start": 27526.8,
            "count": 0
           },
           {
            "bin_end": 41290.2,
            "bin_start": 34408.5,
            "count": 0
           },
           {
            "bin_end": 48171.9,
            "bin_start": 41290.2,
            "count": 0
           },
           {
            "bin_end": 55053.6,
            "bin_start": 48171.9,
            "count": 0
           },
           {
            "bin_end": 61935.299999999996,
            "bin_start": 55053.6,
            "count": 0
           },
           {
            "bin_end": 68817,
            "bin_start": 61935.299999999996,
            "count": 1
           }
          ],
          "max": "68817.0",
          "min": "0.0",
          "nan_count": 0,
          "unique_count": 6
         }
        },
        {
         "dtype": "float64",
         "name": "open_acc",
         "stats": {
          "histogram": [
           {
            "bin_end": 6883.5,
            "bin_start": 2,
            "count": 7
           },
           {
            "bin_end": 13765,
            "bin_start": 6883.5,
            "count": 0
           },
           {
            "bin_end": 20646.5,
            "bin_start": 13765,
            "count": 0
           },
           {
            "bin_end": 27528,
            "bin_start": 20646.5,
            "count": 0
           },
           {
            "bin_end": 34409.5,
            "bin_start": 27528,
            "count": 0
           },
           {
            "bin_end": 41291,
            "bin_start": 34409.5,
            "count": 0
           },
           {
            "bin_end": 48172.5,
            "bin_start": 41291,
            "count": 0
           },
           {
            "bin_end": 55054,
            "bin_start": 48172.5,
            "count": 0
           },
           {
            "bin_end": 61935.5,
            "bin_start": 55054,
            "count": 0
           },
           {
            "bin_end": 68817,
            "bin_start": 61935.5,
            "count": 1
           }
          ],
          "max": "68817.0",
          "min": "2.0",
          "nan_count": 0,
          "unique_count": 8
         }
        },
        {
         "dtype": "float64",
         "name": "pub_rec",
         "stats": {
          "histogram": [
           {
            "bin_end": 6881.7,
            "bin_start": 0,
            "count": 7
           },
           {
            "bin_end": 13763.4,
            "bin_start": 6881.7,
            "count": 0
           },
           {
            "bin_end": 20645.1,
            "bin_start": 13763.4,
            "count": 0
           },
           {
            "bin_end": 27526.8,
            "bin_start": 20645.1,
            "count": 0
           },
           {
            "bin_end": 34408.5,
            "bin_start": 27526.8,
            "count": 0
           },
           {
            "bin_end": 41290.2,
            "bin_start": 34408.5,
            "count": 0
           },
           {
            "bin_end": 48171.9,
            "bin_start": 41290.2,
            "count": 0
           },
           {
            "bin_end": 55053.6,
            "bin_start": 48171.9,
            "count": 0
           },
           {
            "bin_end": 61935.299999999996,
            "bin_start": 55053.6,
            "count": 0
           },
           {
            "bin_end": 68817,
            "bin_start": 61935.299999999996,
            "count": 1
           }
          ],
          "max": "68817.0",
          "min": "0.0",
          "nan_count": 0,
          "unique_count": 5
         }
        },
        {
         "dtype": "float64",
         "name": "revol_bal",
         "stats": {
          "histogram": [
           {
            "bin_end": 58719.1,
            "bin_start": 0,
            "count": 6
           },
           {
            "bin_end": 117438.2,
            "bin_start": 58719.1,
            "count": 1
           },
           {
            "bin_end": 176157.3,
            "bin_start": 117438.2,
            "count": 0
           },
           {
            "bin_end": 234876.4,
            "bin_start": 176157.3,
            "count": 0
           },
           {
            "bin_end": 293595.5,
            "bin_start": 234876.4,
            "count": 0
           },
           {
            "bin_end": 352314.6,
            "bin_start": 293595.5,
            "count": 0
           },
           {
            "bin_end": 411033.7,
            "bin_start": 352314.6,
            "count": 0
           },
           {
            "bin_end": 469752.8,
            "bin_start": 411033.7,
            "count": 0
           },
           {
            "bin_end": 528471.9,
            "bin_start": 469752.8,
            "count": 0
           },
           {
            "bin_end": 587191,
            "bin_start": 528471.9,
            "count": 1
           }
          ],
          "max": "587191.0",
          "min": "0.0",
          "nan_count": 0,
          "unique_count": 8
         }
        },
        {
         "dtype": "float64",
         "name": "total_acc",
         "stats": {
          "histogram": [
           {
            "bin_end": 6884.4,
            "bin_start": 3,
            "count": 7
           },
           {
            "bin_end": 13765.8,
            "bin_start": 6884.4,
            "count": 0
           },
           {
            "bin_end": 20647.199999999997,
            "bin_start": 13765.8,
            "count": 0
           },
           {
            "bin_end": 27528.6,
            "bin_start": 20647.199999999997,
            "count": 0
           },
           {
            "bin_end": 34410,
            "bin_start": 27528.6,
            "count": 0
           },
           {
            "bin_end": 41291.399999999994,
            "bin_start": 34410,
            "count": 0
           },
           {
            "bin_end": 48172.799999999996,
            "bin_start": 41291.399999999994,
            "count": 0
           },
           {
            "bin_end": 55054.2,
            "bin_start": 48172.799999999996,
            "count": 0
           },
           {
            "bin_end": 61935.6,
            "bin_start": 55054.2,
            "count": 0
           },
           {
            "bin_end": 68817,
            "bin_start": 61935.6,
            "count": 1
           }
          ],
          "max": "68817.0",
          "min": "3.0",
          "nan_count": 0,
          "unique_count": 8
         }
        },
        {
         "dtype": "float64",
         "name": "out_prncp",
         "stats": {
          "histogram": [
           {
            "bin_end": 6881.7,
            "bin_start": 0,
            "count": 1
           },
           {
            "bin_end": 13763.4,
            "bin_start": 6881.7,
            "count": 2
           },
           {
            "bin_end": 20645.1,
            "bin_start": 13763.4,
            "count": 2
           },
           {
            "bin_end": 27526.8,
            "bin_start": 20645.1,
            "count": 1
           },
           {
            "bin_end": 34408.5,
            "bin_start": 27526.8,
            "count": 0
           },
           {
            "bin_end": 41290.2,
            "bin_start": 34408.5,
            "count": 1
           },
           {
            "bin_end": 48171.9,
            "bin_start": 41290.2,
            "count": 0
           },
           {
            "bin_end": 55053.6,
            "bin_start": 48171.9,
            "count": 0
           },
           {
            "bin_end": 61935.299999999996,
            "bin_start": 55053.6,
            "count": 0
           },
           {
            "bin_end": 68817,
            "bin_start": 61935.299999999996,
            "count": 1
           }
          ],
          "max": "68817.0",
          "min": "0.0",
          "nan_count": 0,
          "unique_count": 8
         }
        },
        {
         "dtype": "float64",
         "name": "out_prncp_inv",
         "stats": {
          "histogram": [
           {
            "bin_end": 6881.7,
            "bin_start": 0,
            "count": 1
           },
           {
            "bin_end": 13763.4,
            "bin_start": 6881.7,
            "count": 2
           },
           {
            "bin_end": 20645.1,
            "bin_start": 13763.4,
            "count": 2
           },
           {
            "bin_end": 27526.8,
            "bin_start": 20645.1,
            "count": 1
           },
           {
            "bin_end": 34408.5,
            "bin_start": 27526.8,
            "count": 0
           },
           {
            "bin_end": 41290.2,
            "bin_start": 34408.5,
            "count": 1
           },
           {
            "bin_end": 48171.9,
            "bin_start": 41290.2,
            "count": 0
           },
           {
            "bin_end": 55053.6,
            "bin_start": 48171.9,
            "count": 0
           },
           {
            "bin_end": 61935.299999999996,
            "bin_start": 55053.6,
            "count": 0
           },
           {
            "bin_end": 68817,
            "bin_start": 61935.299999999996,
            "count": 1
           }
          ],
          "max": "68817.0",
          "min": "0.0",
          "nan_count": 0,
          "unique_count": 8
         }
        },
        {
         "dtype": "float64",
         "name": "total_pymnt",
         "stats": {
          "histogram": [
           {
            "bin_end": 6881.7,
            "bin_start": 0,
            "count": 6
           },
           {
            "bin_end": 13763.4,
            "bin_start": 6881.7,
            "count": 0
           },
           {
            "bin_end": 20645.1,
            "bin_start": 13763.4,
            "count": 0
           },
           {
            "bin_end": 27526.8,
            "bin_start": 20645.1,
            "count": 0
           },
           {
            "bin_end": 34408.5,
            "bin_start": 27526.8,
            "count": 0
           },
           {
            "bin_end": 41290.2,
            "bin_start": 34408.5,
            "count": 0
           },
           {
            "bin_end": 48171.9,
            "bin_start": 41290.2,
            "count": 1
           },
           {
            "bin_end": 55053.6,
            "bin_start": 48171.9,
            "count": 0
           },
           {
            "bin_end": 61935.299999999996,
            "bin_start": 55053.6,
            "count": 0
           },
           {
            "bin_end": 68817,
            "bin_start": 61935.299999999996,
            "count": 1
           }
          ],
          "max": "68817.0",
          "min": "0.0",
          "nan_count": 0,
          "unique_count": 8
         }
        },
        {
         "dtype": "float64",
         "name": "total_pymnt_inv",
         "stats": {
          "histogram": [
           {
            "bin_end": 6881.7,
            "bin_start": 0,
            "count": 6
           },
           {
            "bin_end": 13763.4,
            "bin_start": 6881.7,
            "count": 0
           },
           {
            "bin_end": 20645.1,
            "bin_start": 13763.4,
            "count": 0
           },
           {
            "bin_end": 27526.8,
            "bin_start": 20645.1,
            "count": 0
           },
           {
            "bin_end": 34408.5,
            "bin_start": 27526.8,
            "count": 0
           },
           {
            "bin_end": 41290.2,
            "bin_start": 34408.5,
            "count": 0
           },
           {
            "bin_end": 48171.9,
            "bin_start": 41290.2,
            "count": 1
           },
           {
            "bin_end": 55053.6,
            "bin_start": 48171.9,
            "count": 0
           },
           {
            "bin_end": 61935.299999999996,
            "bin_start": 55053.6,
            "count": 0
           },
           {
            "bin_end": 68817,
            "bin_start": 61935.299999999996,
            "count": 1
           }
          ],
          "max": "68817.0",
          "min": "0.0",
          "nan_count": 0,
          "unique_count": 8
         }
        },
        {
         "dtype": "float64",
         "name": "total_rec_prncp",
         "stats": {
          "histogram": [
           {
            "bin_end": 6881.7,
            "bin_start": 0,
            "count": 6
           },
           {
            "bin_end": 13763.4,
            "bin_start": 6881.7,
            "count": 0
           },
           {
            "bin_end": 20645.1,
            "bin_start": 13763.4,
            "count": 0
           },
           {
            "bin_end": 27526.8,
            "bin_start": 20645.1,
            "count": 0
           },
           {
            "bin_end": 34408.5,
            "bin_start": 27526.8,
            "count": 0
           },
           {
            "bin_end": 41290.2,
            "bin_start": 34408.5,
            "count": 1
           },
           {
            "bin_end": 48171.9,
            "bin_start": 41290.2,
            "count": 0
           },
           {
            "bin_end": 55053.6,
            "bin_start": 48171.9,
            "count": 0
           },
           {
            "bin_end": 61935.299999999996,
            "bin_start": 55053.6,
            "count": 0
           },
           {
            "bin_end": 68817,
            "bin_start": 61935.299999999996,
            "count": 1
           }
          ],
          "max": "68817.0",
          "min": "0.0",
          "nan_count": 0,
          "unique_count": 8
         }
        },
        {
         "dtype": "float64",
         "name": "total_rec_int",
         "stats": {
          "histogram": [
           {
            "bin_end": 6881.7,
            "bin_start": 0,
            "count": 7
           },
           {
            "bin_end": 13763.4,
            "bin_start": 6881.7,
            "count": 0
           },
           {
            "bin_end": 20645.1,
            "bin_start": 13763.4,
            "count": 0
           },
           {
            "bin_end": 27526.8,
            "bin_start": 20645.1,
            "count": 0
           },
           {
            "bin_end": 34408.5,
            "bin_start": 27526.8,
            "count": 0
           },
           {
            "bin_end": 41290.2,
            "bin_start": 34408.5,
            "count": 0
           },
           {
            "bin_end": 48171.9,
            "bin_start": 41290.2,
            "count": 0
           },
           {
            "bin_end": 55053.6,
            "bin_start": 48171.9,
            "count": 0
           },
           {
            "bin_end": 61935.299999999996,
            "bin_start": 55053.6,
            "count": 0
           },
           {
            "bin_end": 68817,
            "bin_start": 61935.299999999996,
            "count": 1
           }
          ],
          "max": "68817.0",
          "min": "0.0",
          "nan_count": 0,
          "unique_count": 8
         }
        },
        {
         "dtype": "float64",
         "name": "total_rec_late_fee",
         "stats": {
          "histogram": [
           {
            "bin_end": 6881.7,
            "bin_start": 0,
            "count": 7
           },
           {
            "bin_end": 13763.4,
            "bin_start": 6881.7,
            "count": 0
           },
           {
            "bin_end": 20645.1,
            "bin_start": 13763.4,
            "count": 0
           },
           {
            "bin_end": 27526.8,
            "bin_start": 20645.1,
            "count": 0
           },
           {
            "bin_end": 34408.5,
            "bin_start": 27526.8,
            "count": 0
           },
           {
            "bin_end": 41290.2,
            "bin_start": 34408.5,
            "count": 0
           },
           {
            "bin_end": 48171.9,
            "bin_start": 41290.2,
            "count": 0
           },
           {
            "bin_end": 55053.6,
            "bin_start": 48171.9,
            "count": 0
           },
           {
            "bin_end": 61935.299999999996,
            "bin_start": 55053.6,
            "count": 0
           },
           {
            "bin_end": 68817,
            "bin_start": 61935.299999999996,
            "count": 1
           }
          ],
          "max": "68817.0",
          "min": "0.0",
          "nan_count": 0,
          "unique_count": 5
         }
        },
        {
         "dtype": "float64",
         "name": "recoveries",
         "stats": {
          "histogram": [
           {
            "bin_end": 6881.7,
            "bin_start": 0,
            "count": 7
           },
           {
            "bin_end": 13763.4,
            "bin_start": 6881.7,
            "count": 0
           },
           {
            "bin_end": 20645.1,
            "bin_start": 13763.4,
            "count": 0
           },
           {
            "bin_end": 27526.8,
            "bin_start": 20645.1,
            "count": 0
           },
           {
            "bin_end": 34408.5,
            "bin_start": 27526.8,
            "count": 0
           },
           {
            "bin_end": 41290.2,
            "bin_start": 34408.5,
            "count": 0
           },
           {
            "bin_end": 48171.9,
            "bin_start": 41290.2,
            "count": 0
           },
           {
            "bin_end": 55053.6,
            "bin_start": 48171.9,
            "count": 0
           },
           {
            "bin_end": 61935.299999999996,
            "bin_start": 55053.6,
            "count": 0
           },
           {
            "bin_end": 68817,
            "bin_start": 61935.299999999996,
            "count": 1
           }
          ],
          "max": "68817.0",
          "min": "0.0",
          "nan_count": 0,
          "unique_count": 2
         }
        },
        {
         "dtype": "float64",
         "name": "collection_recovery_fee",
         "stats": {
          "histogram": [
           {
            "bin_end": 6881.7,
            "bin_start": 0,
            "count": 7
           },
           {
            "bin_end": 13763.4,
            "bin_start": 6881.7,
            "count": 0
           },
           {
            "bin_end": 20645.1,
            "bin_start": 13763.4,
            "count": 0
           },
           {
            "bin_end": 27526.8,
            "bin_start": 20645.1,
            "count": 0
           },
           {
            "bin_end": 34408.5,
            "bin_start": 27526.8,
            "count": 0
           },
           {
            "bin_end": 41290.2,
            "bin_start": 34408.5,
            "count": 0
           },
           {
            "bin_end": 48171.9,
            "bin_start": 41290.2,
            "count": 0
           },
           {
            "bin_end": 55053.6,
            "bin_start": 48171.9,
            "count": 0
           },
           {
            "bin_end": 61935.299999999996,
            "bin_start": 55053.6,
            "count": 0
           },
           {
            "bin_end": 68817,
            "bin_start": 61935.299999999996,
            "count": 1
           }
          ],
          "max": "68817.0",
          "min": "0.0",
          "nan_count": 0,
          "unique_count": 2
         }
        },
        {
         "dtype": "float64",
         "name": "last_pymnt_amnt",
         "stats": {
          "histogram": [
           {
            "bin_end": 6881.7,
            "bin_start": 0,
            "count": 6
           },
           {
            "bin_end": 13763.4,
            "bin_start": 6881.7,
            "count": 0
           },
           {
            "bin_end": 20645.1,
            "bin_start": 13763.4,
            "count": 0
           },
           {
            "bin_end": 27526.8,
            "bin_start": 20645.1,
            "count": 0
           },
           {
            "bin_end": 34408.5,
            "bin_start": 27526.8,
            "count": 0
           },
           {
            "bin_end": 41290.2,
            "bin_start": 34408.5,
            "count": 1
           },
           {
            "bin_end": 48171.9,
            "bin_start": 41290.2,
            "count": 0
           },
           {
            "bin_end": 55053.6,
            "bin_start": 48171.9,
            "count": 0
           },
           {
            "bin_end": 61935.299999999996,
            "bin_start": 55053.6,
            "count": 0
           },
           {
            "bin_end": 68817,
            "bin_start": 61935.299999999996,
            "count": 1
           }
          ],
          "max": "68817.0",
          "min": "0.0",
          "nan_count": 0,
          "unique_count": 8
         }
        },
        {
         "dtype": "float64",
         "name": "collections_12_mths_ex_med",
         "stats": {
          "histogram": [
           {
            "bin_end": 6881.7,
            "bin_start": 0,
            "count": 7
           },
           {
            "bin_end": 13763.4,
            "bin_start": 6881.7,
            "count": 0
           },
           {
            "bin_end": 20645.1,
            "bin_start": 13763.4,
            "count": 0
           },
           {
            "bin_end": 27526.8,
            "bin_start": 20645.1,
            "count": 0
           },
           {
            "bin_end": 34408.5,
            "bin_start": 27526.8,
            "count": 0
           },
           {
            "bin_end": 41290.2,
            "bin_start": 34408.5,
            "count": 0
           },
           {
            "bin_end": 48171.9,
            "bin_start": 41290.2,
            "count": 0
           },
           {
            "bin_end": 55053.6,
            "bin_start": 48171.9,
            "count": 0
           },
           {
            "bin_end": 61935.299999999996,
            "bin_start": 55053.6,
            "count": 0
           },
           {
            "bin_end": 68817,
            "bin_start": 61935.299999999996,
            "count": 1
           }
          ],
          "max": "68817.0",
          "min": "0.0",
          "nan_count": 0,
          "unique_count": 5
         }
        },
        {
         "dtype": "float64",
         "name": "policy_code",
         "stats": {
          "histogram": [
           {
            "bin_end": 6881.7,
            "bin_start": 0,
            "count": 7
           },
           {
            "bin_end": 13763.4,
            "bin_start": 6881.7,
            "count": 0
           },
           {
            "bin_end": 20645.1,
            "bin_start": 13763.4,
            "count": 0
           },
           {
            "bin_end": 27526.8,
            "bin_start": 20645.1,
            "count": 0
           },
           {
            "bin_end": 34408.5,
            "bin_start": 27526.8,
            "count": 0
           },
           {
            "bin_end": 41290.2,
            "bin_start": 34408.5,
            "count": 0
           },
           {
            "bin_end": 48171.9,
            "bin_start": 41290.2,
            "count": 0
           },
           {
            "bin_end": 55053.6,
            "bin_start": 48171.9,
            "count": 0
           },
           {
            "bin_end": 61935.299999999996,
            "bin_start": 55053.6,
            "count": 0
           },
           {
            "bin_end": 68817,
            "bin_start": 61935.299999999996,
            "count": 1
           }
          ],
          "max": "68817.0",
          "min": "0.0",
          "nan_count": 0,
          "unique_count": 3
         }
        },
        {
         "dtype": "float64",
         "name": "acc_now_delinq",
         "stats": {
          "histogram": [
           {
            "bin_end": 6881.7,
            "bin_start": 0,
            "count": 7
           },
           {
            "bin_end": 13763.4,
            "bin_start": 6881.7,
            "count": 0
           },
           {
            "bin_end": 20645.1,
            "bin_start": 13763.4,
            "count": 0
           },
           {
            "bin_end": 27526.8,
            "bin_start": 20645.1,
            "count": 0
           },
           {
            "bin_end": 34408.5,
            "bin_start": 27526.8,
            "count": 0
           },
           {
            "bin_end": 41290.2,
            "bin_start": 34408.5,
            "count": 0
           },
           {
            "bin_end": 48171.9,
            "bin_start": 41290.2,
            "count": 0
           },
           {
            "bin_end": 55053.6,
            "bin_start": 48171.9,
            "count": 0
           },
           {
            "bin_end": 61935.299999999996,
            "bin_start": 55053.6,
            "count": 0
           },
           {
            "bin_end": 68817,
            "bin_start": 61935.299999999996,
            "count": 1
           }
          ],
          "max": "68817.0",
          "min": "0.0",
          "nan_count": 0,
          "unique_count": 2
         }
        },
        {
         "dtype": "float64",
         "name": "tot_coll_amt",
         "stats": {
          "histogram": [
           {
            "bin_end": 15919.9,
            "bin_start": 0,
            "count": 6
           },
           {
            "bin_end": 31839.8,
            "bin_start": 15919.9,
            "count": 0
           },
           {
            "bin_end": 47759.7,
            "bin_start": 31839.8,
            "count": 0
           },
           {
            "bin_end": 63679.6,
            "bin_start": 47759.7,
            "count": 0
           },
           {
            "bin_end": 79599.5,
            "bin_start": 63679.6,
            "count": 1
           },
           {
            "bin_end": 95519.4,
            "bin_start": 79599.5,
            "count": 0
           },
           {
            "bin_end": 111439.3,
            "bin_start": 95519.4,
            "count": 0
           },
           {
            "bin_end": 127359.2,
            "bin_start": 111439.3,
            "count": 0
           },
           {
            "bin_end": 143279.1,
            "bin_start": 127359.2,
            "count": 0
           },
           {
            "bin_end": 159199,
            "bin_start": 143279.1,
            "count": 1
           }
          ],
          "max": "159199.0",
          "min": "0.0",
          "nan_count": 0,
          "unique_count": 5
         }
        },
        {
         "dtype": "float64",
         "name": "tot_cur_bal",
         "stats": {
          "histogram": [
           {
            "bin_end": 314219.7,
            "bin_start": 235,
            "count": 7
           },
           {
            "bin_end": 628204.4,
            "bin_start": 314219.7,
            "count": 0
           },
           {
            "bin_end": 942189.1000000001,
            "bin_start": 628204.4,
            "count": 0
           },
           {
            "bin_end": 1256173.8,
            "bin_start": 942189.1000000001,
            "count": 0
           },
           {
            "bin_end": 1570158.5,
            "bin_start": 1256173.8,
            "count": 0
           },
           {
            "bin_end": 1884143.2000000002,
            "bin_start": 1570158.5,
            "count": 0
           },
           {
            "bin_end": 2198127.9,
            "bin_start": 1884143.2000000002,
            "count": 0
           },
           {
            "bin_end": 2512112.6,
            "bin_start": 2198127.9,
            "count": 0
           },
           {
            "bin_end": 2826097.3000000003,
            "bin_start": 2512112.6,
            "count": 0
           },
           {
            "bin_end": 3140082,
            "bin_start": 2826097.3000000003,
            "count": 1
           }
          ],
          "max": "3140082.0",
          "min": "235.0",
          "nan_count": 0,
          "unique_count": 8
         }
        },
        {
         "dtype": "float64",
         "name": "open_acc_6m",
         "stats": {
          "histogram": [
           {
            "bin_end": 6881.7,
            "bin_start": 0,
            "count": 7
           },
           {
            "bin_end": 13763.4,
            "bin_start": 6881.7,
            "count": 0
           },
           {
            "bin_end": 20645.1,
            "bin_start": 13763.4,
            "count": 0
           },
           {
            "bin_end": 27526.8,
            "bin_start": 20645.1,
            "count": 0
           },
           {
            "bin_end": 34408.5,
            "bin_start": 27526.8,
            "count": 0
           },
           {
            "bin_end": 41290.2,
            "bin_start": 34408.5,
            "count": 0
           },
           {
            "bin_end": 48171.9,
            "bin_start": 41290.2,
            "count": 0
           },
           {
            "bin_end": 55053.6,
            "bin_start": 48171.9,
            "count": 0
           },
           {
            "bin_end": 61935.299999999996,
            "bin_start": 55053.6,
            "count": 0
           },
           {
            "bin_end": 68817,
            "bin_start": 61935.299999999996,
            "count": 1
           }
          ],
          "max": "68817.0",
          "min": "0.0",
          "nan_count": 0,
          "unique_count": 7
         }
        },
        {
         "dtype": "float64",
         "name": "open_act_il",
         "stats": {
          "histogram": [
           {
            "bin_end": 6881.7,
            "bin_start": 0,
            "count": 7
           },
           {
            "bin_end": 13763.4,
            "bin_start": 6881.7,
            "count": 0
           },
           {
            "bin_end": 20645.1,
            "bin_start": 13763.4,
            "count": 0
           },
           {
            "bin_end": 27526.8,
            "bin_start": 20645.1,
            "count": 0
           },
           {
            "bin_end": 34408.5,
            "bin_start": 27526.8,
            "count": 0
           },
           {
            "bin_end": 41290.2,
            "bin_start": 34408.5,
            "count": 0
           },
           {
            "bin_end": 48171.9,
            "bin_start": 41290.2,
            "count": 0
           },
           {
            "bin_end": 55053.6,
            "bin_start": 48171.9,
            "count": 0
           },
           {
            "bin_end": 61935.299999999996,
            "bin_start": 55053.6,
            "count": 0
           },
           {
            "bin_end": 68817,
            "bin_start": 61935.299999999996,
            "count": 1
           }
          ],
          "max": "68817.0",
          "min": "0.0",
          "nan_count": 0,
          "unique_count": 7
         }
        },
        {
         "dtype": "float64",
         "name": "open_il_12m",
         "stats": {
          "histogram": [
           {
            "bin_end": 6881.7,
            "bin_start": 0,
            "count": 7
           },
           {
            "bin_end": 13763.4,
            "bin_start": 6881.7,
            "count": 0
           },
           {
            "bin_end": 20645.1,
            "bin_start": 13763.4,
            "count": 0
           },
           {
            "bin_end": 27526.8,
            "bin_start": 20645.1,
            "count": 0
           },
           {
            "bin_end": 34408.5,
            "bin_start": 27526.8,
            "count": 0
           },
           {
            "bin_end": 41290.2,
            "bin_start": 34408.5,
            "count": 0
           },
           {
            "bin_end": 48171.9,
            "bin_start": 41290.2,
            "count": 0
           },
           {
            "bin_end": 55053.6,
            "bin_start": 48171.9,
            "count": 0
           },
           {
            "bin_end": 61935.299999999996,
            "bin_start": 55053.6,
            "count": 0
           },
           {
            "bin_end": 68817,
            "bin_start": 61935.299999999996,
            "count": 1
           }
          ],
          "max": "68817.0",
          "min": "0.0",
          "nan_count": 0,
          "unique_count": 6
         }
        },
        {
         "dtype": "float64",
         "name": "open_il_24m",
         "stats": {
          "histogram": [
           {
            "bin_end": 6881.7,
            "bin_start": 0,
            "count": 7
           },
           {
            "bin_end": 13763.4,
            "bin_start": 6881.7,
            "count": 0
           },
           {
            "bin_end": 20645.1,
            "bin_start": 13763.4,
            "count": 0
           },
           {
            "bin_end": 27526.8,
            "bin_start": 20645.1,
            "count": 0
           },
           {
            "bin_end": 34408.5,
            "bin_start": 27526.8,
            "count": 0
           },
           {
            "bin_end": 41290.2,
            "bin_start": 34408.5,
            "count": 0
           },
           {
            "bin_end": 48171.9,
            "bin_start": 41290.2,
            "count": 0
           },
           {
            "bin_end": 55053.6,
            "bin_start": 48171.9,
            "count": 0
           },
           {
            "bin_end": 61935.299999999996,
            "bin_start": 55053.6,
            "count": 0
           },
           {
            "bin_end": 68817,
            "bin_start": 61935.299999999996,
            "count": 1
           }
          ],
          "max": "68817.0",
          "min": "0.0",
          "nan_count": 0,
          "unique_count": 8
         }
        },
        {
         "dtype": "float64",
         "name": "mths_since_rcnt_il",
         "stats": {
          "histogram": [
           {
            "bin_end": 6881.7,
            "bin_start": 0,
            "count": 7
           },
           {
            "bin_end": 13763.4,
            "bin_start": 6881.7,
            "count": 0
           },
           {
            "bin_end": 20645.1,
            "bin_start": 13763.4,
            "count": 0
           },
           {
            "bin_end": 27526.8,
            "bin_start": 20645.1,
            "count": 0
           },
           {
            "bin_end": 34408.5,
            "bin_start": 27526.8,
            "count": 0
           },
           {
            "bin_end": 41290.2,
            "bin_start": 34408.5,
            "count": 0
           },
           {
            "bin_end": 48171.9,
            "bin_start": 41290.2,
            "count": 0
           },
           {
            "bin_end": 55053.6,
            "bin_start": 48171.9,
            "count": 0
           },
           {
            "bin_end": 61935.299999999996,
            "bin_start": 55053.6,
            "count": 0
           },
           {
            "bin_end": 68817,
            "bin_start": 61935.299999999996,
            "count": 1
           }
          ],
          "max": "68817.0",
          "min": "0.0",
          "nan_count": 0,
          "unique_count": 8
         }
        },
        {
         "dtype": "float64",
         "name": "total_bal_il",
         "stats": {
          "histogram": [
           {
            "bin_end": 126029,
            "bin_start": 1,
            "count": 7
           },
           {
            "bin_end": 252057,
            "bin_start": 126029,
            "count": 0
           },
           {
            "bin_end": 378085,
            "bin_start": 252057,
            "count": 0
           },
           {
            "bin_end": 504113,
            "bin_start": 378085,
            "count": 0
           },
           {
            "bin_end": 630141,
            "bin_start": 504113,
            "count": 0
           },
           {
            "bin_end": 756169,
            "bin_start": 630141,
            "count": 0
           },
           {
            "bin_end": 882197,
            "bin_start": 756169,
            "count": 0
           },
           {
            "bin_end": 1008225,
            "bin_start": 882197,
            "count": 0
           },
           {
            "bin_end": 1134253,
            "bin_start": 1008225,
            "count": 0
           },
           {
            "bin_end": 1260281,
            "bin_start": 1134253,
            "count": 1
           }
          ],
          "max": "1260281.0",
          "min": "1.0",
          "nan_count": 0,
          "unique_count": 8
         }
        },
        {
         "dtype": "float64",
         "name": "il_util",
         "stats": {
          "histogram": [
           {
            "bin_end": 6881.7,
            "bin_start": 0,
            "count": 7
           },
           {
            "bin_end": 13763.4,
            "bin_start": 6881.7,
            "count": 0
           },
           {
            "bin_end": 20645.1,
            "bin_start": 13763.4,
            "count": 0
           },
           {
            "bin_end": 27526.8,
            "bin_start": 20645.1,
            "count": 0
           },
           {
            "bin_end": 34408.5,
            "bin_start": 27526.8,
            "count": 0
           },
           {
            "bin_end": 41290.2,
            "bin_start": 34408.5,
            "count": 0
           },
           {
            "bin_end": 48171.9,
            "bin_start": 41290.2,
            "count": 0
           },
           {
            "bin_end": 55053.6,
            "bin_start": 48171.9,
            "count": 0
           },
           {
            "bin_end": 61935.299999999996,
            "bin_start": 55053.6,
            "count": 0
           },
           {
            "bin_end": 68817,
            "bin_start": 61935.299999999996,
            "count": 1
           }
          ],
          "max": "68817.0",
          "min": "0.0",
          "nan_count": 0,
          "unique_count": 8
         }
        },
        {
         "dtype": "float64",
         "name": "open_rv_12m",
         "stats": {
          "histogram": [
           {
            "bin_end": 6881.7,
            "bin_start": 0,
            "count": 7
           },
           {
            "bin_end": 13763.4,
            "bin_start": 6881.7,
            "count": 0
           },
           {
            "bin_end": 20645.1,
            "bin_start": 13763.4,
            "count": 0
           },
           {
            "bin_end": 27526.8,
            "bin_start": 20645.1,
            "count": 0
           },
           {
            "bin_end": 34408.5,
            "bin_start": 27526.8,
            "count": 0
           },
           {
            "bin_end": 41290.2,
            "bin_start": 34408.5,
            "count": 0
           },
           {
            "bin_end": 48171.9,
            "bin_start": 41290.2,
            "count": 0
           },
           {
            "bin_end": 55053.6,
            "bin_start": 48171.9,
            "count": 0
           },
           {
            "bin_end": 61935.299999999996,
            "bin_start": 55053.6,
            "count": 0
           },
           {
            "bin_end": 68817,
            "bin_start": 61935.299999999996,
            "count": 1
           }
          ],
          "max": "68817.0",
          "min": "0.0",
          "nan_count": 0,
          "unique_count": 7
         }
        },
        {
         "dtype": "float64",
         "name": "open_rv_24m",
         "stats": {
          "histogram": [
           {
            "bin_end": 6881.7,
            "bin_start": 0,
            "count": 7
           },
           {
            "bin_end": 13763.4,
            "bin_start": 6881.7,
            "count": 0
           },
           {
            "bin_end": 20645.1,
            "bin_start": 13763.4,
            "count": 0
           },
           {
            "bin_end": 27526.8,
            "bin_start": 20645.1,
            "count": 0
           },
           {
            "bin_end": 34408.5,
            "bin_start": 27526.8,
            "count": 0
           },
           {
            "bin_end": 41290.2,
            "bin_start": 34408.5,
            "count": 0
           },
           {
            "bin_end": 48171.9,
            "bin_start": 41290.2,
            "count": 0
           },
           {
            "bin_end": 55053.6,
            "bin_start": 48171.9,
            "count": 0
           },
           {
            "bin_end": 61935.299999999996,
            "bin_start": 55053.6,
            "count": 0
           },
           {
            "bin_end": 68817,
            "bin_start": 61935.299999999996,
            "count": 1
           }
          ],
          "max": "68817.0",
          "min": "0.0",
          "nan_count": 0,
          "unique_count": 8
         }
        },
        {
         "dtype": "float64",
         "name": "max_bal_bc",
         "stats": {
          "histogram": [
           {
            "bin_end": 20748.4,
            "bin_start": 0,
            "count": 6
           },
           {
            "bin_end": 41496.8,
            "bin_start": 20748.4,
            "count": 0
           },
           {
            "bin_end": 62245.200000000004,
            "bin_start": 41496.8,
            "count": 0
           },
           {
            "bin_end": 82993.6,
            "bin_start": 62245.200000000004,
            "count": 1
           },
           {
            "bin_end": 103742,
            "bin_start": 82993.6,
            "count": 0
           },
           {
            "bin_end": 124490.40000000001,
            "bin_start": 103742,
            "count": 0
           },
           {
            "bin_end": 145238.80000000002,
            "bin_start": 124490.40000000001,
            "count": 0
           },
           {
            "bin_end": 165987.2,
            "bin_start": 145238.80000000002,
            "count": 0
           },
           {
            "bin_end": 186735.6,
            "bin_start": 165987.2,
            "count": 0
           },
           {
            "bin_end": 207484,
            "bin_start": 186735.6,
            "count": 1
           }
          ],
          "max": "207484.0",
          "min": "0.0",
          "nan_count": 0,
          "unique_count": 8
         }
        },
        {
         "dtype": "float64",
         "name": "all_util",
         "stats": {
          "histogram": [
           {
            "bin_end": 6882.6,
            "bin_start": 1,
            "count": 7
           },
           {
            "bin_end": 13764.2,
            "bin_start": 6882.6,
            "count": 0
           },
           {
            "bin_end": 20645.800000000003,
            "bin_start": 13764.2,
            "count": 0
           },
           {
            "bin_end": 27527.4,
            "bin_start": 20645.800000000003,
            "count": 0
           },
           {
            "bin_end": 34409,
            "bin_start": 27527.4,
            "count": 0
           },
           {
            "bin_end": 41290.600000000006,
            "bin_start": 34409,
            "count": 0
           },
           {
            "bin_end": 48172.200000000004,
            "bin_start": 41290.600000000006,
            "count": 0
           },
           {
            "bin_end": 55053.8,
            "bin_start": 48172.200000000004,
            "count": 0
           },
           {
            "bin_end": 61935.4,
            "bin_start": 55053.8,
            "count": 0
           },
           {
            "bin_end": 68817,
            "bin_start": 61935.4,
            "count": 1
           }
          ],
          "max": "68817.0",
          "min": "1.0",
          "nan_count": 0,
          "unique_count": 8
         }
        },
        {
         "dtype": "float64",
         "name": "total_rev_hi_lim",
         "stats": {
          "histogram": [
           {
            "bin_end": 76130,
            "bin_start": 200,
            "count": 7
           },
           {
            "bin_end": 152060,
            "bin_start": 76130,
            "count": 0
           },
           {
            "bin_end": 227990,
            "bin_start": 152060,
            "count": 0
           },
           {
            "bin_end": 303920,
            "bin_start": 227990,
            "count": 0
           },
           {
            "bin_end": 379850,
            "bin_start": 303920,
            "count": 0
           },
           {
            "bin_end": 455780,
            "bin_start": 379850,
            "count": 0
           },
           {
            "bin_end": 531710,
            "bin_start": 455780,
            "count": 0
           },
           {
            "bin_end": 607640,
            "bin_start": 531710,
            "count": 0
           },
           {
            "bin_end": 683570,
            "bin_start": 607640,
            "count": 0
           },
           {
            "bin_end": 759500,
            "bin_start": 683570,
            "count": 1
           }
          ],
          "max": "759500.0",
          "min": "200.0",
          "nan_count": 0,
          "unique_count": 8
         }
        },
        {
         "dtype": "float64",
         "name": "inq_fi",
         "stats": {
          "histogram": [
           {
            "bin_end": 6881.7,
            "bin_start": 0,
            "count": 7
           },
           {
            "bin_end": 13763.4,
            "bin_start": 6881.7,
            "count": 0
           },
           {
            "bin_end": 20645.1,
            "bin_start": 13763.4,
            "count": 0
           },
           {
            "bin_end": 27526.8,
            "bin_start": 20645.1,
            "count": 0
           },
           {
            "bin_end": 34408.5,
            "bin_start": 27526.8,
            "count": 0
           },
           {
            "bin_end": 41290.2,
            "bin_start": 34408.5,
            "count": 0
           },
           {
            "bin_end": 48171.9,
            "bin_start": 41290.2,
            "count": 0
           },
           {
            "bin_end": 55053.6,
            "bin_start": 48171.9,
            "count": 0
           },
           {
            "bin_end": 61935.299999999996,
            "bin_start": 55053.6,
            "count": 0
           },
           {
            "bin_end": 68817,
            "bin_start": 61935.299999999996,
            "count": 1
           }
          ],
          "max": "68817.0",
          "min": "0.0",
          "nan_count": 0,
          "unique_count": 7
         }
        },
        {
         "dtype": "float64",
         "name": "total_cu_tl",
         "stats": {
          "histogram": [
           {
            "bin_end": 6881.7,
            "bin_start": 0,
            "count": 7
           },
           {
            "bin_end": 13763.4,
            "bin_start": 6881.7,
            "count": 0
           },
           {
            "bin_end": 20645.1,
            "bin_start": 13763.4,
            "count": 0
           },
           {
            "bin_end": 27526.8,
            "bin_start": 20645.1,
            "count": 0
           },
           {
            "bin_end": 34408.5,
            "bin_start": 27526.8,
            "count": 0
           },
           {
            "bin_end": 41290.2,
            "bin_start": 34408.5,
            "count": 0
           },
           {
            "bin_end": 48171.9,
            "bin_start": 41290.2,
            "count": 0
           },
           {
            "bin_end": 55053.6,
            "bin_start": 48171.9,
            "count": 0
           },
           {
            "bin_end": 61935.299999999996,
            "bin_start": 55053.6,
            "count": 0
           },
           {
            "bin_end": 68817,
            "bin_start": 61935.299999999996,
            "count": 1
           }
          ],
          "max": "68817.0",
          "min": "0.0",
          "nan_count": 0,
          "unique_count": 7
         }
        },
        {
         "dtype": "float64",
         "name": "inq_last_12m",
         "stats": {
          "histogram": [
           {
            "bin_end": 6881.7,
            "bin_start": 0,
            "count": 7
           },
           {
            "bin_end": 13763.4,
            "bin_start": 6881.7,
            "count": 0
           },
           {
            "bin_end": 20645.1,
            "bin_start": 13763.4,
            "count": 0
           },
           {
            "bin_end": 27526.8,
            "bin_start": 20645.1,
            "count": 0
           },
           {
            "bin_end": 34408.5,
            "bin_start": 27526.8,
            "count": 0
           },
           {
            "bin_end": 41290.2,
            "bin_start": 34408.5,
            "count": 0
           },
           {
            "bin_end": 48171.9,
            "bin_start": 41290.2,
            "count": 0
           },
           {
            "bin_end": 55053.6,
            "bin_start": 48171.9,
            "count": 0
           },
           {
            "bin_end": 61935.299999999996,
            "bin_start": 55053.6,
            "count": 0
           },
           {
            "bin_end": 68817,
            "bin_start": 61935.299999999996,
            "count": 1
           }
          ],
          "max": "68817.0",
          "min": "0.0",
          "nan_count": 0,
          "unique_count": 8
         }
        },
        {
         "dtype": "float64",
         "name": "acc_open_past_24mths",
         "stats": {
          "histogram": [
           {
            "bin_end": 6881.7,
            "bin_start": 0,
            "count": 7
           },
           {
            "bin_end": 13763.4,
            "bin_start": 6881.7,
            "count": 0
           },
           {
            "bin_end": 20645.1,
            "bin_start": 13763.4,
            "count": 0
           },
           {
            "bin_end": 27526.8,
            "bin_start": 20645.1,
            "count": 0
           },
           {
            "bin_end": 34408.5,
            "bin_start": 27526.8,
            "count": 0
           },
           {
            "bin_end": 41290.2,
            "bin_start": 34408.5,
            "count": 0
           },
           {
            "bin_end": 48171.9,
            "bin_start": 41290.2,
            "count": 0
           },
           {
            "bin_end": 55053.6,
            "bin_start": 48171.9,
            "count": 0
           },
           {
            "bin_end": 61935.299999999996,
            "bin_start": 55053.6,
            "count": 0
           },
           {
            "bin_end": 68817,
            "bin_start": 61935.299999999996,
            "count": 1
           }
          ],
          "max": "68817.0",
          "min": "0.0",
          "nan_count": 0,
          "unique_count": 8
         }
        },
        {
         "dtype": "float64",
         "name": "avg_cur_bal",
         "stats": {
          "histogram": [
           {
            "bin_end": 44876.3,
            "bin_start": 20,
            "count": 6
           },
           {
            "bin_end": 89732.6,
            "bin_start": 44876.3,
            "count": 1
           },
           {
            "bin_end": 134588.90000000002,
            "bin_start": 89732.6,
            "count": 0
           },
           {
            "bin_end": 179445.2,
            "bin_start": 134588.90000000002,
            "count": 0
           },
           {
            "bin_end": 224301.5,
            "bin_start": 179445.2,
            "count": 0
           },
           {
            "bin_end": 269157.80000000005,
            "bin_start": 224301.5,
            "count": 0
           },
           {
            "bin_end": 314014.10000000003,
            "bin_start": 269157.80000000005,
            "count": 0
           },
           {
            "bin_end": 358870.4,
            "bin_start": 314014.10000000003,
            "count": 0
           },
           {
            "bin_end": 403726.7,
            "bin_start": 358870.4,
            "count": 0
           },
           {
            "bin_end": 448583,
            "bin_start": 403726.7,
            "count": 1
           }
          ],
          "max": "448583.0",
          "min": "20.0",
          "nan_count": 0,
          "unique_count": 8
         }
        },
        {
         "dtype": "float64",
         "name": "bc_open_to_buy",
         "stats": {
          "histogram": [
           {
            "bin_end": 50650.7,
            "bin_start": 0,
            "count": 6
           },
           {
            "bin_end": 101301.4,
            "bin_start": 50650.7,
            "count": 1
           },
           {
            "bin_end": 151952.09999999998,
            "bin_start": 101301.4,
            "count": 0
           },
           {
            "bin_end": 202602.8,
            "bin_start": 151952.09999999998,
            "count": 0
           },
           {
            "bin_end": 253253.5,
            "bin_start": 202602.8,
            "count": 0
           },
           {
            "bin_end": 303904.19999999995,
            "bin_start": 253253.5,
            "count": 0
           },
           {
            "bin_end": 354554.89999999997,
            "bin_start": 303904.19999999995,
            "count": 0
           },
           {
            "bin_end": 405205.6,
            "bin_start": 354554.89999999997,
            "count": 0
           },
           {
            "bin_end": 455856.3,
            "bin_start": 405205.6,
            "count": 0
           },
           {
            "bin_end": 506507,
            "bin_start": 455856.3,
            "count": 1
           }
          ],
          "max": "506507.0",
          "min": "0.0",
          "nan_count": 0,
          "unique_count": 8
         }
        },
        {
         "dtype": "float64",
         "name": "bc_util",
         "stats": {
          "histogram": [
           {
            "bin_end": 6881.7,
            "bin_start": 0,
            "count": 7
           },
           {
            "bin_end": 13763.4,
            "bin_start": 6881.7,
            "count": 0
           },
           {
            "bin_end": 20645.1,
            "bin_start": 13763.4,
            "count": 0
           },
           {
            "bin_end": 27526.8,
            "bin_start": 20645.1,
            "count": 0
           },
           {
            "bin_end": 34408.5,
            "bin_start": 27526.8,
            "count": 0
           },
           {
            "bin_end": 41290.2,
            "bin_start": 34408.5,
            "count": 0
           },
           {
            "bin_end": 48171.9,
            "bin_start": 41290.2,
            "count": 0
           },
           {
            "bin_end": 55053.6,
            "bin_start": 48171.9,
            "count": 0
           },
           {
            "bin_end": 61935.299999999996,
            "bin_start": 55053.6,
            "count": 0
           },
           {
            "bin_end": 68817,
            "bin_start": 61935.299999999996,
            "count": 1
           }
          ],
          "max": "68817.0",
          "min": "0.0",
          "nan_count": 0,
          "unique_count": 8
         }
        },
        {
         "dtype": "float64",
         "name": "chargeoff_within_12_mths",
         "stats": {
          "histogram": [
           {
            "bin_end": 6881.7,
            "bin_start": 0,
            "count": 7
           },
           {
            "bin_end": 13763.4,
            "bin_start": 6881.7,
            "count": 0
           },
           {
            "bin_end": 20645.1,
            "bin_start": 13763.4,
            "count": 0
           },
           {
            "bin_end": 27526.8,
            "bin_start": 20645.1,
            "count": 0
           },
           {
            "bin_end": 34408.5,
            "bin_start": 27526.8,
            "count": 0
           },
           {
            "bin_end": 41290.2,
            "bin_start": 34408.5,
            "count": 0
           },
           {
            "bin_end": 48171.9,
            "bin_start": 41290.2,
            "count": 0
           },
           {
            "bin_end": 55053.6,
            "bin_start": 48171.9,
            "count": 0
           },
           {
            "bin_end": 61935.299999999996,
            "bin_start": 55053.6,
            "count": 0
           },
           {
            "bin_end": 68817,
            "bin_start": 61935.299999999996,
            "count": 1
           }
          ],
          "max": "68817.0",
          "min": "0.0",
          "nan_count": 0,
          "unique_count": 5
         }
        },
        {
         "dtype": "float64",
         "name": "delinq_amnt",
         "stats": {
          "histogram": [
           {
            "bin_end": 6881.7,
            "bin_start": 0,
            "count": 6
           },
           {
            "bin_end": 13763.4,
            "bin_start": 6881.7,
            "count": 0
           },
           {
            "bin_end": 20645.1,
            "bin_start": 13763.4,
            "count": 0
           },
           {
            "bin_end": 27526.8,
            "bin_start": 20645.1,
            "count": 0
           },
           {
            "bin_end": 34408.5,
            "bin_start": 27526.8,
            "count": 0
           },
           {
            "bin_end": 41290.2,
            "bin_start": 34408.5,
            "count": 0
           },
           {
            "bin_end": 48171.9,
            "bin_start": 41290.2,
            "count": 0
           },
           {
            "bin_end": 55053.6,
            "bin_start": 48171.9,
            "count": 0
           },
           {
            "bin_end": 61935.299999999996,
            "bin_start": 55053.6,
            "count": 0
           },
           {
            "bin_end": 68817,
            "bin_start": 61935.299999999996,
            "count": 2
           }
          ],
          "max": "68817.0",
          "min": "0.0",
          "nan_count": 0,
          "unique_count": 5
         }
        },
        {
         "dtype": "float64",
         "name": "mo_sin_old_il_acct",
         "stats": {
          "histogram": [
           {
            "bin_end": 6881.7,
            "bin_start": 0,
            "count": 7
           },
           {
            "bin_end": 13763.4,
            "bin_start": 6881.7,
            "count": 0
           },
           {
            "bin_end": 20645.1,
            "bin_start": 13763.4,
            "count": 0
           },
           {
            "bin_end": 27526.8,
            "bin_start": 20645.1,
            "count": 0
           },
           {
            "bin_end": 34408.5,
            "bin_start": 27526.8,
            "count": 0
           },
           {
            "bin_end": 41290.2,
            "bin_start": 34408.5,
            "count": 0
           },
           {
            "bin_end": 48171.9,
            "bin_start": 41290.2,
            "count": 0
           },
           {
            "bin_end": 55053.6,
            "bin_start": 48171.9,
            "count": 0
           },
           {
            "bin_end": 61935.299999999996,
            "bin_start": 55053.6,
            "count": 0
           },
           {
            "bin_end": 68817,
            "bin_start": 61935.299999999996,
            "count": 1
           }
          ],
          "max": "68817.0",
          "min": "0.0",
          "nan_count": 0,
          "unique_count": 8
         }
        },
        {
         "dtype": "float64",
         "name": "mo_sin_old_rev_tl_op",
         "stats": {
          "histogram": [
           {
            "bin_end": 6886.2,
            "bin_start": 5,
            "count": 7
           },
           {
            "bin_end": 13767.4,
            "bin_start": 6886.2,
            "count": 0
           },
           {
            "bin_end": 20648.6,
            "bin_start": 13767.4,
            "count": 0
           },
           {
            "bin_end": 27529.8,
            "bin_start": 20648.6,
            "count": 0
           },
           {
            "bin_end": 34411,
            "bin_start": 27529.8,
            "count": 0
           },
           {
            "bin_end": 41292.2,
            "bin_start": 34411,
            "count": 0
           },
           {
            "bin_end": 48173.4,
            "bin_start": 41292.2,
            "count": 0
           },
           {
            "bin_end": 55054.6,
            "bin_start": 48173.4,
            "count": 0
           },
           {
            "bin_end": 61935.799999999996,
            "bin_start": 55054.6,
            "count": 0
           },
           {
            "bin_end": 68817,
            "bin_start": 61935.799999999996,
            "count": 1
           }
          ],
          "max": "68817.0",
          "min": "5.0",
          "nan_count": 0,
          "unique_count": 8
         }
        },
        {
         "dtype": "float64",
         "name": "mo_sin_rcnt_rev_tl_op",
         "stats": {
          "histogram": [
           {
            "bin_end": 6881.7,
            "bin_start": 0,
            "count": 7
           },
           {
            "bin_end": 13763.4,
            "bin_start": 6881.7,
            "count": 0
           },
           {
            "bin_end": 20645.1,
            "bin_start": 13763.4,
            "count": 0
           },
           {
            "bin_end": 27526.8,
            "bin_start": 20645.1,
            "count": 0
           },
           {
            "bin_end": 34408.5,
            "bin_start": 27526.8,
            "count": 0
           },
           {
            "bin_end": 41290.2,
            "bin_start": 34408.5,
            "count": 0
           },
           {
            "bin_end": 48171.9,
            "bin_start": 41290.2,
            "count": 0
           },
           {
            "bin_end": 55053.6,
            "bin_start": 48171.9,
            "count": 0
           },
           {
            "bin_end": 61935.299999999996,
            "bin_start": 55053.6,
            "count": 0
           },
           {
            "bin_end": 68817,
            "bin_start": 61935.299999999996,
            "count": 1
           }
          ],
          "max": "68817.0",
          "min": "0.0",
          "nan_count": 0,
          "unique_count": 8
         }
        },
        {
         "dtype": "float64",
         "name": "mo_sin_rcnt_tl",
         "stats": {
          "histogram": [
           {
            "bin_end": 6881.7,
            "bin_start": 0,
            "count": 7
           },
           {
            "bin_end": 13763.4,
            "bin_start": 6881.7,
            "count": 0
           },
           {
            "bin_end": 20645.1,
            "bin_start": 13763.4,
            "count": 0
           },
           {
            "bin_end": 27526.8,
            "bin_start": 20645.1,
            "count": 0
           },
           {
            "bin_end": 34408.5,
            "bin_start": 27526.8,
            "count": 0
           },
           {
            "bin_end": 41290.2,
            "bin_start": 34408.5,
            "count": 0
           },
           {
            "bin_end": 48171.9,
            "bin_start": 41290.2,
            "count": 0
           },
           {
            "bin_end": 55053.6,
            "bin_start": 48171.9,
            "count": 0
           },
           {
            "bin_end": 61935.299999999996,
            "bin_start": 55053.6,
            "count": 0
           },
           {
            "bin_end": 68817,
            "bin_start": 61935.299999999996,
            "count": 1
           }
          ],
          "max": "68817.0",
          "min": "0.0",
          "nan_count": 0,
          "unique_count": 8
         }
        },
        {
         "dtype": "float64",
         "name": "mort_acc",
         "stats": {
          "histogram": [
           {
            "bin_end": 6881.7,
            "bin_start": 0,
            "count": 7
           },
           {
            "bin_end": 13763.4,
            "bin_start": 6881.7,
            "count": 0
           },
           {
            "bin_end": 20645.1,
            "bin_start": 13763.4,
            "count": 0
           },
           {
            "bin_end": 27526.8,
            "bin_start": 20645.1,
            "count": 0
           },
           {
            "bin_end": 34408.5,
            "bin_start": 27526.8,
            "count": 0
           },
           {
            "bin_end": 41290.2,
            "bin_start": 34408.5,
            "count": 0
           },
           {
            "bin_end": 48171.9,
            "bin_start": 41290.2,
            "count": 0
           },
           {
            "bin_end": 55053.6,
            "bin_start": 48171.9,
            "count": 0
           },
           {
            "bin_end": 61935.299999999996,
            "bin_start": 55053.6,
            "count": 0
           },
           {
            "bin_end": 68817,
            "bin_start": 61935.299999999996,
            "count": 1
           }
          ],
          "max": "68817.0",
          "min": "0.0",
          "nan_count": 0,
          "unique_count": 7
         }
        },
        {
         "dtype": "float64",
         "name": "mths_since_recent_bc",
         "stats": {
          "histogram": [
           {
            "bin_end": 6881.7,
            "bin_start": 0,
            "count": 7
           },
           {
            "bin_end": 13763.4,
            "bin_start": 6881.7,
            "count": 0
           },
           {
            "bin_end": 20645.1,
            "bin_start": 13763.4,
            "count": 0
           },
           {
            "bin_end": 27526.8,
            "bin_start": 20645.1,
            "count": 0
           },
           {
            "bin_end": 34408.5,
            "bin_start": 27526.8,
            "count": 0
           },
           {
            "bin_end": 41290.2,
            "bin_start": 34408.5,
            "count": 0
           },
           {
            "bin_end": 48171.9,
            "bin_start": 41290.2,
            "count": 0
           },
           {
            "bin_end": 55053.6,
            "bin_start": 48171.9,
            "count": 0
           },
           {
            "bin_end": 61935.299999999996,
            "bin_start": 55053.6,
            "count": 0
           },
           {
            "bin_end": 68817,
            "bin_start": 61935.299999999996,
            "count": 1
           }
          ],
          "max": "68817.0",
          "min": "0.0",
          "nan_count": 0,
          "unique_count": 8
         }
        },
        {
         "dtype": "float64",
         "name": "mths_since_recent_inq",
         "stats": {
          "histogram": [
           {
            "bin_end": 6881.7,
            "bin_start": 0,
            "count": 7
           },
           {
            "bin_end": 13763.4,
            "bin_start": 6881.7,
            "count": 0
           },
           {
            "bin_end": 20645.1,
            "bin_start": 13763.4,
            "count": 0
           },
           {
            "bin_end": 27526.8,
            "bin_start": 20645.1,
            "count": 0
           },
           {
            "bin_end": 34408.5,
            "bin_start": 27526.8,
            "count": 0
           },
           {
            "bin_end": 41290.2,
            "bin_start": 34408.5,
            "count": 0
           },
           {
            "bin_end": 48171.9,
            "bin_start": 41290.2,
            "count": 0
           },
           {
            "bin_end": 55053.6,
            "bin_start": 48171.9,
            "count": 0
           },
           {
            "bin_end": 61935.299999999996,
            "bin_start": 55053.6,
            "count": 0
           },
           {
            "bin_end": 68817,
            "bin_start": 61935.299999999996,
            "count": 1
           }
          ],
          "max": "68817.0",
          "min": "0.0",
          "nan_count": 0,
          "unique_count": 8
         }
        },
        {
         "dtype": "float64",
         "name": "num_accts_ever_120_pd",
         "stats": {
          "histogram": [
           {
            "bin_end": 6881.7,
            "bin_start": 0,
            "count": 7
           },
           {
            "bin_end": 13763.4,
            "bin_start": 6881.7,
            "count": 0
           },
           {
            "bin_end": 20645.1,
            "bin_start": 13763.4,
            "count": 0
           },
           {
            "bin_end": 27526.8,
            "bin_start": 20645.1,
            "count": 0
           },
           {
            "bin_end": 34408.5,
            "bin_start": 27526.8,
            "count": 0
           },
           {
            "bin_end": 41290.2,
            "bin_start": 34408.5,
            "count": 0
           },
           {
            "bin_end": 48171.9,
            "bin_start": 41290.2,
            "count": 0
           },
           {
            "bin_end": 55053.6,
            "bin_start": 48171.9,
            "count": 0
           },
           {
            "bin_end": 61935.299999999996,
            "bin_start": 55053.6,
            "count": 0
           },
           {
            "bin_end": 68817,
            "bin_start": 61935.299999999996,
            "count": 1
           }
          ],
          "max": "68817.0",
          "min": "0.0",
          "nan_count": 0,
          "unique_count": 5
         }
        },
        {
         "dtype": "float64",
         "name": "num_actv_bc_tl",
         "stats": {
          "histogram": [
           {
            "bin_end": 6881.7,
            "bin_start": 0,
            "count": 7
           },
           {
            "bin_end": 13763.4,
            "bin_start": 6881.7,
            "count": 0
           },
           {
            "bin_end": 20645.1,
            "bin_start": 13763.4,
            "count": 0
           },
           {
            "bin_end": 27526.8,
            "bin_start": 20645.1,
            "count": 0
           },
           {
            "bin_end": 34408.5,
            "bin_start": 27526.8,
            "count": 0
           },
           {
            "bin_end": 41290.2,
            "bin_start": 34408.5,
            "count": 0
           },
           {
            "bin_end": 48171.9,
            "bin_start": 41290.2,
            "count": 0
           },
           {
            "bin_end": 55053.6,
            "bin_start": 48171.9,
            "count": 0
           },
           {
            "bin_end": 61935.299999999996,
            "bin_start": 55053.6,
            "count": 0
           },
           {
            "bin_end": 68817,
            "bin_start": 61935.299999999996,
            "count": 1
           }
          ],
          "max": "68817.0",
          "min": "0.0",
          "nan_count": 0,
          "unique_count": 8
         }
        },
        {
         "dtype": "float64",
         "name": "num_actv_rev_tl",
         "stats": {
          "histogram": [
           {
            "bin_end": 6881.7,
            "bin_start": 0,
            "count": 7
           },
           {
            "bin_end": 13763.4,
            "bin_start": 6881.7,
            "count": 0
           },
           {
            "bin_end": 20645.1,
            "bin_start": 13763.4,
            "count": 0
           },
           {
            "bin_end": 27526.8,
            "bin_start": 20645.1,
            "count": 0
           },
           {
            "bin_end": 34408.5,
            "bin_start": 27526.8,
            "count": 0
           },
           {
            "bin_end": 41290.2,
            "bin_start": 34408.5,
            "count": 0
           },
           {
            "bin_end": 48171.9,
            "bin_start": 41290.2,
            "count": 0
           },
           {
            "bin_end": 55053.6,
            "bin_start": 48171.9,
            "count": 0
           },
           {
            "bin_end": 61935.299999999996,
            "bin_start": 55053.6,
            "count": 0
           },
           {
            "bin_end": 68817,
            "bin_start": 61935.299999999996,
            "count": 1
           }
          ],
          "max": "68817.0",
          "min": "0.0",
          "nan_count": 0,
          "unique_count": 8
         }
        },
        {
         "dtype": "float64",
         "name": "num_bc_sats",
         "stats": {
          "histogram": [
           {
            "bin_end": 6881.7,
            "bin_start": 0,
            "count": 7
           },
           {
            "bin_end": 13763.4,
            "bin_start": 6881.7,
            "count": 0
           },
           {
            "bin_end": 20645.1,
            "bin_start": 13763.4,
            "count": 0
           },
           {
            "bin_end": 27526.8,
            "bin_start": 20645.1,
            "count": 0
           },
           {
            "bin_end": 34408.5,
            "bin_start": 27526.8,
            "count": 0
           },
           {
            "bin_end": 41290.2,
            "bin_start": 34408.5,
            "count": 0
           },
           {
            "bin_end": 48171.9,
            "bin_start": 41290.2,
            "count": 0
           },
           {
            "bin_end": 55053.6,
            "bin_start": 48171.9,
            "count": 0
           },
           {
            "bin_end": 61935.299999999996,
            "bin_start": 55053.6,
            "count": 0
           },
           {
            "bin_end": 68817,
            "bin_start": 61935.299999999996,
            "count": 1
           }
          ],
          "max": "68817.0",
          "min": "0.0",
          "nan_count": 0,
          "unique_count": 8
         }
        },
        {
         "dtype": "float64",
         "name": "num_bc_tl",
         "stats": {
          "histogram": [
           {
            "bin_end": 6882.6,
            "bin_start": 1,
            "count": 7
           },
           {
            "bin_end": 13764.2,
            "bin_start": 6882.6,
            "count": 0
           },
           {
            "bin_end": 20645.800000000003,
            "bin_start": 13764.2,
            "count": 0
           },
           {
            "bin_end": 27527.4,
            "bin_start": 20645.800000000003,
            "count": 0
           },
           {
            "bin_end": 34409,
            "bin_start": 27527.4,
            "count": 0
           },
           {
            "bin_end": 41290.600000000006,
            "bin_start": 34409,
            "count": 0
           },
           {
            "bin_end": 48172.200000000004,
            "bin_start": 41290.600000000006,
            "count": 0
           },
           {
            "bin_end": 55053.8,
            "bin_start": 48172.200000000004,
            "count": 0
           },
           {
            "bin_end": 61935.4,
            "bin_start": 55053.8,
            "count": 0
           },
           {
            "bin_end": 68817,
            "bin_start": 61935.4,
            "count": 1
           }
          ],
          "max": "68817.0",
          "min": "1.0",
          "nan_count": 0,
          "unique_count": 8
         }
        },
        {
         "dtype": "float64",
         "name": "num_il_tl",
         "stats": {
          "histogram": [
           {
            "bin_end": 6882.6,
            "bin_start": 1,
            "count": 7
           },
           {
            "bin_end": 13764.2,
            "bin_start": 6882.6,
            "count": 0
           },
           {
            "bin_end": 20645.800000000003,
            "bin_start": 13764.2,
            "count": 0
           },
           {
            "bin_end": 27527.4,
            "bin_start": 20645.800000000003,
            "count": 0
           },
           {
            "bin_end": 34409,
            "bin_start": 27527.4,
            "count": 0
           },
           {
            "bin_end": 41290.600000000006,
            "bin_start": 34409,
            "count": 0
           },
           {
            "bin_end": 48172.200000000004,
            "bin_start": 41290.600000000006,
            "count": 0
           },
           {
            "bin_end": 55053.8,
            "bin_start": 48172.200000000004,
            "count": 0
           },
           {
            "bin_end": 61935.4,
            "bin_start": 55053.8,
            "count": 0
           },
           {
            "bin_end": 68817,
            "bin_start": 61935.4,
            "count": 1
           }
          ],
          "max": "68817.0",
          "min": "1.0",
          "nan_count": 0,
          "unique_count": 8
         }
        },
        {
         "dtype": "float64",
         "name": "num_op_rev_tl",
         "stats": {
          "histogram": [
           {
            "bin_end": 6882.6,
            "bin_start": 1,
            "count": 7
           },
           {
            "bin_end": 13764.2,
            "bin_start": 6882.6,
            "count": 0
           },
           {
            "bin_end": 20645.800000000003,
            "bin_start": 13764.2,
            "count": 0
           },
           {
            "bin_end": 27527.4,
            "bin_start": 20645.800000000003,
            "count": 0
           },
           {
            "bin_end": 34409,
            "bin_start": 27527.4,
            "count": 0
           },
           {
            "bin_end": 41290.600000000006,
            "bin_start": 34409,
            "count": 0
           },
           {
            "bin_end": 48172.200000000004,
            "bin_start": 41290.600000000006,
            "count": 0
           },
           {
            "bin_end": 55053.8,
            "bin_start": 48172.200000000004,
            "count": 0
           },
           {
            "bin_end": 61935.4,
            "bin_start": 55053.8,
            "count": 0
           },
           {
            "bin_end": 68817,
            "bin_start": 61935.4,
            "count": 1
           }
          ],
          "max": "68817.0",
          "min": "1.0",
          "nan_count": 0,
          "unique_count": 8
         }
        },
        {
         "dtype": "float64",
         "name": "num_rev_accts",
         "stats": {
          "histogram": [
           {
            "bin_end": 6883.5,
            "bin_start": 2,
            "count": 7
           },
           {
            "bin_end": 13765,
            "bin_start": 6883.5,
            "count": 0
           },
           {
            "bin_end": 20646.5,
            "bin_start": 13765,
            "count": 0
           },
           {
            "bin_end": 27528,
            "bin_start": 20646.5,
            "count": 0
           },
           {
            "bin_end": 34409.5,
            "bin_start": 27528,
            "count": 0
           },
           {
            "bin_end": 41291,
            "bin_start": 34409.5,
            "count": 0
           },
           {
            "bin_end": 48172.5,
            "bin_start": 41291,
            "count": 0
           },
           {
            "bin_end": 55054,
            "bin_start": 48172.5,
            "count": 0
           },
           {
            "bin_end": 61935.5,
            "bin_start": 55054,
            "count": 0
           },
           {
            "bin_end": 68817,
            "bin_start": 61935.5,
            "count": 1
           }
          ],
          "max": "68817.0",
          "min": "2.0",
          "nan_count": 0,
          "unique_count": 8
         }
        },
        {
         "dtype": "float64",
         "name": "num_rev_tl_bal_gt_0",
         "stats": {
          "histogram": [
           {
            "bin_end": 6881.7,
            "bin_start": 0,
            "count": 7
           },
           {
            "bin_end": 13763.4,
            "bin_start": 6881.7,
            "count": 0
           },
           {
            "bin_end": 20645.1,
            "bin_start": 13763.4,
            "count": 0
           },
           {
            "bin_end": 27526.8,
            "bin_start": 20645.1,
            "count": 0
           },
           {
            "bin_end": 34408.5,
            "bin_start": 27526.8,
            "count": 0
           },
           {
            "bin_end": 41290.2,
            "bin_start": 34408.5,
            "count": 0
           },
           {
            "bin_end": 48171.9,
            "bin_start": 41290.2,
            "count": 0
           },
           {
            "bin_end": 55053.6,
            "bin_start": 48171.9,
            "count": 0
           },
           {
            "bin_end": 61935.299999999996,
            "bin_start": 55053.6,
            "count": 0
           },
           {
            "bin_end": 68817,
            "bin_start": 61935.299999999996,
            "count": 1
           }
          ],
          "max": "68817.0",
          "min": "0.0",
          "nan_count": 0,
          "unique_count": 8
         }
        },
        {
         "dtype": "float64",
         "name": "num_sats",
         "stats": {
          "histogram": [
           {
            "bin_end": 6883.5,
            "bin_start": 2,
            "count": 7
           },
           {
            "bin_end": 13765,
            "bin_start": 6883.5,
            "count": 0
           },
           {
            "bin_end": 20646.5,
            "bin_start": 13765,
            "count": 0
           },
           {
            "bin_end": 27528,
            "bin_start": 20646.5,
            "count": 0
           },
           {
            "bin_end": 34409.5,
            "bin_start": 27528,
            "count": 0
           },
           {
            "bin_end": 41291,
            "bin_start": 34409.5,
            "count": 0
           },
           {
            "bin_end": 48172.5,
            "bin_start": 41291,
            "count": 0
           },
           {
            "bin_end": 55054,
            "bin_start": 48172.5,
            "count": 0
           },
           {
            "bin_end": 61935.5,
            "bin_start": 55054,
            "count": 0
           },
           {
            "bin_end": 68817,
            "bin_start": 61935.5,
            "count": 1
           }
          ],
          "max": "68817.0",
          "min": "2.0",
          "nan_count": 0,
          "unique_count": 8
         }
        },
        {
         "dtype": "float64",
         "name": "num_tl_120dpd_2m",
         "stats": {
          "histogram": [
           {
            "bin_end": 6881.7,
            "bin_start": 0,
            "count": 7
           },
           {
            "bin_end": 13763.4,
            "bin_start": 6881.7,
            "count": 0
           },
           {
            "bin_end": 20645.1,
            "bin_start": 13763.4,
            "count": 0
           },
           {
            "bin_end": 27526.8,
            "bin_start": 20645.1,
            "count": 0
           },
           {
            "bin_end": 34408.5,
            "bin_start": 27526.8,
            "count": 0
           },
           {
            "bin_end": 41290.2,
            "bin_start": 34408.5,
            "count": 0
           },
           {
            "bin_end": 48171.9,
            "bin_start": 41290.2,
            "count": 0
           },
           {
            "bin_end": 55053.6,
            "bin_start": 48171.9,
            "count": 0
           },
           {
            "bin_end": 61935.299999999996,
            "bin_start": 55053.6,
            "count": 0
           },
           {
            "bin_end": 68817,
            "bin_start": 61935.299999999996,
            "count": 1
           }
          ],
          "max": "68817.0",
          "min": "0.0",
          "nan_count": 0,
          "unique_count": 2
         }
        },
        {
         "dtype": "float64",
         "name": "num_tl_30dpd",
         "stats": {
          "histogram": [
           {
            "bin_end": 6881.7,
            "bin_start": 0,
            "count": 7
           },
           {
            "bin_end": 13763.4,
            "bin_start": 6881.7,
            "count": 0
           },
           {
            "bin_end": 20645.1,
            "bin_start": 13763.4,
            "count": 0
           },
           {
            "bin_end": 27526.8,
            "bin_start": 20645.1,
            "count": 0
           },
           {
            "bin_end": 34408.5,
            "bin_start": 27526.8,
            "count": 0
           },
           {
            "bin_end": 41290.2,
            "bin_start": 34408.5,
            "count": 0
           },
           {
            "bin_end": 48171.9,
            "bin_start": 41290.2,
            "count": 0
           },
           {
            "bin_end": 55053.6,
            "bin_start": 48171.9,
            "count": 0
           },
           {
            "bin_end": 61935.299999999996,
            "bin_start": 55053.6,
            "count": 0
           },
           {
            "bin_end": 68817,
            "bin_start": 61935.299999999996,
            "count": 1
           }
          ],
          "max": "68817.0",
          "min": "0.0",
          "nan_count": 0,
          "unique_count": 2
         }
        },
        {
         "dtype": "float64",
         "name": "num_tl_90g_dpd_24m",
         "stats": {
          "histogram": [
           {
            "bin_end": 6881.7,
            "bin_start": 0,
            "count": 7
           },
           {
            "bin_end": 13763.4,
            "bin_start": 6881.7,
            "count": 0
           },
           {
            "bin_end": 20645.1,
            "bin_start": 13763.4,
            "count": 0
           },
           {
            "bin_end": 27526.8,
            "bin_start": 20645.1,
            "count": 0
           },
           {
            "bin_end": 34408.5,
            "bin_start": 27526.8,
            "count": 0
           },
           {
            "bin_end": 41290.2,
            "bin_start": 34408.5,
            "count": 0
           },
           {
            "bin_end": 48171.9,
            "bin_start": 41290.2,
            "count": 0
           },
           {
            "bin_end": 55053.6,
            "bin_start": 48171.9,
            "count": 0
           },
           {
            "bin_end": 61935.299999999996,
            "bin_start": 55053.6,
            "count": 0
           },
           {
            "bin_end": 68817,
            "bin_start": 61935.299999999996,
            "count": 1
           }
          ],
          "max": "68817.0",
          "min": "0.0",
          "nan_count": 0,
          "unique_count": 5
         }
        },
        {
         "dtype": "float64",
         "name": "num_tl_op_past_12m",
         "stats": {
          "histogram": [
           {
            "bin_end": 6881.7,
            "bin_start": 0,
            "count": 7
           },
           {
            "bin_end": 13763.4,
            "bin_start": 6881.7,
            "count": 0
           },
           {
            "bin_end": 20645.1,
            "bin_start": 13763.4,
            "count": 0
           },
           {
            "bin_end": 27526.8,
            "bin_start": 20645.1,
            "count": 0
           },
           {
            "bin_end": 34408.5,
            "bin_start": 27526.8,
            "count": 0
           },
           {
            "bin_end": 41290.2,
            "bin_start": 34408.5,
            "count": 0
           },
           {
            "bin_end": 48171.9,
            "bin_start": 41290.2,
            "count": 0
           },
           {
            "bin_end": 55053.6,
            "bin_start": 48171.9,
            "count": 0
           },
           {
            "bin_end": 61935.299999999996,
            "bin_start": 55053.6,
            "count": 0
           },
           {
            "bin_end": 68817,
            "bin_start": 61935.299999999996,
            "count": 1
           }
          ],
          "max": "68817.0",
          "min": "0.0",
          "nan_count": 0,
          "unique_count": 8
         }
        },
        {
         "dtype": "float64",
         "name": "pct_tl_nvr_dlq",
         "stats": {
          "histogram": [
           {
            "bin_end": 6889.193783822722,
            "bin_start": 8.32642646969173,
            "count": 7
           },
           {
            "bin_end": 13770.061141175753,
            "bin_start": 6889.193783822722,
            "count": 0
           },
           {
            "bin_end": 20650.92849852878,
            "bin_start": 13770.061141175753,
            "count": 0
           },
           {
            "bin_end": 27531.795855881814,
            "bin_start": 20650.92849852878,
            "count": 0
           },
           {
            "bin_end": 34412.663213234846,
            "bin_start": 27531.795855881814,
            "count": 0
           },
           {
            "bin_end": 41293.53057058787,
            "bin_start": 34412.663213234846,
            "count": 0
           },
           {
            "bin_end": 48174.3979279409,
            "bin_start": 41293.53057058787,
            "count": 0
           },
           {
            "bin_end": 55055.265285293935,
            "bin_start": 48174.3979279409,
            "count": 0
           },
           {
            "bin_end": 61936.13264264697,
            "bin_start": 55055.265285293935,
            "count": 0
           },
           {
            "bin_end": 68817,
            "bin_start": 61936.13264264697,
            "count": 1
           }
          ],
          "max": "68817.0",
          "min": "8.32642646969173",
          "nan_count": 0,
          "unique_count": 6
         }
        },
        {
         "dtype": "float64",
         "name": "percent_bc_gt_75",
         "stats": {
          "histogram": [
           {
            "bin_end": 6881.7,
            "bin_start": 0,
            "count": 7
           },
           {
            "bin_end": 13763.4,
            "bin_start": 6881.7,
            "count": 0
           },
           {
            "bin_end": 20645.1,
            "bin_start": 13763.4,
            "count": 0
           },
           {
            "bin_end": 27526.8,
            "bin_start": 20645.1,
            "count": 0
           },
           {
            "bin_end": 34408.5,
            "bin_start": 27526.8,
            "count": 0
           },
           {
            "bin_end": 41290.2,
            "bin_start": 34408.5,
            "count": 0
           },
           {
            "bin_end": 48171.9,
            "bin_start": 41290.2,
            "count": 0
           },
           {
            "bin_end": 55053.6,
            "bin_start": 48171.9,
            "count": 0
           },
           {
            "bin_end": 61935.299999999996,
            "bin_start": 55053.6,
            "count": 0
           },
           {
            "bin_end": 68817,
            "bin_start": 61935.299999999996,
            "count": 1
           }
          ],
          "max": "68817.0",
          "min": "0.0",
          "nan_count": 0,
          "unique_count": 7
         }
        },
        {
         "dtype": "float64",
         "name": "pub_rec_bankruptcies",
         "stats": {
          "histogram": [
           {
            "bin_end": 6881.7,
            "bin_start": 0,
            "count": 7
           },
           {
            "bin_end": 13763.4,
            "bin_start": 6881.7,
            "count": 0
           },
           {
            "bin_end": 20645.1,
            "bin_start": 13763.4,
            "count": 0
           },
           {
            "bin_end": 27526.8,
            "bin_start": 20645.1,
            "count": 0
           },
           {
            "bin_end": 34408.5,
            "bin_start": 27526.8,
            "count": 0
           },
           {
            "bin_end": 41290.2,
            "bin_start": 34408.5,
            "count": 0
           },
           {
            "bin_end": 48171.9,
            "bin_start": 41290.2,
            "count": 0
           },
           {
            "bin_end": 55053.6,
            "bin_start": 48171.9,
            "count": 0
           },
           {
            "bin_end": 61935.299999999996,
            "bin_start": 55053.6,
            "count": 0
           },
           {
            "bin_end": 68817,
            "bin_start": 61935.299999999996,
            "count": 1
           }
          ],
          "max": "68817.0",
          "min": "0.0",
          "nan_count": 0,
          "unique_count": 5
         }
        },
        {
         "dtype": "float64",
         "name": "tax_liens",
         "stats": {
          "histogram": [
           {
            "bin_end": 6881.7,
            "bin_start": 0,
            "count": 7
           },
           {
            "bin_end": 13763.4,
            "bin_start": 6881.7,
            "count": 0
           },
           {
            "bin_end": 20645.1,
            "bin_start": 13763.4,
            "count": 0
           },
           {
            "bin_end": 27526.8,
            "bin_start": 20645.1,
            "count": 0
           },
           {
            "bin_end": 34408.5,
            "bin_start": 27526.8,
            "count": 0
           },
           {
            "bin_end": 41290.2,
            "bin_start": 34408.5,
            "count": 0
           },
           {
            "bin_end": 48171.9,
            "bin_start": 41290.2,
            "count": 0
           },
           {
            "bin_end": 55053.6,
            "bin_start": 48171.9,
            "count": 0
           },
           {
            "bin_end": 61935.299999999996,
            "bin_start": 55053.6,
            "count": 0
           },
           {
            "bin_end": 68817,
            "bin_start": 61935.299999999996,
            "count": 1
           }
          ],
          "max": "68817.0",
          "min": "0.0",
          "nan_count": 0,
          "unique_count": 2
         }
        },
        {
         "dtype": "float64",
         "name": "tot_hi_cred_lim",
         "stats": {
          "histogram": [
           {
            "bin_end": 332518.2,
            "bin_start": 3600,
            "count": 7
           },
           {
            "bin_end": 661436.4,
            "bin_start": 332518.2,
            "count": 0
           },
           {
            "bin_end": 990354.6000000001,
            "bin_start": 661436.4,
            "count": 0
           },
           {
            "bin_end": 1319272.8,
            "bin_start": 990354.6000000001,
            "count": 0
           },
           {
            "bin_end": 1648191,
            "bin_start": 1319272.8,
            "count": 0
           },
           {
            "bin_end": 1977109.2000000002,
            "bin_start": 1648191,
            "count": 0
           },
           {
            "bin_end": 2306027.4,
            "bin_start": 1977109.2000000002,
            "count": 0
           },
           {
            "bin_end": 2634945.6,
            "bin_start": 2306027.4,
            "count": 0
           },
           {
            "bin_end": 2963863.8000000003,
            "bin_start": 2634945.6,
            "count": 0
           },
           {
            "bin_end": 3292782,
            "bin_start": 2963863.8000000003,
            "count": 1
           }
          ],
          "max": "3292782.0",
          "min": "3600.0",
          "nan_count": 0,
          "unique_count": 8
         }
        },
        {
         "dtype": "float64",
         "name": "total_bal_ex_mort",
         "stats": {
          "histogram": [
           {
            "bin_end": 129757,
            "bin_start": 235,
            "count": 7
           },
           {
            "bin_end": 259279,
            "bin_start": 129757,
            "count": 0
           },
           {
            "bin_end": 388801,
            "bin_start": 259279,
            "count": 0
           },
           {
            "bin_end": 518323,
            "bin_start": 388801,
            "count": 0
           },
           {
            "bin_end": 647845,
            "bin_start": 518323,
            "count": 0
           },
           {
            "bin_end": 777367,
            "bin_start": 647845,
            "count": 0
           },
           {
            "bin_end": 906889,
            "bin_start": 777367,
            "count": 0
           },
           {
            "bin_end": 1036411,
            "bin_start": 906889,
            "count": 0
           },
           {
            "bin_end": 1165933,
            "bin_start": 1036411,
            "count": 0
           },
           {
            "bin_end": 1295455,
            "bin_start": 1165933,
            "count": 1
           }
          ],
          "max": "1295455.0",
          "min": "235.0",
          "nan_count": 0,
          "unique_count": 8
         }
        },
        {
         "dtype": "float64",
         "name": "total_bc_limit",
         "stats": {
          "histogram": [
           {
            "bin_end": 51030,
            "bin_start": 100,
            "count": 6
           },
           {
            "bin_end": 101960,
            "bin_start": 51030,
            "count": 1
           },
           {
            "bin_end": 152890,
            "bin_start": 101960,
            "count": 0
           },
           {
            "bin_end": 203820,
            "bin_start": 152890,
            "count": 0
           },
           {
            "bin_end": 254750,
            "bin_start": 203820,
            "count": 0
           },
           {
            "bin_end": 305680,
            "bin_start": 254750,
            "count": 0
           },
           {
            "bin_end": 356610,
            "bin_start": 305680,
            "count": 0
           },
           {
            "bin_end": 407540,
            "bin_start": 356610,
            "count": 0
           },
           {
            "bin_end": 458470,
            "bin_start": 407540,
            "count": 0
           },
           {
            "bin_end": 509400,
            "bin_start": 458470,
            "count": 1
           }
          ],
          "max": "509400.0",
          "min": "100.0",
          "nan_count": 0,
          "unique_count": 8
         }
        },
        {
         "dtype": "float64",
         "name": "total_il_high_credit_limit",
         "stats": {
          "histogram": [
           {
            "bin_end": 142810.7,
            "bin_start": 127,
            "count": 7
           },
           {
            "bin_end": 285494.4,
            "bin_start": 142810.7,
            "count": 0
           },
           {
            "bin_end": 428178.10000000003,
            "bin_start": 285494.4,
            "count": 0
           },
           {
            "bin_end": 570861.8,
            "bin_start": 428178.10000000003,
            "count": 0
           },
           {
            "bin_end": 713545.5,
            "bin_start": 570861.8,
            "count": 0
           },
           {
            "bin_end": 856229.2000000001,
            "bin_start": 713545.5,
            "count": 0
           },
           {
            "bin_end": 998912.9000000001,
            "bin_start": 856229.2000000001,
            "count": 0
           },
           {
            "bin_end": 1141596.6,
            "bin_start": 998912.9000000001,
            "count": 0
           },
           {
            "bin_end": 1284280.3,
            "bin_start": 1141596.6,
            "count": 0
           },
           {
            "bin_end": 1426964,
            "bin_start": 1284280.3,
            "count": 1
           }
          ],
          "max": "1426964.0",
          "min": "127.0",
          "nan_count": 0,
          "unique_count": 8
         }
        },
        {
         "dtype": "float64",
         "name": "home_ownership_ANY",
         "stats": {
          "histogram": [
           {
            "bin_end": 6881.7,
            "bin_start": 0,
            "count": 7
           },
           {
            "bin_end": 13763.4,
            "bin_start": 6881.7,
            "count": 0
           },
           {
            "bin_end": 20645.1,
            "bin_start": 13763.4,
            "count": 0
           },
           {
            "bin_end": 27526.8,
            "bin_start": 20645.1,
            "count": 0
           },
           {
            "bin_end": 34408.5,
            "bin_start": 27526.8,
            "count": 0
           },
           {
            "bin_end": 41290.2,
            "bin_start": 34408.5,
            "count": 0
           },
           {
            "bin_end": 48171.9,
            "bin_start": 41290.2,
            "count": 0
           },
           {
            "bin_end": 55053.6,
            "bin_start": 48171.9,
            "count": 0
           },
           {
            "bin_end": 61935.299999999996,
            "bin_start": 55053.6,
            "count": 0
           },
           {
            "bin_end": 68817,
            "bin_start": 61935.299999999996,
            "count": 1
           }
          ],
          "max": "68817.0",
          "min": "0.0",
          "nan_count": 0,
          "unique_count": 5
         }
        },
        {
         "dtype": "float64",
         "name": "home_ownership_MORTGAGE",
         "stats": {
          "histogram": [
           {
            "bin_end": 6881.7,
            "bin_start": 0,
            "count": 7
           },
           {
            "bin_end": 13763.4,
            "bin_start": 6881.7,
            "count": 0
           },
           {
            "bin_end": 20645.1,
            "bin_start": 13763.4,
            "count": 0
           },
           {
            "bin_end": 27526.8,
            "bin_start": 20645.1,
            "count": 0
           },
           {
            "bin_end": 34408.5,
            "bin_start": 27526.8,
            "count": 0
           },
           {
            "bin_end": 41290.2,
            "bin_start": 34408.5,
            "count": 0
           },
           {
            "bin_end": 48171.9,
            "bin_start": 41290.2,
            "count": 0
           },
           {
            "bin_end": 55053.6,
            "bin_start": 48171.9,
            "count": 0
           },
           {
            "bin_end": 61935.299999999996,
            "bin_start": 55053.6,
            "count": 0
           },
           {
            "bin_end": 68817,
            "bin_start": 61935.299999999996,
            "count": 1
           }
          ],
          "max": "68817.0",
          "min": "0.0",
          "nan_count": 0,
          "unique_count": 5
         }
        },
        {
         "dtype": "float64",
         "name": "home_ownership_OWN",
         "stats": {
          "histogram": [
           {
            "bin_end": 6881.7,
            "bin_start": 0,
            "count": 7
           },
           {
            "bin_end": 13763.4,
            "bin_start": 6881.7,
            "count": 0
           },
           {
            "bin_end": 20645.1,
            "bin_start": 13763.4,
            "count": 0
           },
           {
            "bin_end": 27526.8,
            "bin_start": 20645.1,
            "count": 0
           },
           {
            "bin_end": 34408.5,
            "bin_start": 27526.8,
            "count": 0
           },
           {
            "bin_end": 41290.2,
            "bin_start": 34408.5,
            "count": 0
           },
           {
            "bin_end": 48171.9,
            "bin_start": 41290.2,
            "count": 0
           },
           {
            "bin_end": 55053.6,
            "bin_start": 48171.9,
            "count": 0
           },
           {
            "bin_end": 61935.299999999996,
            "bin_start": 55053.6,
            "count": 0
           },
           {
            "bin_end": 68817,
            "bin_start": 61935.299999999996,
            "count": 1
           }
          ],
          "max": "68817.0",
          "min": "0.0",
          "nan_count": 0,
          "unique_count": 5
         }
        },
        {
         "dtype": "float64",
         "name": "home_ownership_RENT",
         "stats": {
          "histogram": [
           {
            "bin_end": 6881.7,
            "bin_start": 0,
            "count": 7
           },
           {
            "bin_end": 13763.4,
            "bin_start": 6881.7,
            "count": 0
           },
           {
            "bin_end": 20645.1,
            "bin_start": 13763.4,
            "count": 0
           },
           {
            "bin_end": 27526.8,
            "bin_start": 20645.1,
            "count": 0
           },
           {
            "bin_end": 34408.5,
            "bin_start": 27526.8,
            "count": 0
           },
           {
            "bin_end": 41290.2,
            "bin_start": 34408.5,
            "count": 0
           },
           {
            "bin_end": 48171.9,
            "bin_start": 41290.2,
            "count": 0
           },
           {
            "bin_end": 55053.6,
            "bin_start": 48171.9,
            "count": 0
           },
           {
            "bin_end": 61935.299999999996,
            "bin_start": 55053.6,
            "count": 0
           },
           {
            "bin_end": 68817,
            "bin_start": 61935.299999999996,
            "count": 1
           }
          ],
          "max": "68817.0",
          "min": "0.0",
          "nan_count": 0,
          "unique_count": 5
         }
        },
        {
         "dtype": "float64",
         "name": "verification_status_Not Verified",
         "stats": {
          "histogram": [
           {
            "bin_end": 6881.7,
            "bin_start": 0,
            "count": 7
           },
           {
            "bin_end": 13763.4,
            "bin_start": 6881.7,
            "count": 0
           },
           {
            "bin_end": 20645.1,
            "bin_start": 13763.4,
            "count": 0
           },
           {
            "bin_end": 27526.8,
            "bin_start": 20645.1,
            "count": 0
           },
           {
            "bin_end": 34408.5,
            "bin_start": 27526.8,
            "count": 0
           },
           {
            "bin_end": 41290.2,
            "bin_start": 34408.5,
            "count": 0
           },
           {
            "bin_end": 48171.9,
            "bin_start": 41290.2,
            "count": 0
           },
           {
            "bin_end": 55053.6,
            "bin_start": 48171.9,
            "count": 0
           },
           {
            "bin_end": 61935.299999999996,
            "bin_start": 55053.6,
            "count": 0
           },
           {
            "bin_end": 68817,
            "bin_start": 61935.299999999996,
            "count": 1
           }
          ],
          "max": "68817.0",
          "min": "0.0",
          "nan_count": 0,
          "unique_count": 5
         }
        },
        {
         "dtype": "float64",
         "name": "verification_status_Source Verified",
         "stats": {
          "histogram": [
           {
            "bin_end": 6881.7,
            "bin_start": 0,
            "count": 7
           },
           {
            "bin_end": 13763.4,
            "bin_start": 6881.7,
            "count": 0
           },
           {
            "bin_end": 20645.1,
            "bin_start": 13763.4,
            "count": 0
           },
           {
            "bin_end": 27526.8,
            "bin_start": 20645.1,
            "count": 0
           },
           {
            "bin_end": 34408.5,
            "bin_start": 27526.8,
            "count": 0
           },
           {
            "bin_end": 41290.2,
            "bin_start": 34408.5,
            "count": 0
           },
           {
            "bin_end": 48171.9,
            "bin_start": 41290.2,
            "count": 0
           },
           {
            "bin_end": 55053.6,
            "bin_start": 48171.9,
            "count": 0
           },
           {
            "bin_end": 61935.299999999996,
            "bin_start": 55053.6,
            "count": 0
           },
           {
            "bin_end": 68817,
            "bin_start": 61935.299999999996,
            "count": 1
           }
          ],
          "max": "68817.0",
          "min": "0.0",
          "nan_count": 0,
          "unique_count": 5
         }
        },
        {
         "dtype": "float64",
         "name": "verification_status_Verified",
         "stats": {
          "histogram": [
           {
            "bin_end": 6881.7,
            "bin_start": 0,
            "count": 7
           },
           {
            "bin_end": 13763.4,
            "bin_start": 6881.7,
            "count": 0
           },
           {
            "bin_end": 20645.1,
            "bin_start": 13763.4,
            "count": 0
           },
           {
            "bin_end": 27526.8,
            "bin_start": 20645.1,
            "count": 0
           },
           {
            "bin_end": 34408.5,
            "bin_start": 27526.8,
            "count": 0
           },
           {
            "bin_end": 41290.2,
            "bin_start": 34408.5,
            "count": 0
           },
           {
            "bin_end": 48171.9,
            "bin_start": 41290.2,
            "count": 0
           },
           {
            "bin_end": 55053.6,
            "bin_start": 48171.9,
            "count": 0
           },
           {
            "bin_end": 61935.299999999996,
            "bin_start": 55053.6,
            "count": 0
           },
           {
            "bin_end": 68817,
            "bin_start": 61935.299999999996,
            "count": 1
           }
          ],
          "max": "68817.0",
          "min": "0.0",
          "nan_count": 0,
          "unique_count": 5
         }
        },
        {
         "dtype": "float64",
         "name": "issue_d_Feb-2019",
         "stats": {
          "histogram": [
           {
            "bin_end": 6881.7,
            "bin_start": 0,
            "count": 7
           },
           {
            "bin_end": 13763.4,
            "bin_start": 6881.7,
            "count": 0
           },
           {
            "bin_end": 20645.1,
            "bin_start": 13763.4,
            "count": 0
           },
           {
            "bin_end": 27526.8,
            "bin_start": 20645.1,
            "count": 0
           },
           {
            "bin_end": 34408.5,
            "bin_start": 27526.8,
            "count": 0
           },
           {
            "bin_end": 41290.2,
            "bin_start": 34408.5,
            "count": 0
           },
           {
            "bin_end": 48171.9,
            "bin_start": 41290.2,
            "count": 0
           },
           {
            "bin_end": 55053.6,
            "bin_start": 48171.9,
            "count": 0
           },
           {
            "bin_end": 61935.299999999996,
            "bin_start": 55053.6,
            "count": 0
           },
           {
            "bin_end": 68817,
            "bin_start": 61935.299999999996,
            "count": 1
           }
          ],
          "max": "68817.0",
          "min": "0.0",
          "nan_count": 0,
          "unique_count": 5
         }
        },
        {
         "dtype": "float64",
         "name": "issue_d_Jan-2019",
         "stats": {
          "histogram": [
           {
            "bin_end": 6881.7,
            "bin_start": 0,
            "count": 7
           },
           {
            "bin_end": 13763.4,
            "bin_start": 6881.7,
            "count": 0
           },
           {
            "bin_end": 20645.1,
            "bin_start": 13763.4,
            "count": 0
           },
           {
            "bin_end": 27526.8,
            "bin_start": 20645.1,
            "count": 0
           },
           {
            "bin_end": 34408.5,
            "bin_start": 27526.8,
            "count": 0
           },
           {
            "bin_end": 41290.2,
            "bin_start": 34408.5,
            "count": 0
           },
           {
            "bin_end": 48171.9,
            "bin_start": 41290.2,
            "count": 0
           },
           {
            "bin_end": 55053.6,
            "bin_start": 48171.9,
            "count": 0
           },
           {
            "bin_end": 61935.299999999996,
            "bin_start": 55053.6,
            "count": 0
           },
           {
            "bin_end": 68817,
            "bin_start": 61935.299999999996,
            "count": 1
           }
          ],
          "max": "68817.0",
          "min": "0.0",
          "nan_count": 0,
          "unique_count": 5
         }
        },
        {
         "dtype": "float64",
         "name": "issue_d_Mar-2019",
         "stats": {
          "histogram": [
           {
            "bin_end": 6881.7,
            "bin_start": 0,
            "count": 7
           },
           {
            "bin_end": 13763.4,
            "bin_start": 6881.7,
            "count": 0
           },
           {
            "bin_end": 20645.1,
            "bin_start": 13763.4,
            "count": 0
           },
           {
            "bin_end": 27526.8,
            "bin_start": 20645.1,
            "count": 0
           },
           {
            "bin_end": 34408.5,
            "bin_start": 27526.8,
            "count": 0
           },
           {
            "bin_end": 41290.2,
            "bin_start": 34408.5,
            "count": 0
           },
           {
            "bin_end": 48171.9,
            "bin_start": 41290.2,
            "count": 0
           },
           {
            "bin_end": 55053.6,
            "bin_start": 48171.9,
            "count": 0
           },
           {
            "bin_end": 61935.299999999996,
            "bin_start": 55053.6,
            "count": 0
           },
           {
            "bin_end": 68817,
            "bin_start": 61935.299999999996,
            "count": 1
           }
          ],
          "max": "68817.0",
          "min": "0.0",
          "nan_count": 0,
          "unique_count": 5
         }
        },
        {
         "dtype": "float64",
         "name": "pymnt_plan_n",
         "stats": {
          "histogram": [
           {
            "bin_end": 6881.7,
            "bin_start": 0,
            "count": 7
           },
           {
            "bin_end": 13763.4,
            "bin_start": 6881.7,
            "count": 0
           },
           {
            "bin_end": 20645.1,
            "bin_start": 13763.4,
            "count": 0
           },
           {
            "bin_end": 27526.8,
            "bin_start": 20645.1,
            "count": 0
           },
           {
            "bin_end": 34408.5,
            "bin_start": 27526.8,
            "count": 0
           },
           {
            "bin_end": 41290.2,
            "bin_start": 34408.5,
            "count": 0
           },
           {
            "bin_end": 48171.9,
            "bin_start": 41290.2,
            "count": 0
           },
           {
            "bin_end": 55053.6,
            "bin_start": 48171.9,
            "count": 0
           },
           {
            "bin_end": 61935.299999999996,
            "bin_start": 55053.6,
            "count": 0
           },
           {
            "bin_end": 68817,
            "bin_start": 61935.299999999996,
            "count": 1
           }
          ],
          "max": "68817.0",
          "min": "0.0",
          "nan_count": 0,
          "unique_count": 3
         }
        },
        {
         "dtype": "float64",
         "name": "initial_list_status_f",
         "stats": {
          "histogram": [
           {
            "bin_end": 6881.7,
            "bin_start": 0,
            "count": 7
           },
           {
            "bin_end": 13763.4,
            "bin_start": 6881.7,
            "count": 0
           },
           {
            "bin_end": 20645.1,
            "bin_start": 13763.4,
            "count": 0
           },
           {
            "bin_end": 27526.8,
            "bin_start": 20645.1,
            "count": 0
           },
           {
            "bin_end": 34408.5,
            "bin_start": 27526.8,
            "count": 0
           },
           {
            "bin_end": 41290.2,
            "bin_start": 34408.5,
            "count": 0
           },
           {
            "bin_end": 48171.9,
            "bin_start": 41290.2,
            "count": 0
           },
           {
            "bin_end": 55053.6,
            "bin_start": 48171.9,
            "count": 0
           },
           {
            "bin_end": 61935.299999999996,
            "bin_start": 55053.6,
            "count": 0
           },
           {
            "bin_end": 68817,
            "bin_start": 61935.299999999996,
            "count": 1
           }
          ],
          "max": "68817.0",
          "min": "0.0",
          "nan_count": 0,
          "unique_count": 5
         }
        },
        {
         "dtype": "float64",
         "name": "initial_list_status_w",
         "stats": {
          "histogram": [
           {
            "bin_end": 6881.7,
            "bin_start": 0,
            "count": 7
           },
           {
            "bin_end": 13763.4,
            "bin_start": 6881.7,
            "count": 0
           },
           {
            "bin_end": 20645.1,
            "bin_start": 13763.4,
            "count": 0
           },
           {
            "bin_end": 27526.8,
            "bin_start": 20645.1,
            "count": 0
           },
           {
            "bin_end": 34408.5,
            "bin_start": 27526.8,
            "count": 0
           },
           {
            "bin_end": 41290.2,
            "bin_start": 34408.5,
            "count": 0
           },
           {
            "bin_end": 48171.9,
            "bin_start": 41290.2,
            "count": 0
           },
           {
            "bin_end": 55053.6,
            "bin_start": 48171.9,
            "count": 0
           },
           {
            "bin_end": 61935.299999999996,
            "bin_start": 55053.6,
            "count": 0
           },
           {
            "bin_end": 68817,
            "bin_start": 61935.299999999996,
            "count": 1
           }
          ],
          "max": "68817.0",
          "min": "0.0",
          "nan_count": 0,
          "unique_count": 5
         }
        },
        {
         "dtype": "float64",
         "name": "next_pymnt_d_Apr-2019",
         "stats": {
          "histogram": [
           {
            "bin_end": 6881.7,
            "bin_start": 0,
            "count": 7
           },
           {
            "bin_end": 13763.4,
            "bin_start": 6881.7,
            "count": 0
           },
           {
            "bin_end": 20645.1,
            "bin_start": 13763.4,
            "count": 0
           },
           {
            "bin_end": 27526.8,
            "bin_start": 20645.1,
            "count": 0
           },
           {
            "bin_end": 34408.5,
            "bin_start": 27526.8,
            "count": 0
           },
           {
            "bin_end": 41290.2,
            "bin_start": 34408.5,
            "count": 0
           },
           {
            "bin_end": 48171.9,
            "bin_start": 41290.2,
            "count": 0
           },
           {
            "bin_end": 55053.6,
            "bin_start": 48171.9,
            "count": 0
           },
           {
            "bin_end": 61935.299999999996,
            "bin_start": 55053.6,
            "count": 0
           },
           {
            "bin_end": 68817,
            "bin_start": 61935.299999999996,
            "count": 1
           }
          ],
          "max": "68817.0",
          "min": "0.0",
          "nan_count": 0,
          "unique_count": 5
         }
        },
        {
         "dtype": "float64",
         "name": "next_pymnt_d_May-2019",
         "stats": {
          "histogram": [
           {
            "bin_end": 6881.7,
            "bin_start": 0,
            "count": 7
           },
           {
            "bin_end": 13763.4,
            "bin_start": 6881.7,
            "count": 0
           },
           {
            "bin_end": 20645.1,
            "bin_start": 13763.4,
            "count": 0
           },
           {
            "bin_end": 27526.8,
            "bin_start": 20645.1,
            "count": 0
           },
           {
            "bin_end": 34408.5,
            "bin_start": 27526.8,
            "count": 0
           },
           {
            "bin_end": 41290.2,
            "bin_start": 34408.5,
            "count": 0
           },
           {
            "bin_end": 48171.9,
            "bin_start": 41290.2,
            "count": 0
           },
           {
            "bin_end": 55053.6,
            "bin_start": 48171.9,
            "count": 0
           },
           {
            "bin_end": 61935.299999999996,
            "bin_start": 55053.6,
            "count": 0
           },
           {
            "bin_end": 68817,
            "bin_start": 61935.299999999996,
            "count": 1
           }
          ],
          "max": "68817.0",
          "min": "0.0",
          "nan_count": 0,
          "unique_count": 5
         }
        },
        {
         "dtype": "float64",
         "name": "application_type_Individual",
         "stats": {
          "histogram": [
           {
            "bin_end": 6881.7,
            "bin_start": 0,
            "count": 7
           },
           {
            "bin_end": 13763.4,
            "bin_start": 6881.7,
            "count": 0
           },
           {
            "bin_end": 20645.1,
            "bin_start": 13763.4,
            "count": 0
           },
           {
            "bin_end": 27526.8,
            "bin_start": 20645.1,
            "count": 0
           },
           {
            "bin_end": 34408.5,
            "bin_start": 27526.8,
            "count": 0
           },
           {
            "bin_end": 41290.2,
            "bin_start": 34408.5,
            "count": 0
           },
           {
            "bin_end": 48171.9,
            "bin_start": 41290.2,
            "count": 0
           },
           {
            "bin_end": 55053.6,
            "bin_start": 48171.9,
            "count": 0
           },
           {
            "bin_end": 61935.299999999996,
            "bin_start": 55053.6,
            "count": 0
           },
           {
            "bin_end": 68817,
            "bin_start": 61935.299999999996,
            "count": 1
           }
          ],
          "max": "68817.0",
          "min": "0.0",
          "nan_count": 0,
          "unique_count": 5
         }
        },
        {
         "dtype": "float64",
         "name": "application_type_Joint App",
         "stats": {
          "histogram": [
           {
            "bin_end": 6881.7,
            "bin_start": 0,
            "count": 7
           },
           {
            "bin_end": 13763.4,
            "bin_start": 6881.7,
            "count": 0
           },
           {
            "bin_end": 20645.1,
            "bin_start": 13763.4,
            "count": 0
           },
           {
            "bin_end": 27526.8,
            "bin_start": 20645.1,
            "count": 0
           },
           {
            "bin_end": 34408.5,
            "bin_start": 27526.8,
            "count": 0
           },
           {
            "bin_end": 41290.2,
            "bin_start": 34408.5,
            "count": 0
           },
           {
            "bin_end": 48171.9,
            "bin_start": 41290.2,
            "count": 0
           },
           {
            "bin_end": 55053.6,
            "bin_start": 48171.9,
            "count": 0
           },
           {
            "bin_end": 61935.299999999996,
            "bin_start": 55053.6,
            "count": 0
           },
           {
            "bin_end": 68817,
            "bin_start": 61935.299999999996,
            "count": 1
           }
          ],
          "max": "68817.0",
          "min": "0.0",
          "nan_count": 0,
          "unique_count": 5
         }
        },
        {
         "dtype": "float64",
         "name": "hardship_flag_N",
         "stats": {
          "histogram": [
           {
            "bin_end": 6881.7,
            "bin_start": 0,
            "count": 7
           },
           {
            "bin_end": 13763.4,
            "bin_start": 6881.7,
            "count": 0
           },
           {
            "bin_end": 20645.1,
            "bin_start": 13763.4,
            "count": 0
           },
           {
            "bin_end": 27526.8,
            "bin_start": 20645.1,
            "count": 0
           },
           {
            "bin_end": 34408.5,
            "bin_start": 27526.8,
            "count": 0
           },
           {
            "bin_end": 41290.2,
            "bin_start": 34408.5,
            "count": 0
           },
           {
            "bin_end": 48171.9,
            "bin_start": 41290.2,
            "count": 0
           },
           {
            "bin_end": 55053.6,
            "bin_start": 48171.9,
            "count": 0
           },
           {
            "bin_end": 61935.299999999996,
            "bin_start": 55053.6,
            "count": 0
           },
           {
            "bin_end": 68817,
            "bin_start": 61935.299999999996,
            "count": 1
           }
          ],
          "max": "68817.0",
          "min": "0.0",
          "nan_count": 0,
          "unique_count": 3
         }
        },
        {
         "dtype": "float64",
         "name": "debt_settlement_flag_N",
         "stats": {
          "histogram": [
           {
            "bin_end": 6881.7,
            "bin_start": 0,
            "count": 7
           },
           {
            "bin_end": 13763.4,
            "bin_start": 6881.7,
            "count": 0
           },
           {
            "bin_end": 20645.1,
            "bin_start": 13763.4,
            "count": 0
           },
           {
            "bin_end": 27526.8,
            "bin_start": 20645.1,
            "count": 0
           },
           {
            "bin_end": 34408.5,
            "bin_start": 27526.8,
            "count": 0
           },
           {
            "bin_end": 41290.2,
            "bin_start": 34408.5,
            "count": 0
           },
           {
            "bin_end": 48171.9,
            "bin_start": 41290.2,
            "count": 0
           },
           {
            "bin_end": 55053.6,
            "bin_start": 48171.9,
            "count": 0
           },
           {
            "bin_end": 61935.299999999996,
            "bin_start": 55053.6,
            "count": 0
           },
           {
            "bin_end": 68817,
            "bin_start": 61935.299999999996,
            "count": 1
           }
          ],
          "max": "68817.0",
          "min": "0.0",
          "nan_count": 0,
          "unique_count": 3
         }
        },
        {
         "dtype": "object",
         "name": "_deepnote_index_column"
        }
       ],
       "row_count": 8,
       "rows": [
        {
         "_deepnote_index_column": "count",
         "acc_now_delinq": 68817,
         "acc_open_past_24mths": 68817,
         "all_util": 68817,
         "annual_inc": 68817,
         "application_type_Individual": 68817,
         "application_type_Joint App": 68817,
         "avg_cur_bal": 68817,
         "bc_open_to_buy": 68817,
         "bc_util": 68817,
         "chargeoff_within_12_mths": 68817,
         "collection_recovery_fee": 68817,
         "collections_12_mths_ex_med": 68817,
         "debt_settlement_flag_N": 68817,
         "delinq_2yrs": 68817,
         "delinq_amnt": 68817,
         "dti": 68817,
         "hardship_flag_N": 68817,
         "home_ownership_ANY": 68817,
         "home_ownership_MORTGAGE": 68817,
         "home_ownership_OWN": 68817,
         "home_ownership_RENT": 68817,
         "il_util": 68817,
         "initial_list_status_f": 68817,
         "initial_list_status_w": 68817,
         "inq_fi": 68817,
         "inq_last_12m": 68817,
         "inq_last_6mths": 68817,
         "installment": 68817,
         "int_rate": 68817,
         "issue_d_Feb-2019": 68817,
         "issue_d_Jan-2019": 68817,
         "issue_d_Mar-2019": 68817,
         "last_pymnt_amnt": 68817,
         "loan_amnt": 68817,
         "max_bal_bc": 68817,
         "mo_sin_old_il_acct": 68817,
         "mo_sin_old_rev_tl_op": 68817,
         "mo_sin_rcnt_rev_tl_op": 68817,
         "mo_sin_rcnt_tl": 68817,
         "mort_acc": 68817,
         "mths_since_rcnt_il": 68817,
         "mths_since_recent_bc": 68817,
         "mths_since_recent_inq": 68817,
         "next_pymnt_d_Apr-2019": 68817,
         "next_pymnt_d_May-2019": 68817,
         "num_accts_ever_120_pd": 68817,
         "num_actv_bc_tl": 68817,
         "num_actv_rev_tl": 68817,
         "num_bc_sats": 68817,
         "num_bc_tl": 68817,
         "num_il_tl": 68817,
         "num_op_rev_tl": 68817,
         "num_rev_accts": 68817,
         "num_rev_tl_bal_gt_0": 68817,
         "num_sats": 68817,
         "num_tl_120dpd_2m": 68817,
         "num_tl_30dpd": 68817,
         "num_tl_90g_dpd_24m": 68817,
         "num_tl_op_past_12m": 68817,
         "open_acc": 68817,
         "open_acc_6m": 68817,
         "open_act_il": 68817,
         "open_il_12m": 68817,
         "open_il_24m": 68817,
         "open_rv_12m": 68817,
         "open_rv_24m": 68817,
         "out_prncp": 68817,
         "out_prncp_inv": 68817,
         "pct_tl_nvr_dlq": 68817,
         "percent_bc_gt_75": 68817,
         "policy_code": 68817,
         "pub_rec": 68817,
         "pub_rec_bankruptcies": 68817,
         "pymnt_plan_n": 68817,
         "recoveries": 68817,
         "revol_bal": 68817,
         "tax_liens": 68817,
         "tot_coll_amt": 68817,
         "tot_cur_bal": 68817,
         "tot_hi_cred_lim": 68817,
         "total_acc": 68817,
         "total_bal_ex_mort": 68817,
         "total_bal_il": 68817,
         "total_bc_limit": 68817,
         "total_cu_tl": 68817,
         "total_il_high_credit_limit": 68817,
         "total_pymnt": 68817,
         "total_pymnt_inv": 68817,
         "total_rec_int": 68817,
         "total_rec_late_fee": 68817,
         "total_rec_prncp": 68817,
         "total_rev_hi_lim": 68817,
         "verification_status_Not Verified": 68817,
         "verification_status_Source Verified": 68817,
         "verification_status_Verified": 68817
        },
        {
         "_deepnote_index_column": "mean",
         "acc_now_delinq": 0,
         "acc_open_past_24mths": 4.827571675603412,
         "all_util": 55.70247177296308,
         "annual_inc": 88213.7052096139,
         "application_type_Individual": 0.8603397416336079,
         "application_type_Joint App": 0.13966025836639204,
         "avg_cur_bal": 14142.936193091824,
         "bc_open_to_buy": 16991.852667218856,
         "bc_util": 48.33066684104219,
         "chargeoff_within_12_mths": 0.006829707775694959,
         "collection_recovery_fee": 0,
         "collections_12_mths_ex_med": 0.016187860557711032,
         "debt_settlement_flag_N": 1,
         "delinq_2yrs": 0.21776595899269077,
         "delinq_amnt": 2.3470654053504223,
         "dti": 21.778152782016072,
         "hardship_flag_N": 1,
         "home_ownership_ANY": 0.009285496316317188,
         "home_ownership_MORTGAGE": 0.5263089062295654,
         "home_ownership_OWN": 0.10674687940479824,
         "home_ownership_RENT": 0.3576587180493192,
         "il_util": 69.21190984785736,
         "initial_list_status_f": 0.12387927401659474,
         "initial_list_status_w": 0.8761207259834053,
         "inq_fi": 1.3820712905241437,
         "inq_last_12m": 2.189023061162213,
         "inq_last_6mths": 0.4976967900373454,
         "installment": 480.6528629553744,
         "int_rate": 0.12771813214757982,
         "issue_d_Feb-2019": 0.37169594722234334,
         "issue_d_Jan-2019": 0.4510658703518026,
         "issue_d_Mar-2019": 0.17723818242585407,
         "last_pymnt_amnt": 517.2022183472108,
         "loan_amnt": 16677.594562390106,
         "max_bal_bc": 6297.491709897264,
         "mo_sin_old_il_acct": 125.46860514117151,
         "mo_sin_old_rev_tl_op": 175.13684118749728,
         "mo_sin_rcnt_rev_tl_op": 14.294215092201055,
         "mo_sin_rcnt_tl": 7.179781158725315,
         "mort_acc": 1.4418820930874638,
         "mths_since_rcnt_il": 14.303151837482018,
         "mths_since_recent_bc": 24.714954153770144,
         "mths_since_recent_inq": 7.688027667582138,
         "next_pymnt_d_Apr-2019": 0.383161137509627,
         "next_pymnt_d_May-2019": 0.616838862490373,
         "num_accts_ever_120_pd": 0.47248499643983316,
         "num_actv_bc_tl": 3.806123486929102,
         "num_actv_rev_tl": 5.648037548861473,
         "num_bc_sats": 5.135155557493062,
         "num_bc_tl": 7.4144034177601466,
         "num_il_tl": 9.500152578577968,
         "num_op_rev_tl": 8.630817966490838,
         "num_rev_accts": 13.517662786811398,
         "num_rev_tl_bal_gt_0": 5.6530363137015565,
         "num_sats": 12.571995291861022,
         "num_tl_120dpd_2m": 0,
         "num_tl_30dpd": 0,
         "num_tl_90g_dpd_24m": 0.05213827978551811,
         "num_tl_op_past_12m": 2.219422526410625,
         "open_acc": 12.587340337416627,
         "open_acc_6m": 1.0230466309196855,
         "open_act_il": 3.2904805498641325,
         "open_il_12m": 0.8437304735748434,
         "open_il_24m": 1.9096444192568696,
         "open_rv_12m": 1.2400424313759681,
         "open_rv_24m": 2.62224450353837,
         "out_prncp": 16018.845832861063,
         "out_prncp_inv": 16015.919518723571,
         "pct_tl_nvr_dlq": 95.0576267492044,
         "percent_bc_gt_75": 30.626217359082784,
         "policy_code": 1,
         "pub_rec": 0.12602990540128167,
         "pub_rec_bankruptcies": 0.12597178022872255,
         "pymnt_plan_n": 1,
         "recoveries": 0,
         "revol_bal": 17604.142828080272,
         "tax_liens": 0,
         "tot_coll_amt": 188.66429806588488,
         "tot_cur_bal": 163497.60381882385,
         "tot_hi_cred_lim": 210033.21972768358,
         "total_acc": 24.666346978217593,
         "total_bal_ex_mort": 61338.43046049668,
         "total_bal_il": 43240.44098115291,
         "total_bc_limit": 29734.128558350407,
         "total_cu_tl": 1.6877951668919018,
         "total_il_high_credit_limit": 55722.40157228592,
         "total_pymnt": 970.6394734388098,
         "total_pymnt_inv": 970.4311513143555,
         "total_rec_int": 311.85568682157026,
         "total_rec_late_fee": 0.03507214787043899,
         "total_rec_prncp": 658.7487495822253,
         "total_rev_hi_lim": 42431.8953601581,
         "verification_status_Not Verified": 0.47800688783294826,
         "verification_status_Source Verified": 0.373991891538428,
         "verification_status_Verified": 0.14800122062862375
        },
        {
         "_deepnote_index_column": "std",
         "acc_now_delinq": 0,
         "acc_open_past_24mths": 3.1453769858552665,
         "all_util": 18.495480193062075,
         "annual_inc": 115579.95843850209,
         "application_type_Individual": 0.346636721419206,
         "application_type_Joint App": 0.346636721419206,
         "avg_cur_bal": 15863.878992647673,
         "bc_open_to_buy": 20447.27681978052,
         "bc_util": 28.10628652554695,
         "chargeoff_within_12_mths": 0.08732690699307787,
         "collection_recovery_fee": 0,
         "collections_12_mths_ex_med": 0.1347735019086093,
         "debt_settlement_flag_N": 0,
         "delinq_2yrs": 0.7183668344091326,
         "delinq_amnt": 301.3124074125675,
         "dti": 20.19924383261139,
         "hardship_flag_N": 0,
         "home_ownership_ANY": 0.09591355250325051,
         "home_ownership_MORTGAGE": 0.4993109895355542,
         "home_ownership_OWN": 0.3087934078795868,
         "home_ownership_RENT": 0.4793144040244506,
         "il_util": 22.337109848451338,
         "initial_list_status_f": 0.3294461665225008,
         "initial_list_status_w": 0.3294461665225008,
         "inq_fi": 1.5432198629206548,
         "inq_last_12m": 2.396185561108159,
         "inq_last_6mths": 0.758121616990885,
         "installment": 288.06243154893355,
         "int_rate": 0.04812956581980619,
         "issue_d_Feb-2019": 0.4832612789167963,
         "issue_d_Jan-2019": 0.49760330488778803,
         "issue_d_Mar-2019": 0.38187292149362284,
         "last_pymnt_amnt": 816.0210528333708,
         "loan_amnt": 10277.348589617135,
         "max_bal_bc": 5702.281757265219,
         "mo_sin_old_il_acct": 56.968853334545514,
         "mo_sin_old_rev_tl_op": 99.14946745569004,
         "mo_sin_rcnt_rev_tl_op": 17.417117820843217,
         "mo_sin_rcnt_tl": 6.30306552556246,
         "mort_acc": 1.74777654375093,
         "mths_since_rcnt_il": 13.97261852096658,
         "mths_since_recent_bc": 32.130888799790846,
         "mths_since_recent_inq": 6.034860638489982,
         "next_pymnt_d_Apr-2019": 0.48616058531499534,
         "next_pymnt_d_May-2019": 0.48616058531499534,
         "num_accts_ever_120_pd": 1.410819404402459,
         "num_actv_bc_tl": 2.4645041692870304,
         "num_actv_rev_tl": 3.470941160127824,
         "num_bc_sats": 3.230651089195802,
         "num_bc_tl": 4.581370612209269,
         "num_il_tl": 7.5738461762888765,
         "num_op_rev_tl": 5.056994048994435,
         "num_rev_accts": 8.026158245604428,
         "num_rev_tl_bal_gt_0": 3.4726790728166343,
         "num_sats": 6.021318050136025,
         "num_tl_120dpd_2m": 0,
         "num_tl_30dpd": 0,
         "num_tl_90g_dpd_24m": 0.39063317607587694,
         "num_tl_op_past_12m": 1.897432153514677,
         "open_acc": 6.022869317869051,
         "open_acc_6m": 1.1767817453323397,
         "open_act_il": 2.965579130995045,
         "open_il_12m": 0.9705429301663371,
         "open_il_24m": 1.5449936823047876,
         "open_rv_12m": 1.4717449427567852,
         "open_rv_24m": 2.5026081144199095,
         "out_prncp": 10002.695495057698,
         "out_prncp_inv": 10004.985940157214,
         "pct_tl_nvr_dlq": 8.32642646969173,
         "percent_bc_gt_75": 33.63146295497353,
         "policy_code": 0,
         "pub_rec": 0.33679680656198413,
         "pub_rec_bankruptcies": 0.33673225379737526,
         "pymnt_plan_n": 0,
         "recoveries": 0,
         "revol_bal": 21835.880400039958,
         "tax_liens": 0,
         "tot_coll_amt": 1808.4571946499161,
         "tot_cur_bal": 172369.89201635597,
         "tot_hi_cred_lim": 192808.80866732512,
         "total_acc": 12.318917375747455,
         "total_bal_ex_mort": 57387.97708853731,
         "total_bal_il": 49561.29697862632,
         "total_bc_limit": 26795.394232257033,
         "total_cu_tl": 2.852663678017367,
         "total_il_high_credit_limit": 50958.446778584665,
         "total_pymnt": 1229.5633007706704,
         "total_pymnt_inv": 1229.5698642065286,
         "total_rec_int": 279.7869535098207,
         "total_rec_late_fee": 1.0867202276105432,
         "total_rec_prncp": 1126.237376750555,
         "total_rev_hi_lim": 37166.2293157734,
         "verification_status_Not Verified": 0.4995196981745945,
         "verification_status_Source Verified": 0.4838650212054558,
         "verification_status_Verified": 0.3551037759558673
        },
        {
         "_deepnote_index_column": "min",
         "acc_now_delinq": 0,
         "acc_open_past_24mths": 0,
         "all_util": 1,
         "annual_inc": 40,
         "application_type_Individual": 0,
         "application_type_Joint App": 0,
         "avg_cur_bal": 20,
         "bc_open_to_buy": 0,
         "bc_util": 0,
         "chargeoff_within_12_mths": 0,
         "collection_recovery_fee": 0,
         "collections_12_mths_ex_med": 0,
         "debt_settlement_flag_N": 1,
         "delinq_2yrs": 0,
         "delinq_amnt": 0,
         "dti": 0,
         "hardship_flag_N": 1,
         "home_ownership_ANY": 0,
         "home_ownership_MORTGAGE": 0,
         "home_ownership_OWN": 0,
         "home_ownership_RENT": 0,
         "il_util": 0,
         "initial_list_status_f": 0,
         "initial_list_status_w": 0,
         "inq_fi": 0,
         "inq_last_12m": 0,
         "inq_last_6mths": 0,
         "installment": 30.89,
         "int_rate": 0.06,
         "issue_d_Feb-2019": 0,
         "issue_d_Jan-2019": 0,
         "issue_d_Mar-2019": 0,
         "last_pymnt_amnt": 0,
         "loan_amnt": 1000,
         "max_bal_bc": 0,
         "mo_sin_old_il_acct": 0,
         "mo_sin_old_rev_tl_op": 5,
         "mo_sin_rcnt_rev_tl_op": 0,
         "mo_sin_rcnt_tl": 0,
         "mort_acc": 0,
         "mths_since_rcnt_il": 0,
         "mths_since_recent_bc": 0,
         "mths_since_recent_inq": 0,
         "next_pymnt_d_Apr-2019": 0,
         "next_pymnt_d_May-2019": 0,
         "num_accts_ever_120_pd": 0,
         "num_actv_bc_tl": 0,
         "num_actv_rev_tl": 0,
         "num_bc_sats": 0,
         "num_bc_tl": 1,
         "num_il_tl": 1,
         "num_op_rev_tl": 1,
         "num_rev_accts": 2,
         "num_rev_tl_bal_gt_0": 0,
         "num_sats": 2,
         "num_tl_120dpd_2m": 0,
         "num_tl_30dpd": 0,
         "num_tl_90g_dpd_24m": 0,
         "num_tl_op_past_12m": 0,
         "open_acc": 2,
         "open_acc_6m": 0,
         "open_act_il": 0,
         "open_il_12m": 0,
         "open_il_24m": 0,
         "open_rv_12m": 0,
         "open_rv_24m": 0,
         "out_prncp": 0,
         "out_prncp_inv": 0,
         "pct_tl_nvr_dlq": 20,
         "percent_bc_gt_75": 0,
         "policy_code": 1,
         "pub_rec": 0,
         "pub_rec_bankruptcies": 0,
         "pymnt_plan_n": 1,
         "recoveries": 0,
         "revol_bal": 0,
         "tax_liens": 0,
         "tot_coll_amt": 0,
         "tot_cur_bal": 235,
         "tot_hi_cred_lim": 3600,
         "total_acc": 3,
         "total_bal_ex_mort": 235,
         "total_bal_il": 1,
         "total_bc_limit": 100,
         "total_cu_tl": 0,
         "total_il_high_credit_limit": 127,
         "total_pymnt": 0,
         "total_pymnt_inv": 0,
         "total_rec_int": 0,
         "total_rec_late_fee": 0,
         "total_rec_prncp": 0,
         "total_rev_hi_lim": 200,
         "verification_status_Not Verified": 0,
         "verification_status_Source Verified": 0,
         "verification_status_Verified": 0
        },
        {
         "_deepnote_index_column": "25%",
         "acc_now_delinq": 0,
         "acc_open_past_24mths": 3,
         "all_util": 43,
         "annual_inc": 50000,
         "application_type_Individual": 1,
         "application_type_Joint App": 0,
         "avg_cur_bal": 3505,
         "bc_open_to_buy": 3644,
         "bc_util": 25.4,
         "chargeoff_within_12_mths": 0,
         "collection_recovery_fee": 0,
         "collections_12_mths_ex_med": 0,
         "debt_settlement_flag_N": 1,
         "delinq_2yrs": 0,
         "delinq_amnt": 0,
         "dti": 13.89,
         "hardship_flag_N": 1,
         "home_ownership_ANY": 0,
         "home_ownership_MORTGAGE": 0,
         "home_ownership_OWN": 0,
         "home_ownership_RENT": 0,
         "il_util": 56,
         "initial_list_status_f": 0,
         "initial_list_status_w": 1,
         "inq_fi": 0,
         "inq_last_12m": 1,
         "inq_last_6mths": 0,
         "installment": 265.73,
         "int_rate": 0.08810000000000001,
         "issue_d_Feb-2019": 0,
         "issue_d_Jan-2019": 0,
         "issue_d_Mar-2019": 0,
         "last_pymnt_amnt": 267.11,
         "loan_amnt": 9000,
         "max_bal_bc": 2558,
         "mo_sin_old_il_acct": 87,
         "mo_sin_old_rev_tl_op": 101,
         "mo_sin_rcnt_rev_tl_op": 4,
         "mo_sin_rcnt_tl": 3,
         "mort_acc": 0,
         "mths_since_rcnt_il": 6,
         "mths_since_recent_bc": 6,
         "mths_since_recent_inq": 3,
         "next_pymnt_d_Apr-2019": 0,
         "next_pymnt_d_May-2019": 0,
         "num_accts_ever_120_pd": 0,
         "num_actv_bc_tl": 2,
         "num_actv_rev_tl": 3,
         "num_bc_sats": 3,
         "num_bc_tl": 4,
         "num_il_tl": 4,
         "num_op_rev_tl": 5,
         "num_rev_accts": 8,
         "num_rev_tl_bal_gt_0": 3,
         "num_sats": 8,
         "num_tl_120dpd_2m": 0,
         "num_tl_30dpd": 0,
         "num_tl_90g_dpd_24m": 0,
         "num_tl_op_past_12m": 1,
         "open_acc": 8,
         "open_acc_6m": 0,
         "open_act_il": 2,
         "open_il_12m": 0,
         "open_il_24m": 1,
         "open_rv_12m": 0,
         "open_rv_24m": 1,
         "out_prncp": 8578.8,
         "out_prncp_inv": 8576.5,
         "pct_tl_nvr_dlq": 93,
         "percent_bc_gt_75": 0,
         "policy_code": 1,
         "pub_rec": 0,
         "pub_rec_bankruptcies": 0,
         "pymnt_plan_n": 1,
         "recoveries": 0,
         "revol_bal": 6293,
         "tax_liens": 0,
         "tot_coll_amt": 0,
         "tot_cur_bal": 35700,
         "tot_hi_cred_lim": 66977,
         "total_acc": 16,
         "total_bal_ex_mort": 26503,
         "total_bal_il": 14223,
         "total_bc_limit": 11600,
         "total_cu_tl": 0,
         "total_il_high_credit_limit": 22880,
         "total_pymnt": 403.76,
         "total_pymnt_inv": 403.55,
         "total_rec_int": 115.44,
         "total_rec_late_fee": 0,
         "total_rec_prncp": 250.37,
         "total_rev_hi_lim": 19200,
         "verification_status_Not Verified": 0,
         "verification_status_Source Verified": 0,
         "verification_status_Verified": 0
        },
        {
         "_deepnote_index_column": "50%",
         "acc_now_delinq": 0,
         "acc_open_past_24mths": 4,
         "all_util": 56,
         "annual_inc": 73000,
         "application_type_Individual": 1,
         "application_type_Joint App": 0,
         "avg_cur_bal": 8261,
         "bc_open_to_buy": 10239,
         "bc_util": 46.4,
         "chargeoff_within_12_mths": 0,
         "collection_recovery_fee": 0,
         "collections_12_mths_ex_med": 0,
         "debt_settlement_flag_N": 1,
         "delinq_2yrs": 0,
         "delinq_amnt": 0,
         "dti": 19.76,
         "hardship_flag_N": 1,
         "home_ownership_ANY": 0,
         "home_ownership_MORTGAGE": 1,
         "home_ownership_OWN": 0,
         "home_ownership_RENT": 0,
         "il_util": 71,
         "initial_list_status_f": 0,
         "initial_list_status_w": 1,
         "inq_fi": 1,
         "inq_last_12m": 2,
         "inq_last_6mths": 0,
         "installment": 404.56,
         "int_rate": 0.11800000000000001,
         "issue_d_Feb-2019": 0,
         "issue_d_Jan-2019": 0,
         "issue_d_Mar-2019": 0,
         "last_pymnt_amnt": 408.52,
         "loan_amnt": 15000,
         "max_bal_bc": 4874,
         "mo_sin_old_il_acct": 132,
         "mo_sin_old_rev_tl_op": 157,
         "mo_sin_rcnt_rev_tl_op": 9,
         "mo_sin_rcnt_tl": 5,
         "mort_acc": 1,
         "mths_since_rcnt_il": 11,
         "mths_since_recent_bc": 15,
         "mths_since_recent_inq": 6,
         "next_pymnt_d_Apr-2019": 0,
         "next_pymnt_d_May-2019": 1,
         "num_accts_ever_120_pd": 0,
         "num_actv_bc_tl": 3,
         "num_actv_rev_tl": 5,
         "num_bc_sats": 4,
         "num_bc_tl": 6,
         "num_il_tl": 7,
         "num_op_rev_tl": 8,
         "num_rev_accts": 12,
         "num_rev_tl_bal_gt_0": 5,
         "num_sats": 11,
         "num_tl_120dpd_2m": 0,
         "num_tl_30dpd": 0,
         "num_tl_90g_dpd_24m": 0,
         "num_tl_op_past_12m": 2,
         "open_acc": 11,
         "open_acc_6m": 1,
         "open_act_il": 2,
         "open_il_12m": 1,
         "open_il_24m": 2,
         "open_rv_12m": 1,
         "open_rv_24m": 2,
         "out_prncp": 14067.75,
         "out_prncp_inv": 14061.03,
         "pct_tl_nvr_dlq": 100,
         "percent_bc_gt_75": 20,
         "policy_code": 1,
         "pub_rec": 0,
         "pub_rec_bankruptcies": 0,
         "pymnt_plan_n": 1,
         "recoveries": 0,
         "revol_bal": 12068,
         "tax_liens": 0,
         "tot_coll_amt": 0,
         "tot_cur_bal": 99606,
         "tot_hi_cred_lim": 146710,
         "total_acc": 23,
         "total_bal_ex_mort": 45357,
         "total_bal_il": 28626,
         "total_bc_limit": 22100,
         "total_cu_tl": 1,
         "total_il_high_credit_limit": 42000,
         "total_pymnt": 710.79,
         "total_pymnt_inv": 710.79,
         "total_rec_int": 225.25,
         "total_rec_late_fee": 0,
         "total_rec_prncp": 449.89,
         "total_rev_hi_lim": 32800,
         "verification_status_Not Verified": 0,
         "verification_status_Source Verified": 0,
         "verification_status_Verified": 0
        },
        {
         "_deepnote_index_column": "75%",
         "acc_now_delinq": 0,
         "acc_open_past_24mths": 6,
         "all_util": 68,
         "annual_inc": 104000,
         "application_type_Individual": 1,
         "application_type_Joint App": 0,
         "avg_cur_bal": 19859,
         "bc_open_to_buy": 22806,
         "bc_util": 71.1,
         "chargeoff_within_12_mths": 0,
         "collection_recovery_fee": 0,
         "collections_12_mths_ex_med": 0,
         "debt_settlement_flag_N": 1,
         "delinq_2yrs": 0,
         "delinq_amnt": 0,
         "dti": 26.66,
         "hardship_flag_N": 1,
         "home_ownership_ANY": 0,
         "home_ownership_MORTGAGE": 1,
         "home_ownership_OWN": 0,
         "home_ownership_RENT": 1,
         "il_util": 85,
         "initial_list_status_f": 0,
         "initial_list_status_w": 1,
         "inq_fi": 2,
         "inq_last_12m": 3,
         "inq_last_6mths": 1,
         "installment": 648.1,
         "int_rate": 0.1557,
         "issue_d_Feb-2019": 1,
         "issue_d_Jan-2019": 1,
         "issue_d_Mar-2019": 0,
         "last_pymnt_amnt": 652.58,
         "loan_amnt": 24000,
         "max_bal_bc": 8321,
         "mo_sin_old_il_acct": 159,
         "mo_sin_old_rev_tl_op": 226,
         "mo_sin_rcnt_rev_tl_op": 19,
         "mo_sin_rcnt_tl": 10,
         "mort_acc": 2,
         "mths_since_rcnt_il": 18,
         "mths_since_recent_bc": 31,
         "mths_since_recent_inq": 12,
         "next_pymnt_d_Apr-2019": 1,
         "next_pymnt_d_May-2019": 1,
         "num_accts_ever_120_pd": 0,
         "num_actv_bc_tl": 5,
         "num_actv_rev_tl": 7,
         "num_bc_sats": 7,
         "num_bc_tl": 10,
         "num_il_tl": 12,
         "num_op_rev_tl": 11,
         "num_rev_accts": 17,
         "num_rev_tl_bal_gt_0": 7,
         "num_sats": 16,
         "num_tl_120dpd_2m": 0,
         "num_tl_30dpd": 0,
         "num_tl_90g_dpd_24m": 0,
         "num_tl_op_past_12m": 3,
         "open_acc": 16,
         "open_acc_6m": 2,
         "open_act_il": 4,
         "open_il_12m": 1,
         "open_il_24m": 3,
         "open_rv_12m": 2,
         "open_rv_24m": 4,
         "out_prncp": 22860.7,
         "out_prncp_inv": 22860.49,
         "pct_tl_nvr_dlq": 100,
         "percent_bc_gt_75": 50,
         "policy_code": 1,
         "pub_rec": 0,
         "pub_rec_bankruptcies": 0,
         "pymnt_plan_n": 1,
         "recoveries": 0,
         "revol_bal": 21735,
         "tax_liens": 0,
         "tot_coll_amt": 0,
         "tot_cur_bal": 247206,
         "tot_hi_cred_lim": 303640,
         "total_acc": 31,
         "total_bal_ex_mort": 76570,
         "total_bal_il": 54065,
         "total_bc_limit": 39300,
         "total_cu_tl": 2,
         "total_il_high_credit_limit": 72499,
         "total_pymnt": 1214.6,
         "total_pymnt_inv": 1214.59,
         "total_rec_int": 415.71,
         "total_rec_late_fee": 0,
         "total_rec_prncp": 762.17,
         "total_rev_hi_lim": 54100,
         "verification_status_Not Verified": 1,
         "verification_status_Source Verified": 1,
         "verification_status_Verified": 0
        },
        {
         "_deepnote_index_column": "max",
         "acc_now_delinq": 0,
         "acc_open_past_24mths": 45,
         "all_util": 216,
         "annual_inc": 8797500,
         "application_type_Individual": 1,
         "application_type_Joint App": 1,
         "avg_cur_bal": 448583,
         "bc_open_to_buy": 506507,
         "bc_util": 169.5,
         "chargeoff_within_12_mths": 2,
         "collection_recovery_fee": 0,
         "collections_12_mths_ex_med": 4,
         "debt_settlement_flag_N": 1,
         "delinq_2yrs": 18,
         "delinq_amnt": 65000,
         "dti": 999,
         "hardship_flag_N": 1,
         "home_ownership_ANY": 1,
         "home_ownership_MORTGAGE": 1,
         "home_ownership_OWN": 1,
         "home_ownership_RENT": 1,
         "il_util": 313,
         "initial_list_status_f": 1,
         "initial_list_status_w": 1,
         "inq_fi": 29,
         "inq_last_12m": 42,
         "inq_last_6mths": 5,
         "installment": 1676.23,
         "int_rate": 0.3084,
         "issue_d_Feb-2019": 1,
         "issue_d_Jan-2019": 1,
         "issue_d_Mar-2019": 1,
         "last_pymnt_amnt": 40500.34,
         "loan_amnt": 40000,
         "max_bal_bc": 207484,
         "mo_sin_old_il_acct": 606,
         "mo_sin_old_rev_tl_op": 902,
         "mo_sin_rcnt_rev_tl_op": 564,
         "mo_sin_rcnt_tl": 170,
         "mort_acc": 20,
         "mths_since_rcnt_il": 389,
         "mths_since_recent_bc": 564,
         "mths_since_recent_inq": 24,
         "next_pymnt_d_Apr-2019": 1,
         "next_pymnt_d_May-2019": 1,
         "num_accts_ever_120_pd": 34,
         "num_actv_bc_tl": 26,
         "num_actv_rev_tl": 43,
         "num_bc_sats": 43,
         "num_bc_tl": 60,
         "num_il_tl": 149,
         "num_op_rev_tl": 70,
         "num_rev_accts": 98,
         "num_rev_tl_bal_gt_0": 43,
         "num_sats": 72,
         "num_tl_120dpd_2m": 0,
         "num_tl_30dpd": 0,
         "num_tl_90g_dpd_24m": 18,
         "num_tl_op_past_12m": 19,
         "open_acc": 72,
         "open_acc_6m": 14,
         "open_act_il": 63,
         "open_il_12m": 6,
         "open_il_24m": 22,
         "open_rv_12m": 18,
         "open_rv_24m": 44,
         "out_prncp": 40000,
         "out_prncp_inv": 40000,
         "pct_tl_nvr_dlq": 100,
         "percent_bc_gt_75": 100,
         "policy_code": 1,
         "pub_rec": 4,
         "pub_rec_bankruptcies": 4,
         "pymnt_plan_n": 1,
         "recoveries": 0,
         "revol_bal": 587191,
         "tax_liens": 0,
         "tot_coll_amt": 159199,
         "tot_cur_bal": 3140082,
         "tot_hi_cred_lim": 3292782,
         "total_acc": 164,
         "total_bal_ex_mort": 1295455,
         "total_bal_il": 1260281,
         "total_bc_limit": 509400,
         "total_cu_tl": 70,
         "total_il_high_credit_limit": 1426964,
         "total_pymnt": 41418.9811651124,
         "total_pymnt_inv": 41418.98,
         "total_rec_int": 2735.4,
         "total_rec_late_fee": 75.24,
         "total_rec_prncp": 40000,
         "total_rev_hi_lim": 759500,
         "verification_status_Not Verified": 1,
         "verification_status_Source Verified": 1,
         "verification_status_Verified": 1
        }
       ]
      },
      "text/html": [
       "<div>\n",
       "<style scoped>\n",
       "    .dataframe tbody tr th:only-of-type {\n",
       "        vertical-align: middle;\n",
       "    }\n",
       "\n",
       "    .dataframe tbody tr th {\n",
       "        vertical-align: top;\n",
       "    }\n",
       "\n",
       "    .dataframe thead th {\n",
       "        text-align: right;\n",
       "    }\n",
       "</style>\n",
       "<table border=\"1\" class=\"dataframe\">\n",
       "  <thead>\n",
       "    <tr style=\"text-align: right;\">\n",
       "      <th></th>\n",
       "      <th>loan_amnt</th>\n",
       "      <th>int_rate</th>\n",
       "      <th>installment</th>\n",
       "      <th>annual_inc</th>\n",
       "      <th>dti</th>\n",
       "      <th>delinq_2yrs</th>\n",
       "      <th>inq_last_6mths</th>\n",
       "      <th>open_acc</th>\n",
       "      <th>pub_rec</th>\n",
       "      <th>revol_bal</th>\n",
       "      <th>...</th>\n",
       "      <th>issue_d_Mar-2019</th>\n",
       "      <th>pymnt_plan_n</th>\n",
       "      <th>initial_list_status_f</th>\n",
       "      <th>initial_list_status_w</th>\n",
       "      <th>next_pymnt_d_Apr-2019</th>\n",
       "      <th>next_pymnt_d_May-2019</th>\n",
       "      <th>application_type_Individual</th>\n",
       "      <th>application_type_Joint App</th>\n",
       "      <th>hardship_flag_N</th>\n",
       "      <th>debt_settlement_flag_N</th>\n",
       "    </tr>\n",
       "  </thead>\n",
       "  <tbody>\n",
       "    <tr>\n",
       "      <th>count</th>\n",
       "      <td>68817.000000</td>\n",
       "      <td>68817.000000</td>\n",
       "      <td>68817.000000</td>\n",
       "      <td>6.881700e+04</td>\n",
       "      <td>68817.000000</td>\n",
       "      <td>68817.000000</td>\n",
       "      <td>68817.000000</td>\n",
       "      <td>68817.000000</td>\n",
       "      <td>68817.000000</td>\n",
       "      <td>68817.000000</td>\n",
       "      <td>...</td>\n",
       "      <td>68817.000000</td>\n",
       "      <td>68817.0</td>\n",
       "      <td>68817.000000</td>\n",
       "      <td>68817.000000</td>\n",
       "      <td>68817.000000</td>\n",
       "      <td>68817.000000</td>\n",
       "      <td>68817.000000</td>\n",
       "      <td>68817.000000</td>\n",
       "      <td>68817.0</td>\n",
       "      <td>68817.0</td>\n",
       "    </tr>\n",
       "    <tr>\n",
       "      <th>mean</th>\n",
       "      <td>16677.594562</td>\n",
       "      <td>0.127718</td>\n",
       "      <td>480.652863</td>\n",
       "      <td>8.821371e+04</td>\n",
       "      <td>21.778153</td>\n",
       "      <td>0.217766</td>\n",
       "      <td>0.497697</td>\n",
       "      <td>12.587340</td>\n",
       "      <td>0.126030</td>\n",
       "      <td>17604.142828</td>\n",
       "      <td>...</td>\n",
       "      <td>0.177238</td>\n",
       "      <td>1.0</td>\n",
       "      <td>0.123879</td>\n",
       "      <td>0.876121</td>\n",
       "      <td>0.383161</td>\n",
       "      <td>0.616839</td>\n",
       "      <td>0.860340</td>\n",
       "      <td>0.139660</td>\n",
       "      <td>1.0</td>\n",
       "      <td>1.0</td>\n",
       "    </tr>\n",
       "    <tr>\n",
       "      <th>std</th>\n",
       "      <td>10277.348590</td>\n",
       "      <td>0.048130</td>\n",
       "      <td>288.062432</td>\n",
       "      <td>1.155800e+05</td>\n",
       "      <td>20.199244</td>\n",
       "      <td>0.718367</td>\n",
       "      <td>0.758122</td>\n",
       "      <td>6.022869</td>\n",
       "      <td>0.336797</td>\n",
       "      <td>21835.880400</td>\n",
       "      <td>...</td>\n",
       "      <td>0.381873</td>\n",
       "      <td>0.0</td>\n",
       "      <td>0.329446</td>\n",
       "      <td>0.329446</td>\n",
       "      <td>0.486161</td>\n",
       "      <td>0.486161</td>\n",
       "      <td>0.346637</td>\n",
       "      <td>0.346637</td>\n",
       "      <td>0.0</td>\n",
       "      <td>0.0</td>\n",
       "    </tr>\n",
       "    <tr>\n",
       "      <th>min</th>\n",
       "      <td>1000.000000</td>\n",
       "      <td>0.060000</td>\n",
       "      <td>30.890000</td>\n",
       "      <td>4.000000e+01</td>\n",
       "      <td>0.000000</td>\n",
       "      <td>0.000000</td>\n",
       "      <td>0.000000</td>\n",
       "      <td>2.000000</td>\n",
       "      <td>0.000000</td>\n",
       "      <td>0.000000</td>\n",
       "      <td>...</td>\n",
       "      <td>0.000000</td>\n",
       "      <td>1.0</td>\n",
       "      <td>0.000000</td>\n",
       "      <td>0.000000</td>\n",
       "      <td>0.000000</td>\n",
       "      <td>0.000000</td>\n",
       "      <td>0.000000</td>\n",
       "      <td>0.000000</td>\n",
       "      <td>1.0</td>\n",
       "      <td>1.0</td>\n",
       "    </tr>\n",
       "    <tr>\n",
       "      <th>25%</th>\n",
       "      <td>9000.000000</td>\n",
       "      <td>0.088100</td>\n",
       "      <td>265.730000</td>\n",
       "      <td>5.000000e+04</td>\n",
       "      <td>13.890000</td>\n",
       "      <td>0.000000</td>\n",
       "      <td>0.000000</td>\n",
       "      <td>8.000000</td>\n",
       "      <td>0.000000</td>\n",
       "      <td>6293.000000</td>\n",
       "      <td>...</td>\n",
       "      <td>0.000000</td>\n",
       "      <td>1.0</td>\n",
       "      <td>0.000000</td>\n",
       "      <td>1.000000</td>\n",
       "      <td>0.000000</td>\n",
       "      <td>0.000000</td>\n",
       "      <td>1.000000</td>\n",
       "      <td>0.000000</td>\n",
       "      <td>1.0</td>\n",
       "      <td>1.0</td>\n",
       "    </tr>\n",
       "    <tr>\n",
       "      <th>50%</th>\n",
       "      <td>15000.000000</td>\n",
       "      <td>0.118000</td>\n",
       "      <td>404.560000</td>\n",
       "      <td>7.300000e+04</td>\n",
       "      <td>19.760000</td>\n",
       "      <td>0.000000</td>\n",
       "      <td>0.000000</td>\n",
       "      <td>11.000000</td>\n",
       "      <td>0.000000</td>\n",
       "      <td>12068.000000</td>\n",
       "      <td>...</td>\n",
       "      <td>0.000000</td>\n",
       "      <td>1.0</td>\n",
       "      <td>0.000000</td>\n",
       "      <td>1.000000</td>\n",
       "      <td>0.000000</td>\n",
       "      <td>1.000000</td>\n",
       "      <td>1.000000</td>\n",
       "      <td>0.000000</td>\n",
       "      <td>1.0</td>\n",
       "      <td>1.0</td>\n",
       "    </tr>\n",
       "    <tr>\n",
       "      <th>75%</th>\n",
       "      <td>24000.000000</td>\n",
       "      <td>0.155700</td>\n",
       "      <td>648.100000</td>\n",
       "      <td>1.040000e+05</td>\n",
       "      <td>26.660000</td>\n",
       "      <td>0.000000</td>\n",
       "      <td>1.000000</td>\n",
       "      <td>16.000000</td>\n",
       "      <td>0.000000</td>\n",
       "      <td>21735.000000</td>\n",
       "      <td>...</td>\n",
       "      <td>0.000000</td>\n",
       "      <td>1.0</td>\n",
       "      <td>0.000000</td>\n",
       "      <td>1.000000</td>\n",
       "      <td>1.000000</td>\n",
       "      <td>1.000000</td>\n",
       "      <td>1.000000</td>\n",
       "      <td>0.000000</td>\n",
       "      <td>1.0</td>\n",
       "      <td>1.0</td>\n",
       "    </tr>\n",
       "    <tr>\n",
       "      <th>max</th>\n",
       "      <td>40000.000000</td>\n",
       "      <td>0.308400</td>\n",
       "      <td>1676.230000</td>\n",
       "      <td>8.797500e+06</td>\n",
       "      <td>999.000000</td>\n",
       "      <td>18.000000</td>\n",
       "      <td>5.000000</td>\n",
       "      <td>72.000000</td>\n",
       "      <td>4.000000</td>\n",
       "      <td>587191.000000</td>\n",
       "      <td>...</td>\n",
       "      <td>1.000000</td>\n",
       "      <td>1.0</td>\n",
       "      <td>1.000000</td>\n",
       "      <td>1.000000</td>\n",
       "      <td>1.000000</td>\n",
       "      <td>1.000000</td>\n",
       "      <td>1.000000</td>\n",
       "      <td>1.000000</td>\n",
       "      <td>1.0</td>\n",
       "      <td>1.0</td>\n",
       "    </tr>\n",
       "  </tbody>\n",
       "</table>\n",
       "<p>8 rows × 95 columns</p>\n",
       "</div>"
      ],
      "text/plain": [
       "          loan_amnt      int_rate   installment    annual_inc           dti  \\\n",
       "count  68817.000000  68817.000000  68817.000000  6.881700e+04  68817.000000   \n",
       "mean   16677.594562      0.127718    480.652863  8.821371e+04     21.778153   \n",
       "std    10277.348590      0.048130    288.062432  1.155800e+05     20.199244   \n",
       "min     1000.000000      0.060000     30.890000  4.000000e+01      0.000000   \n",
       "25%     9000.000000      0.088100    265.730000  5.000000e+04     13.890000   \n",
       "50%    15000.000000      0.118000    404.560000  7.300000e+04     19.760000   \n",
       "75%    24000.000000      0.155700    648.100000  1.040000e+05     26.660000   \n",
       "max    40000.000000      0.308400   1676.230000  8.797500e+06    999.000000   \n",
       "\n",
       "        delinq_2yrs  inq_last_6mths      open_acc       pub_rec  \\\n",
       "count  68817.000000    68817.000000  68817.000000  68817.000000   \n",
       "mean       0.217766        0.497697     12.587340      0.126030   \n",
       "std        0.718367        0.758122      6.022869      0.336797   \n",
       "min        0.000000        0.000000      2.000000      0.000000   \n",
       "25%        0.000000        0.000000      8.000000      0.000000   \n",
       "50%        0.000000        0.000000     11.000000      0.000000   \n",
       "75%        0.000000        1.000000     16.000000      0.000000   \n",
       "max       18.000000        5.000000     72.000000      4.000000   \n",
       "\n",
       "           revol_bal  ...  issue_d_Mar-2019  pymnt_plan_n  \\\n",
       "count   68817.000000  ...      68817.000000       68817.0   \n",
       "mean    17604.142828  ...          0.177238           1.0   \n",
       "std     21835.880400  ...          0.381873           0.0   \n",
       "min         0.000000  ...          0.000000           1.0   \n",
       "25%      6293.000000  ...          0.000000           1.0   \n",
       "50%     12068.000000  ...          0.000000           1.0   \n",
       "75%     21735.000000  ...          0.000000           1.0   \n",
       "max    587191.000000  ...          1.000000           1.0   \n",
       "\n",
       "       initial_list_status_f  initial_list_status_w  next_pymnt_d_Apr-2019  \\\n",
       "count           68817.000000           68817.000000           68817.000000   \n",
       "mean                0.123879               0.876121               0.383161   \n",
       "std                 0.329446               0.329446               0.486161   \n",
       "min                 0.000000               0.000000               0.000000   \n",
       "25%                 0.000000               1.000000               0.000000   \n",
       "50%                 0.000000               1.000000               0.000000   \n",
       "75%                 0.000000               1.000000               1.000000   \n",
       "max                 1.000000               1.000000               1.000000   \n",
       "\n",
       "       next_pymnt_d_May-2019  application_type_Individual  \\\n",
       "count           68817.000000                 68817.000000   \n",
       "mean                0.616839                     0.860340   \n",
       "std                 0.486161                     0.346637   \n",
       "min                 0.000000                     0.000000   \n",
       "25%                 0.000000                     1.000000   \n",
       "50%                 1.000000                     1.000000   \n",
       "75%                 1.000000                     1.000000   \n",
       "max                 1.000000                     1.000000   \n",
       "\n",
       "       application_type_Joint App  hardship_flag_N  debt_settlement_flag_N  \n",
       "count                68817.000000          68817.0                 68817.0  \n",
       "mean                     0.139660              1.0                     1.0  \n",
       "std                      0.346637              0.0                     0.0  \n",
       "min                      0.000000              1.0                     1.0  \n",
       "25%                      0.000000              1.0                     1.0  \n",
       "50%                      0.000000              1.0                     1.0  \n",
       "75%                      0.000000              1.0                     1.0  \n",
       "max                      1.000000              1.0                     1.0  \n",
       "\n",
       "[8 rows x 95 columns]"
      ]
     },
     "execution_count": 7,
     "metadata": {},
     "output_type": "execute_result"
    }
   ],
   "source": [
    "X.describe()"
   ]
  },
  {
   "cell_type": "code",
   "execution_count": 8,
   "metadata": {
    "cell_id": "00009-53148167-c7f5-4908-a012-496992cca244",
    "deepnote_cell_height": 174.5,
    "deepnote_cell_type": "code",
    "deepnote_output_heights": [
     59.578125
    ],
    "deepnote_to_be_reexecuted": false,
    "execution_millis": 6551217,
    "execution_start": 1651997785095,
    "source_hash": "9aa13f10"
   },
   "outputs": [
    {
     "data": {
      "text/plain": [
       "low_risk     68470\n",
       "high_risk      347\n",
       "Name: loan_status, dtype: int64"
      ]
     },
     "execution_count": 8,
     "metadata": {},
     "output_type": "execute_result"
    }
   ],
   "source": [
    "# Check the balance of our target values\n",
    "y['loan_status'].value_counts()"
   ]
  },
  {
   "cell_type": "code",
   "execution_count": 9,
   "metadata": {
    "cell_id": "00010-58e2a2fe-971b-432f-b6cc-4aba775e2e74",
    "deepnote_cell_height": 98.9375,
    "deepnote_cell_type": "code",
    "deepnote_to_be_reexecuted": false,
    "execution_millis": 474,
    "execution_start": 1651997785109,
    "source_hash": "e03a7926"
   },
   "outputs": [],
   "source": [
    "# stratify to ensure the same balance of each class in both train and test sets\n",
    "X_train, X_test, y_train, y_test = train_test_split(X, y, random_state=1, stratify=y)"
   ]
  },
  {
   "cell_type": "code",
   "execution_count": 10,
   "metadata": {
    "cell_id": "fa3b22f4aabb4506b35d1c50cff1efab",
    "deepnote_cell_height": 136.109375,
    "deepnote_cell_type": "code",
    "deepnote_output_heights": [
     21.1875
    ],
    "deepnote_to_be_reexecuted": false,
    "execution_millis": 37,
    "execution_start": 1651997785603,
    "source_hash": "5303df78",
    "tags": []
   },
   "outputs": [
    {
     "data": {
      "text/plain": [
       "Counter({'low_risk': 51352, 'high_risk': 260})"
      ]
     },
     "execution_count": 10,
     "metadata": {},
     "output_type": "execute_result"
    }
   ],
   "source": [
    "# See the what the balance is before any oversampling or undersampling\n",
    "Counter(y_train['loan_status'])"
   ]
  },
  {
   "cell_type": "markdown",
   "metadata": {
    "cell_id": "00011-1c940fff-8198-4cf1-84fb-9b0f17940c56",
    "deepnote_cell_height": 339.4375,
    "deepnote_cell_type": "markdown"
   },
   "source": [
    "# Oversampling\n",
    "\n",
    "In this section, you will compare two oversampling algorithms to determine which algorithm results in the best performance. You will oversample the data using the naive random oversampling algorithm and the SMOTE algorithm. For each algorithm, be sure to complete the folliowing steps:\n",
    "\n",
    "1. View the count of the target classes using `Counter` from the collections library. \n",
    "3. Use the resampled data to train a logistic regression model.\n",
    "3. Calculate the balanced accuracy score from sklearn.metrics.\n",
    "4. Print the confusion matrix from sklearn.metrics.\n",
    "5. Generate a classication report using the `imbalanced_classification_report` from imbalanced-learn.\n",
    "\n",
    "Note: Use a random state of 1 for each sampling algorithm to ensure consistency between tests"
   ]
  },
  {
   "cell_type": "markdown",
   "metadata": {
    "cell_id": "00012-1b895c07-f3e4-438e-bd4b-612bffb53082",
    "deepnote_cell_height": 61.953125,
    "deepnote_cell_type": "markdown"
   },
   "source": [
    "### Naive Random Oversampling"
   ]
  },
  {
   "cell_type": "code",
   "execution_count": 11,
   "metadata": {
    "cell_id": "00013-9e1e98bf-b234-4168-bd36-82f98658ddfa",
    "deepnote_cell_height": 208.109375,
    "deepnote_cell_type": "code",
    "deepnote_output_heights": [
     21.1875
    ],
    "deepnote_to_be_reexecuted": false,
    "execution_millis": 443,
    "execution_start": 1651997785623,
    "source_hash": "2284f987"
   },
   "outputs": [
    {
     "data": {
      "text/plain": [
       "Counter({'low_risk': 51352, 'high_risk': 51352})"
      ]
     },
     "execution_count": 11,
     "metadata": {},
     "output_type": "execute_result"
    }
   ],
   "source": [
    "# Resample the training data with the RandomOversampler\n",
    "random_oversampler = RandomOverSampler(random_state=1)\n",
    "X_resampled, y_resampled = random_oversampler.fit_resample(X_train, y_train)\n",
    "\n",
    "# Show balance of classes\n",
    "Counter(y_resampled['loan_status'])"
   ]
  },
  {
   "cell_type": "code",
   "execution_count": 12,
   "metadata": {
    "cell_id": "00014-c3168c4c-a347-43c7-9e74-2ad5ef11c4fc",
    "deepnote_cell_height": 154.09375,
    "deepnote_cell_type": "code",
    "deepnote_output_heights": [
     21.1875
    ],
    "deepnote_to_be_reexecuted": false,
    "execution_millis": 7492,
    "execution_start": 1651997786069,
    "source_hash": "6ac9403a"
   },
   "outputs": [
    {
     "data": {
      "text/plain": [
       "LogisticRegression(random_state=1)"
      ]
     },
     "execution_count": 12,
     "metadata": {},
     "output_type": "execute_result"
    }
   ],
   "source": [
    "# Train the Logistic Regression model using the resampled data\n",
    "model = LogisticRegression(solver='lbfgs', random_state=1)\n",
    "model.fit(X_resampled, y_resampled)"
   ]
  },
  {
   "cell_type": "code",
   "execution_count": 13,
   "metadata": {
    "cell_id": "00015-6128f24b-45a5-403e-8b46-3bc816f67f58",
    "deepnote_cell_height": 154.09375,
    "deepnote_cell_type": "code",
    "deepnote_output_heights": [
     21.1875
    ],
    "deepnote_to_be_reexecuted": false,
    "execution_millis": 567,
    "execution_start": 1651997793080,
    "source_hash": "1f3b1c6d"
   },
   "outputs": [
    {
     "data": {
      "text/plain": [
       "0.6517327999162004"
      ]
     },
     "execution_count": 13,
     "metadata": {},
     "output_type": "execute_result"
    }
   ],
   "source": [
    "# Calculated the balanced accuracy score\n",
    "y_pred = model.predict(X_test)\n",
    "balanced_accuracy_score(y_test, y_pred)"
   ]
  },
  {
   "cell_type": "code",
   "execution_count": 14,
   "metadata": {
    "cell_id": "00016-c53a7ee4-33b4-4e02-89f5-46b3aa095129",
    "deepnote_cell_height": 155.28125,
    "deepnote_cell_type": "code",
    "deepnote_output_heights": [
     40.375
    ],
    "deepnote_to_be_reexecuted": false,
    "execution_millis": 219,
    "execution_start": 1651997793428,
    "source_hash": "41c00dcd"
   },
   "outputs": [
    {
     "data": {
      "text/plain": [
       "array([[   55,    32],\n",
       "       [ 5627, 11491]])"
      ]
     },
     "execution_count": 14,
     "metadata": {},
     "output_type": "execute_result"
    }
   ],
   "source": [
    "# Display the confusion matrix\n",
    "confusion_matrix(y_test, y_pred)"
   ]
  },
  {
   "cell_type": "code",
   "execution_count": 15,
   "metadata": {
    "cell_id": "00017-50ce73b5-3d47-4753-a8ea-c107b2bbe8b5",
    "deepnote_cell_height": 249.9375,
    "deepnote_cell_type": "code",
    "deepnote_to_be_reexecuted": false,
    "execution_millis": 757,
    "execution_start": 1651997793520,
    "source_hash": "e65b7ce8"
   },
   "outputs": [
    {
     "name": "stdout",
     "output_type": "stream",
     "text": [
      "                   pre       rec       spe        f1       geo       iba       sup\n",
      "\n",
      "  high_risk       0.01      0.63      0.67      0.02      0.65      0.42        87\n",
      "   low_risk       1.00      0.67      0.63      0.80      0.65      0.43     17118\n",
      "\n",
      "avg / total       0.99      0.67      0.63      0.80      0.65      0.43     17205\n",
      "\n"
     ]
    }
   ],
   "source": [
    "# Print the imbalanced classification report\n",
    "print(classification_report_imbalanced(y_test, y_pred))"
   ]
  },
  {
   "cell_type": "markdown",
   "metadata": {
    "cell_id": "00018-2b42103d-ad2a-437a-9805-7e27b0ecb866",
    "deepnote_cell_height": 61.953125,
    "deepnote_cell_type": "markdown"
   },
   "source": [
    "### SMOTE Oversampling"
   ]
  },
  {
   "cell_type": "code",
   "execution_count": 16,
   "metadata": {
    "cell_id": "00019-29a3967a-1207-4c90-a440-d7d9f15303da",
    "deepnote_cell_height": 208.109375,
    "deepnote_cell_type": "code",
    "deepnote_output_heights": [
     21.1875
    ],
    "deepnote_to_be_reexecuted": false,
    "execution_millis": 528,
    "execution_start": 1651997794331,
    "source_hash": "4cd3705f"
   },
   "outputs": [
    {
     "data": {
      "text/plain": [
       "Counter({'low_risk': 51352, 'high_risk': 51352})"
      ]
     },
     "execution_count": 16,
     "metadata": {},
     "output_type": "execute_result"
    }
   ],
   "source": [
    "# Resample the training data with SMOTE\n",
    "smote = SMOTE(random_state=1, sampling_strategy='auto')\n",
    "X_resampled, y_resampled = smote.fit_resample(X_train, y_train)\n",
    "\n",
    "# Show balance of classes\n",
    "Counter(y_resampled['loan_status'])"
   ]
  },
  {
   "cell_type": "code",
   "execution_count": 17,
   "metadata": {
    "cell_id": "00020-64a82f74-a46f-41f8-8035-b5f82953791c",
    "deepnote_cell_height": 154.09375,
    "deepnote_cell_type": "code",
    "deepnote_output_heights": [
     21.1875
    ],
    "deepnote_to_be_reexecuted": false,
    "execution_millis": 6956,
    "execution_start": 1651997794866,
    "source_hash": "6ac9403a"
   },
   "outputs": [
    {
     "data": {
      "text/plain": [
       "LogisticRegression(random_state=1)"
      ]
     },
     "execution_count": 17,
     "metadata": {},
     "output_type": "execute_result"
    }
   ],
   "source": [
    "# Train the Logistic Regression model using the resampled data\n",
    "model = LogisticRegression(solver='lbfgs', random_state=1)\n",
    "model.fit(X_resampled, y_resampled)"
   ]
  },
  {
   "cell_type": "code",
   "execution_count": 18,
   "metadata": {
    "cell_id": "00021-c065269a-604b-4734-ae99-bd0dd4de8135",
    "deepnote_cell_height": 154.09375,
    "deepnote_cell_type": "code",
    "deepnote_output_heights": [
     21.1875
    ],
    "deepnote_to_be_reexecuted": false,
    "execution_millis": 204,
    "execution_start": 1651997801830,
    "source_hash": "1f3b1c6d"
   },
   "outputs": [
    {
     "data": {
      "text/plain": [
       "0.6305774119599856"
      ]
     },
     "execution_count": 18,
     "metadata": {},
     "output_type": "execute_result"
    }
   ],
   "source": [
    "# Calculated the balanced accuracy score\n",
    "y_pred = model.predict(X_test)\n",
    "balanced_accuracy_score(y_test, y_pred)"
   ]
  },
  {
   "cell_type": "code",
   "execution_count": 19,
   "metadata": {
    "cell_id": "00022-e98fbb2e-6575-40cf-97c6-78ad72f90fc9",
    "deepnote_cell_height": 155.28125,
    "deepnote_cell_type": "code",
    "deepnote_output_heights": [
     40.375
    ],
    "deepnote_to_be_reexecuted": false,
    "execution_millis": 164,
    "execution_start": 1651997802041,
    "source_hash": "41c00dcd"
   },
   "outputs": [
    {
     "data": {
      "text/plain": [
       "array([[   52,    35],\n",
       "       [ 5761, 11357]])"
      ]
     },
     "execution_count": 19,
     "metadata": {},
     "output_type": "execute_result"
    }
   ],
   "source": [
    "# Display the confusion matrix\n",
    "confusion_matrix(y_test, y_pred)"
   ]
  },
  {
   "cell_type": "code",
   "execution_count": 20,
   "metadata": {
    "cell_id": "00023-a77b234e-fc0f-44c8-89dd-bc512f9040d3",
    "deepnote_cell_height": 249.84375,
    "deepnote_cell_type": "code",
    "deepnote_to_be_reexecuted": false,
    "execution_millis": 388,
    "execution_start": 1651997802198,
    "source_hash": "e65b7ce8"
   },
   "outputs": [
    {
     "name": "stdout",
     "output_type": "stream",
     "text": [
      "                   pre       rec       spe        f1       geo       iba       sup\n",
      "\n",
      "  high_risk       0.01      0.60      0.66      0.02      0.63      0.39        87\n",
      "   low_risk       1.00      0.66      0.60      0.80      0.63      0.40     17118\n",
      "\n",
      "avg / total       0.99      0.66      0.60      0.79      0.63      0.40     17205\n",
      "\n"
     ]
    }
   ],
   "source": [
    "# Print the imbalanced classification report\n",
    "print(classification_report_imbalanced(y_test, y_pred))"
   ]
  },
  {
   "cell_type": "markdown",
   "metadata": {
    "cell_id": "00024-c88def80-5661-44a2-b6b4-a95351f49ff8",
    "deepnote_cell_height": 339.4375,
    "deepnote_cell_type": "markdown"
   },
   "source": [
    "# Undersampling\n",
    "\n",
    "In this section, you will test an undersampling algorithms to determine which algorithm results in the best performance compared to the oversampling algorithms above. You will undersample the data using the Cluster Centroids algorithm and complete the folliowing steps:\n",
    "\n",
    "1. View the count of the target classes using `Counter` from the collections library. \n",
    "3. Use the resampled data to train a logistic regression model.\n",
    "3. Calculate the balanced accuracy score from sklearn.metrics.\n",
    "4. Print the confusion matrix from sklearn.metrics.\n",
    "5. Generate a classication report using the `imbalanced_classification_report` from imbalanced-learn.\n",
    "\n",
    "Note: Use a random state of 1 for each sampling algorithm to ensure consistency between tests"
   ]
  },
  {
   "cell_type": "code",
   "execution_count": 21,
   "metadata": {
    "cell_id": "00025-5989e0c4-3646-4f9f-a4fe-4f06f84ea503",
    "deepnote_cell_height": 226.09375,
    "deepnote_cell_type": "code",
    "deepnote_output_heights": [
     21.1875
    ],
    "deepnote_to_be_reexecuted": false,
    "execution_millis": 236440,
    "execution_start": 1651997802642,
    "source_hash": "83b94f28"
   },
   "outputs": [
    {
     "data": {
      "text/plain": [
       "Counter({'high_risk': 260, 'low_risk': 260})"
      ]
     },
     "execution_count": 21,
     "metadata": {},
     "output_type": "execute_result"
    }
   ],
   "source": [
    "# Resample the data using the ClusterCentroids resampler\n",
    "# Warning: This is a large dataset, and this step may take some time to complete\n",
    "cluster_centroids = ClusterCentroids(random_state=1)\n",
    "X_resampled, y_resampled = cluster_centroids.fit_resample(X_train, y_train)\n",
    "\n",
    "# Show balance of classes\n",
    "Counter(y_resampled['loan_status'])"
   ]
  },
  {
   "cell_type": "code",
   "execution_count": 22,
   "metadata": {
    "cell_id": "00026-a3157cf6-994c-4d8d-ad93-54cafe39dd80",
    "deepnote_cell_height": 154.09375,
    "deepnote_cell_type": "code",
    "deepnote_output_heights": [
     21.1875
    ],
    "deepnote_to_be_reexecuted": false,
    "execution_millis": 309,
    "execution_start": 1651998039082,
    "source_hash": "6ac9403a"
   },
   "outputs": [
    {
     "data": {
      "text/plain": [
       "LogisticRegression(random_state=1)"
      ]
     },
     "execution_count": 22,
     "metadata": {},
     "output_type": "execute_result"
    }
   ],
   "source": [
    "# Train the Logistic Regression model using the resampled data\n",
    "model = LogisticRegression(solver='lbfgs', random_state=1)\n",
    "model.fit(X_resampled, y_resampled)"
   ]
  },
  {
   "cell_type": "code",
   "execution_count": 23,
   "metadata": {
    "cell_id": "00027-e0e89e48-22ec-4ebe-96af-30ab1d66ab11",
    "deepnote_cell_height": 154.09375,
    "deepnote_cell_type": "code",
    "deepnote_output_heights": [
     21.1875
    ],
    "deepnote_to_be_reexecuted": false,
    "execution_millis": 270,
    "execution_start": 1651998039160,
    "source_hash": "1f3b1c6d"
   },
   "outputs": [
    {
     "data": {
      "text/plain": [
       "0.5293026900499977"
      ]
     },
     "execution_count": 23,
     "metadata": {},
     "output_type": "execute_result"
    }
   ],
   "source": [
    "# Calculated the balanced accuracy score\n",
    "y_pred = model.predict(X_test)\n",
    "balanced_accuracy_score(y_test, y_pred)"
   ]
  },
  {
   "cell_type": "code",
   "execution_count": 24,
   "metadata": {
    "cell_id": "00028-fea5d800-7ad4-44f3-9e80-b9db4e09e5a1",
    "deepnote_cell_height": 155.28125,
    "deepnote_cell_type": "code",
    "deepnote_output_heights": [
     40.375
    ],
    "deepnote_to_be_reexecuted": false,
    "execution_millis": 109,
    "execution_start": 1651998039481,
    "source_hash": "41c00dcd"
   },
   "outputs": [
    {
     "data": {
      "text/plain": [
       "array([[  53,   34],\n",
       "       [9425, 7693]])"
      ]
     },
     "execution_count": 24,
     "metadata": {},
     "output_type": "execute_result"
    }
   ],
   "source": [
    "# Display the confusion matrix\n",
    "confusion_matrix(y_test, y_pred)"
   ]
  },
  {
   "cell_type": "code",
   "execution_count": 25,
   "metadata": {
    "cell_id": "00029-16431ad1-16bc-4f5b-8a5e-533431c6c8b2",
    "deepnote_cell_height": 249.84375,
    "deepnote_cell_type": "code",
    "deepnote_to_be_reexecuted": false,
    "execution_millis": 784,
    "execution_start": 1651998039615,
    "source_hash": "e65b7ce8"
   },
   "outputs": [
    {
     "name": "stdout",
     "output_type": "stream",
     "text": [
      "                   pre       rec       spe        f1       geo       iba       sup\n",
      "\n",
      "  high_risk       0.01      0.61      0.45      0.01      0.52      0.28        87\n",
      "   low_risk       1.00      0.45      0.61      0.62      0.52      0.27     17118\n",
      "\n",
      "avg / total       0.99      0.45      0.61      0.62      0.52      0.27     17205\n",
      "\n"
     ]
    }
   ],
   "source": [
    "# Print the imbalanced classification report\n",
    "print(classification_report_imbalanced(y_test, y_pred))"
   ]
  },
  {
   "cell_type": "markdown",
   "metadata": {
    "cell_id": "00030-eb715bce-d8be-4aa4-999b-813198c39cc6",
    "deepnote_cell_height": 339.4375,
    "deepnote_cell_type": "markdown"
   },
   "source": [
    "# Combination (Over and Under) Sampling\n",
    "\n",
    "In this section, you will test a combination over- and under-sampling algorithm to determine if the algorithm results in the best performance compared to the other sampling algorithms above. You will resample the data using the SMOTEENN algorithm and complete the folliowing steps:\n",
    "\n",
    "1. View the count of the target classes using `Counter` from the collections library. \n",
    "3. Use the resampled data to train a logistic regression model.\n",
    "3. Calculate the balanced accuracy score from sklearn.metrics.\n",
    "4. Print the confusion matrix from sklearn.metrics.\n",
    "5. Generate a classication report using the `imbalanced_classification_report` from imbalanced-learn.\n",
    "\n",
    "Note: Use a random state of 1 for each sampling algorithm to ensure consistency between tests"
   ]
  },
  {
   "cell_type": "code",
   "execution_count": 26,
   "metadata": {
    "cell_id": "00031-c29a84a0-ed73-4b8b-be1e-3fc73b03580d",
    "deepnote_cell_height": 226.09375,
    "deepnote_cell_type": "code",
    "deepnote_output_heights": [
     21.1875
    ],
    "deepnote_to_be_reexecuted": false,
    "execution_millis": 278694,
    "execution_start": 1651998040400,
    "source_hash": "71a56505"
   },
   "outputs": [
    {
     "data": {
      "text/plain": [
       "Counter({'high_risk': 51344, 'low_risk': 46388})"
      ]
     },
     "execution_count": 26,
     "metadata": {},
     "output_type": "execute_result"
    }
   ],
   "source": [
    "# Resample the training data with SMOTEENN\n",
    "# Warning: This is a large dataset, and this step may take some time to complete\n",
    "smote_enn = SMOTEENN(random_state=0)\n",
    "X_resampled, y_resampled = smote_enn.fit_resample(X_train, y_train)\n",
    "\n",
    "# Show balance of classes\n",
    "Counter(y_resampled['loan_status'])"
   ]
  },
  {
   "cell_type": "code",
   "execution_count": 27,
   "metadata": {
    "cell_id": "00032-09c22d7e-1c00-436e-8049-b270fd7d4a67",
    "deepnote_cell_height": 153.9375,
    "deepnote_cell_type": "code",
    "deepnote_output_heights": [
     21.1875
    ],
    "deepnote_to_be_reexecuted": false,
    "execution_millis": 6200,
    "execution_start": 1651998319094,
    "source_hash": "6ac9403a"
   },
   "outputs": [
    {
     "data": {
      "text/plain": [
       "LogisticRegression(random_state=1)"
      ]
     },
     "execution_count": 27,
     "metadata": {},
     "output_type": "execute_result"
    }
   ],
   "source": [
    "# Train the Logistic Regression model using the resampled data\n",
    "model = LogisticRegression(solver='lbfgs', random_state=1)\n",
    "model.fit(X_resampled, y_resampled)"
   ]
  },
  {
   "cell_type": "code",
   "execution_count": 28,
   "metadata": {
    "cell_id": "00033-20cdfc28-31a4-405f-abee-1efea0e203cc",
    "deepnote_cell_height": 154.09375,
    "deepnote_cell_type": "code",
    "deepnote_output_heights": [
     21.1875
    ],
    "deepnote_to_be_reexecuted": false,
    "execution_millis": 180,
    "execution_start": 1651998325308,
    "source_hash": "1f3b1c6d"
   },
   "outputs": [
    {
     "data": {
      "text/plain": [
       "0.6266583672762287"
      ]
     },
     "execution_count": 28,
     "metadata": {},
     "output_type": "execute_result"
    }
   ],
   "source": [
    "# Calculated the balanced accuracy score\n",
    "y_pred = model.predict(X_test)\n",
    "balanced_accuracy_score(y_test, y_pred)"
   ]
  },
  {
   "cell_type": "code",
   "execution_count": 29,
   "metadata": {
    "cell_id": "00034-c6c0b79b-2e68-4ca3-a902-d29163d579f0",
    "deepnote_cell_height": 155.28125,
    "deepnote_cell_type": "code",
    "deepnote_output_heights": [
     40.375
    ],
    "deepnote_to_be_reexecuted": false,
    "execution_millis": 88,
    "execution_start": 1651998325521,
    "source_hash": "41c00dcd"
   },
   "outputs": [
    {
     "data": {
      "text/plain": [
       "array([[  61,   26],\n",
       "       [7666, 9452]])"
      ]
     },
     "execution_count": 29,
     "metadata": {},
     "output_type": "execute_result"
    }
   ],
   "source": [
    "# Display the confusion matrix\n",
    "confusion_matrix(y_test, y_pred)"
   ]
  },
  {
   "cell_type": "code",
   "execution_count": 30,
   "metadata": {
    "cell_id": "00035-9346b13f-16dd-47f8-9871-0cd639f2c2e6",
    "deepnote_cell_height": 249.9375,
    "deepnote_cell_type": "code",
    "deepnote_to_be_reexecuted": false,
    "execution_millis": 636,
    "execution_start": 1651998325611,
    "owner_user_id": "7a269c9e-bc82-457d-acfa-01c784ecc0b4",
    "source_hash": "e65b7ce8"
   },
   "outputs": [
    {
     "name": "stdout",
     "output_type": "stream",
     "text": [
      "                   pre       rec       spe        f1       geo       iba       sup\n",
      "\n",
      "  high_risk       0.01      0.70      0.55      0.02      0.62      0.39        87\n",
      "   low_risk       1.00      0.55      0.70      0.71      0.62      0.38     17118\n",
      "\n",
      "avg / total       0.99      0.55      0.70      0.71      0.62      0.38     17205\n",
      "\n"
     ]
    }
   ],
   "source": [
    "# Print the imbalanced classification report\n",
    "print(classification_report_imbalanced(y_test, y_pred))"
   ]
  },
  {
   "cell_type": "code",
   "execution_count": 30,
   "metadata": {
    "cell_id": "00036-52d915dc-16c0-4def-8f27-22a2612f0d0a",
    "deepnote_cell_height": 80.9375,
    "deepnote_cell_type": "code",
    "deepnote_to_be_reexecuted": false,
    "execution_millis": 5604001,
    "execution_start": 1651998326248,
    "source_hash": "b623e53d"
   },
   "outputs": [],
   "source": []
  }
 ],
 "metadata": {
  "deepnote": {},
  "deepnote_execution_queue": [],
  "deepnote_notebook_id": "d04e4e11-6b90-4d68-b6b6-05eaa31e094b",
  "kernelspec": {
   "display_name": "PythonData",
   "language": "python",
   "name": "pythondata"
  },
  "language_info": {
   "codemirror_mode": {
    "name": "ipython",
    "version": 3
   },
   "file_extension": ".py",
   "mimetype": "text/x-python",
   "name": "python",
   "nbconvert_exporter": "python",
   "pygments_lexer": "ipython3",
   "version": "3.7.11"
  }
 },
 "nbformat": 4,
 "nbformat_minor": 4
}
